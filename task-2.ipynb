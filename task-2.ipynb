{
 "cells": [
  {
   "cell_type": "code",
   "execution_count": 60,
   "id": "cf4f8faf",
   "metadata": {},
   "outputs": [],
   "source": [
    "import pandas as pd\n",
    "import numpy as np"
   ]
  },
  {
   "cell_type": "code",
   "execution_count": 61,
   "id": "f479ec56",
   "metadata": {},
   "outputs": [
    {
     "data": {
      "text/html": [
       "<div>\n",
       "<style scoped>\n",
       "    .dataframe tbody tr th:only-of-type {\n",
       "        vertical-align: middle;\n",
       "    }\n",
       "\n",
       "    .dataframe tbody tr th {\n",
       "        vertical-align: top;\n",
       "    }\n",
       "\n",
       "    .dataframe thead th {\n",
       "        text-align: right;\n",
       "    }\n",
       "</style>\n",
       "<table border=\"1\" class=\"dataframe\">\n",
       "  <thead>\n",
       "    <tr style=\"text-align: right;\">\n",
       "      <th></th>\n",
       "      <th>Restaurant ID</th>\n",
       "      <th>Restaurant Name</th>\n",
       "      <th>Country Code</th>\n",
       "      <th>City</th>\n",
       "      <th>Address</th>\n",
       "      <th>Locality</th>\n",
       "      <th>Locality Verbose</th>\n",
       "      <th>Longitude</th>\n",
       "      <th>Latitude</th>\n",
       "      <th>Cuisines</th>\n",
       "      <th>...</th>\n",
       "      <th>Currency</th>\n",
       "      <th>Has Table booking</th>\n",
       "      <th>Has Online delivery</th>\n",
       "      <th>Is delivering now</th>\n",
       "      <th>Switch to order menu</th>\n",
       "      <th>Price range</th>\n",
       "      <th>Aggregate rating</th>\n",
       "      <th>Rating color</th>\n",
       "      <th>Rating text</th>\n",
       "      <th>Votes</th>\n",
       "    </tr>\n",
       "  </thead>\n",
       "  <tbody>\n",
       "    <tr>\n",
       "      <th>0</th>\n",
       "      <td>6317637</td>\n",
       "      <td>Le Petit Souffle</td>\n",
       "      <td>162</td>\n",
       "      <td>Makati City</td>\n",
       "      <td>Third Floor, Century City Mall, Kalayaan Avenu...</td>\n",
       "      <td>Century City Mall, Poblacion, Makati City</td>\n",
       "      <td>Century City Mall, Poblacion, Makati City, Mak...</td>\n",
       "      <td>121.027535</td>\n",
       "      <td>14.565443</td>\n",
       "      <td>French, Japanese, Desserts</td>\n",
       "      <td>...</td>\n",
       "      <td>Botswana Pula(P)</td>\n",
       "      <td>Yes</td>\n",
       "      <td>No</td>\n",
       "      <td>No</td>\n",
       "      <td>No</td>\n",
       "      <td>3</td>\n",
       "      <td>4.8</td>\n",
       "      <td>Dark Green</td>\n",
       "      <td>Excellent</td>\n",
       "      <td>314</td>\n",
       "    </tr>\n",
       "  </tbody>\n",
       "</table>\n",
       "<p>1 rows × 21 columns</p>\n",
       "</div>"
      ],
      "text/plain": [
       "   Restaurant ID   Restaurant Name  Country Code         City  \\\n",
       "0        6317637  Le Petit Souffle           162  Makati City   \n",
       "\n",
       "                                             Address  \\\n",
       "0  Third Floor, Century City Mall, Kalayaan Avenu...   \n",
       "\n",
       "                                    Locality  \\\n",
       "0  Century City Mall, Poblacion, Makati City   \n",
       "\n",
       "                                    Locality Verbose   Longitude   Latitude  \\\n",
       "0  Century City Mall, Poblacion, Makati City, Mak...  121.027535  14.565443   \n",
       "\n",
       "                     Cuisines  ...          Currency Has Table booking  \\\n",
       "0  French, Japanese, Desserts  ...  Botswana Pula(P)               Yes   \n",
       "\n",
       "  Has Online delivery Is delivering now Switch to order menu Price range  \\\n",
       "0                  No                No                   No           3   \n",
       "\n",
       "   Aggregate rating  Rating color Rating text Votes  \n",
       "0               4.8    Dark Green   Excellent   314  \n",
       "\n",
       "[1 rows x 21 columns]"
      ]
     },
     "execution_count": 61,
     "metadata": {},
     "output_type": "execute_result"
    }
   ],
   "source": [
    "data=pd.read_csv('Dataset.csv')\n",
    "data.head(1)"
   ]
  },
  {
   "cell_type": "code",
   "execution_count": 62,
   "id": "1453ddb3",
   "metadata": {},
   "outputs": [
    {
     "data": {
      "text/plain": [
       "Index(['Restaurant ID', 'Restaurant Name', 'Country Code', 'City', 'Address',\n",
       "       'Locality', 'Locality Verbose', 'Longitude', 'Latitude', 'Cuisines',\n",
       "       'Average Cost for two', 'Currency', 'Has Table booking',\n",
       "       'Has Online delivery', 'Is delivering now', 'Switch to order menu',\n",
       "       'Price range', 'Aggregate rating', 'Rating color', 'Rating text',\n",
       "       'Votes'],\n",
       "      dtype='object')"
      ]
     },
     "execution_count": 62,
     "metadata": {},
     "output_type": "execute_result"
    }
   ],
   "source": [
    "data.columns"
   ]
  },
  {
   "cell_type": "code",
   "execution_count": 63,
   "id": "a7978b70",
   "metadata": {},
   "outputs": [
    {
     "data": {
      "text/html": [
       "<div>\n",
       "<style scoped>\n",
       "    .dataframe tbody tr th:only-of-type {\n",
       "        vertical-align: middle;\n",
       "    }\n",
       "\n",
       "    .dataframe tbody tr th {\n",
       "        vertical-align: top;\n",
       "    }\n",
       "\n",
       "    .dataframe thead th {\n",
       "        text-align: right;\n",
       "    }\n",
       "</style>\n",
       "<table border=\"1\" class=\"dataframe\">\n",
       "  <thead>\n",
       "    <tr style=\"text-align: right;\">\n",
       "      <th></th>\n",
       "      <th>Locality</th>\n",
       "      <th>City</th>\n",
       "      <th>Cuisines</th>\n",
       "      <th>Average Cost for two</th>\n",
       "      <th>Aggregate rating</th>\n",
       "      <th>Has Online delivery</th>\n",
       "    </tr>\n",
       "  </thead>\n",
       "  <tbody>\n",
       "    <tr>\n",
       "      <th>0</th>\n",
       "      <td>Century City Mall, Poblacion, Makati City</td>\n",
       "      <td>Makati City</td>\n",
       "      <td>French, Japanese, Desserts</td>\n",
       "      <td>1100</td>\n",
       "      <td>4.8</td>\n",
       "      <td>No</td>\n",
       "    </tr>\n",
       "    <tr>\n",
       "      <th>1</th>\n",
       "      <td>Little Tokyo, Legaspi Village, Makati City</td>\n",
       "      <td>Makati City</td>\n",
       "      <td>Japanese</td>\n",
       "      <td>1200</td>\n",
       "      <td>4.5</td>\n",
       "      <td>No</td>\n",
       "    </tr>\n",
       "    <tr>\n",
       "      <th>2</th>\n",
       "      <td>Edsa Shangri-La, Ortigas, Mandaluyong City</td>\n",
       "      <td>Mandaluyong City</td>\n",
       "      <td>Seafood, Asian, Filipino, Indian</td>\n",
       "      <td>4000</td>\n",
       "      <td>4.4</td>\n",
       "      <td>No</td>\n",
       "    </tr>\n",
       "    <tr>\n",
       "      <th>3</th>\n",
       "      <td>SM Megamall, Ortigas, Mandaluyong City</td>\n",
       "      <td>Mandaluyong City</td>\n",
       "      <td>Japanese, Sushi</td>\n",
       "      <td>1500</td>\n",
       "      <td>4.9</td>\n",
       "      <td>No</td>\n",
       "    </tr>\n",
       "    <tr>\n",
       "      <th>4</th>\n",
       "      <td>SM Megamall, Ortigas, Mandaluyong City</td>\n",
       "      <td>Mandaluyong City</td>\n",
       "      <td>Japanese, Korean</td>\n",
       "      <td>1500</td>\n",
       "      <td>4.8</td>\n",
       "      <td>No</td>\n",
       "    </tr>\n",
       "    <tr>\n",
       "      <th>...</th>\n",
       "      <td>...</td>\n",
       "      <td>...</td>\n",
       "      <td>...</td>\n",
       "      <td>...</td>\n",
       "      <td>...</td>\n",
       "      <td>...</td>\n",
       "    </tr>\n",
       "    <tr>\n",
       "      <th>9546</th>\n",
       "      <td>Karak�_y</td>\n",
       "      <td>��stanbul</td>\n",
       "      <td>Turkish</td>\n",
       "      <td>80</td>\n",
       "      <td>4.1</td>\n",
       "      <td>No</td>\n",
       "    </tr>\n",
       "    <tr>\n",
       "      <th>9547</th>\n",
       "      <td>Ko��uyolu</td>\n",
       "      <td>��stanbul</td>\n",
       "      <td>World Cuisine, Patisserie, Cafe</td>\n",
       "      <td>105</td>\n",
       "      <td>4.2</td>\n",
       "      <td>No</td>\n",
       "    </tr>\n",
       "    <tr>\n",
       "      <th>9548</th>\n",
       "      <td>Kuru�_e��me</td>\n",
       "      <td>��stanbul</td>\n",
       "      <td>Italian, World Cuisine</td>\n",
       "      <td>170</td>\n",
       "      <td>3.7</td>\n",
       "      <td>No</td>\n",
       "    </tr>\n",
       "    <tr>\n",
       "      <th>9549</th>\n",
       "      <td>Kuru�_e��me</td>\n",
       "      <td>��stanbul</td>\n",
       "      <td>Restaurant Cafe</td>\n",
       "      <td>120</td>\n",
       "      <td>4.0</td>\n",
       "      <td>No</td>\n",
       "    </tr>\n",
       "    <tr>\n",
       "      <th>9550</th>\n",
       "      <td>Moda</td>\n",
       "      <td>��stanbul</td>\n",
       "      <td>Cafe</td>\n",
       "      <td>55</td>\n",
       "      <td>4.0</td>\n",
       "      <td>No</td>\n",
       "    </tr>\n",
       "  </tbody>\n",
       "</table>\n",
       "<p>9551 rows × 6 columns</p>\n",
       "</div>"
      ],
      "text/plain": [
       "                                        Locality              City  \\\n",
       "0      Century City Mall, Poblacion, Makati City       Makati City   \n",
       "1     Little Tokyo, Legaspi Village, Makati City       Makati City   \n",
       "2     Edsa Shangri-La, Ortigas, Mandaluyong City  Mandaluyong City   \n",
       "3         SM Megamall, Ortigas, Mandaluyong City  Mandaluyong City   \n",
       "4         SM Megamall, Ortigas, Mandaluyong City  Mandaluyong City   \n",
       "...                                          ...               ...   \n",
       "9546                                    Karak�_y         ��stanbul   \n",
       "9547                                   Ko��uyolu         ��stanbul   \n",
       "9548                                 Kuru�_e��me         ��stanbul   \n",
       "9549                                 Kuru�_e��me         ��stanbul   \n",
       "9550                                        Moda         ��stanbul   \n",
       "\n",
       "                              Cuisines  Average Cost for two  \\\n",
       "0           French, Japanese, Desserts                  1100   \n",
       "1                             Japanese                  1200   \n",
       "2     Seafood, Asian, Filipino, Indian                  4000   \n",
       "3                      Japanese, Sushi                  1500   \n",
       "4                     Japanese, Korean                  1500   \n",
       "...                                ...                   ...   \n",
       "9546                           Turkish                    80   \n",
       "9547   World Cuisine, Patisserie, Cafe                   105   \n",
       "9548            Italian, World Cuisine                   170   \n",
       "9549                   Restaurant Cafe                   120   \n",
       "9550                              Cafe                    55   \n",
       "\n",
       "      Aggregate rating Has Online delivery  \n",
       "0                  4.8                  No  \n",
       "1                  4.5                  No  \n",
       "2                  4.4                  No  \n",
       "3                  4.9                  No  \n",
       "4                  4.8                  No  \n",
       "...                ...                 ...  \n",
       "9546               4.1                  No  \n",
       "9547               4.2                  No  \n",
       "9548               3.7                  No  \n",
       "9549               4.0                  No  \n",
       "9550               4.0                  No  \n",
       "\n",
       "[9551 rows x 6 columns]"
      ]
     },
     "execution_count": 63,
     "metadata": {},
     "output_type": "execute_result"
    }
   ],
   "source": [
    "data[['Locality','City','Cuisines','Average Cost for two','Aggregate rating','Has Online delivery']]"
   ]
  },
  {
   "cell_type": "code",
   "execution_count": 64,
   "id": "df567fdd",
   "metadata": {},
   "outputs": [
    {
     "name": "stdout",
     "output_type": "stream",
     "text": [
      "['Century City Mall', 'Little Tokyo', 'Edsa Shangri-La', 'SM Megamall', 'SM Megamall', 'SM Megamall', 'SM by the Bay', 'SM by the Bay', 'Sofitel Philippine Plaza Manila', 'Kapitolyo', 'Kapitolyo', 'Kapitolyo', 'UP Town Center', 'Addition Hills', 'Little Baguio', 'Nuvali', 'Solenad 3', 'Tagaytay City', 'BGC Stopover Pavillion', 'Bonifacio Global City', 'SM Aura Premier', 'SM Aura Premier', 'Asa Norte', 'Asa Norte', 'Asa Norte', 'Asa Norte', 'Asa Sul', 'Asa Sul', 'Asa Sul', 'Asa Sul', 'Asa Sul', 'Asa Sul', '�guas Claras', '�guas Claras', '�guas Claras', 'Bras�_lia Shopping', 'Lago Sul', 'ParkShopping', 'Pont��o Lago Sul', 'Setor De Clubes Esportivos Sul', 'Shopping Iguatemi', 'Sudoeste', 'Barra da Tijuca', 'Centro', 'Copacabana', 'Copacabana', 'Copacabana', 'Galeria River', 'G��vea', 'Ipanema', 'Ipanema', 'Ipanema', 'Lagoa', 'Le Monde', 'Leblon', 'Leblon', 'Leme', 'Leme', 'Madureira', 'Santa Teresa', 'Tijuca', 'Urca', 'Bela Vista', 'Bela Vista', 'Consola�_��o', 'Consola�_��o', 'Hotel Unique', 'Itaim Bibi', 'Itaim Bibi', 'Itaim Bibi', 'Jardim Paulista', 'Jardim Paulista', 'Jardim Paulista', 'Moema', 'Pinheiros', 'Rep�_blica', 'Rep�_blica', 'Shopping Metr�� Santa Cruz', 'Shopping Morumbi', 'Vila Maria', 'Vila Mariana', 'Vila S��nia', 'Albany', 'Albany', 'Albany', 'Albany', 'Albany', 'Albany', 'Albany', 'Albany', 'Albany', 'Albany', 'Albany', 'Albany', 'Albany', 'Albany', 'Albany', 'Albany', 'Albany', 'Albany', 'Albany', 'Sylvester', 'Armidale', 'Athens', 'Athens', 'Athens', 'Athens', 'Athens', 'Athens', 'Athens', 'Athens', 'Athens', 'Athens', 'Athens', 'Athens', 'Athens', 'Athens', 'Athens', 'Athens', 'Athens', 'Athens', 'Athens', 'Athens', 'Augusta', 'Augusta', 'Augusta', 'Augusta', 'Augusta', 'Augusta', 'Augusta', 'Augusta', 'Augusta', 'Augusta', 'Augusta', 'Augusta', 'Augusta', 'Augusta', 'Augusta', 'Evans', 'Evans', 'Evans', 'Evans', 'Grovetown', 'Balingup', 'Beechworth', 'Boise', 'Boise', 'Boise', 'Boise', 'Boise', 'Boise', 'Boise', 'Boise', 'Boise', 'Boise', 'Boise', 'Boise', 'Boise', 'Boise', 'Boise', 'Boise', 'Boise', 'Boise', 'Meridian', 'Nampa', 'Cedar Rapids', 'Cedar Rapids', 'Cedar Rapids', 'Cedar Rapids', 'Cedar Rapids', 'Cedar Rapids', 'Cedar Rapids', 'Cedar Rapids', 'Coralville', 'Coralville', 'Iowa City', 'Iowa City', 'Iowa City', 'Iowa City', 'Iowa City', 'Iowa City', 'Iowa City', 'Iowa City', 'Iowa City', 'Marion', 'Chatham-Kent', 'Clatskanie', 'Cochrane', 'Columbus', 'Columbus', 'Columbus', 'Columbus', 'Columbus', 'Columbus', 'Columbus', 'Columbus', 'Columbus', 'Columbus', 'Columbus', 'Columbus', 'Columbus', 'Columbus', 'Columbus', 'Columbus', 'Columbus', 'Columbus', 'Columbus', 'Hamilton', 'Consort', 'Calhoun', 'Calhoun', 'Calhoun', 'Chatsworth', 'Dalton', 'Dalton', 'Dalton', 'Dalton', 'Dalton', 'Dalton', 'Dalton', 'Dalton', 'Fort Oglethorpe', 'Fort Oglethorpe', 'Fort Oglethorpe', 'LaFayette', 'Ringgold', 'Ringgold', 'Ringgold', 'Rock Spring', 'Bettendorf', 'Bettendorf', 'Bettendorf', 'Bettendorf', 'Bettendorf', 'Davenport', 'Davenport', 'Davenport', 'Davenport', 'Davenport', 'Davenport', 'Davenport', 'Davenport', 'Davenport', 'Davenport', 'Davenport', 'Davenport', 'Davenport', 'Davenport', 'Davenport', 'Ames', 'Ames', 'Beaverdale', 'Clive', 'Clive', 'Downtown', 'Downtown', 'Downtown', 'Downtown', 'Downtown', 'Downtown', 'East Village', 'East Village', 'Fairground', 'Greater South Side', 'Johnston', 'Kingman Place Historic District', 'Urbandale', 'West Des Moines', 'West Des Moines', 'Dicky Beach', 'Dubuque', 'Dubuque', 'Dubuque', 'Dubuque', 'Dubuque', 'Dubuque', 'Dubuque', 'Dubuque', 'Dubuque', 'Dubuque', 'Dubuque', 'Dubuque', 'Dubuque', 'Dubuque', 'Dubuque', 'Dubuque', 'Dubuque', 'Dubuque', 'Dubuque', 'Dubuque', 'East Ballina', 'Fernley', 'Flaxton', 'Forrest', 'Braselton', 'Clarkesville', 'Dahlonega', 'Dahlonega', 'Dahlonega', 'Dahlonega', 'Dahlonega', 'Flowery Branch', 'Flowery Branch', 'Flowery Branch', 'Gainesville', 'Gainesville', 'Gainesville', 'Gainesville', 'Gainesville', 'Gainesville', 'Helen', 'Helen', 'Helen', 'Helen', 'Hepburn Springs', 'Hepburn Springs', 'Huskisson', 'Inverloch', 'Lakes Entrance', 'Lakeview', 'Haymarket', 'Lorn', 'Macedon', 'Bonaire', 'Macon', 'Macon', 'Macon', 'Macon', 'Macon', 'Macon', 'Macon', 'Macon', 'Macon', 'Macon', 'Warner Robins', 'Warner Robins', 'Warner Robins', 'Warner Robins', 'Warner Robins', 'Warner Robins', 'Warner Robins', 'Warner Robins', 'Warner Robins', 'Mayfield', 'Mc Millan', 'Middleton Beach', 'Miller', 'Monroe', 'Montville', 'Ojo Caliente', 'Church Street District', 'Disney World Area', 'Disney: Downtown Disney', 'Disney: Downtown Disney', 'I-Drive/Universal', 'I-Drive/Universal', 'I-Drive/Universal', 'I-Drive/Universal', 'Mills 50', 'Mills 50', 'Restaurant Row', 'Sanford', 'The Milk District', 'Windermere', 'Winter Park', 'Winter Park', 'Winter Park', 'Winter Park', 'Winter Park', 'Winter Park', 'Palm Cove', 'Paynesville', 'Penola', 'Navarre', 'Pensacola', 'Pensacola', 'Pensacola', 'Pensacola', 'Pensacola', 'Pensacola', 'Pensacola', 'Pensacola', 'Pensacola', 'Pensacola', 'Pensacola', 'Pensacola', 'Pensacola Beach', 'Pensacola Beach', 'Pensacola Beach', 'Pensacola Beach', 'Pensacola Beach', 'Perdido Key', 'Perdido Key', 'Phillip Island', 'Blackfoot', 'Chubbuck', 'Lava Hot Springs', 'Lava Hot Springs', 'Pocatello', 'Pocatello', 'Pocatello', 'Pocatello', 'Pocatello', 'Pocatello', 'Pocatello', 'Pocatello', 'Pocatello', 'Pocatello', 'Pocatello', 'Pocatello', 'Pocatello', 'Pocatello', 'Pocatello', 'Pocatello', 'Potrero', 'Princeton', 'Kahuku', 'Kailua Kona', 'Kaimuki', 'Kihei', 'Kihei', 'Kihei', 'Kihei', 'Lahaina', 'Lahaina', 'Lahaina', 'Lahaina', 'Lahaina', 'Paia', 'Waikiki', 'Waikiki', 'Waikiki', 'Waikiki', 'Waikiki', 'Waikiki', 'Waikiki', 'Savannah', 'Savannah', 'Savannah', 'Savannah', 'Savannah', 'Savannah', 'Savannah', 'Savannah', 'Savannah', 'Savannah', 'Savannah', 'Savannah', 'Savannah', 'Savannah', 'Savannah', 'Savannah', 'Savannah', 'Savannah', 'Tybee Island', 'Tybee Island', 'Bayfront Avenue', 'Bayfront Subzone', 'Cantonment Road', 'Chinatown', 'City Hall', 'Duxton Hill', 'Haji Lane', 'Hillcrest', 'Kay Siang Road', 'Lavender', 'Lavender', 'Marina Centre', 'Marina Centre', 'Marina Centre', 'Neil Road', 'North Bridge Road', 'Robertson Quay', 'Sungai Pinang', 'Telok Ayer Street', 'Victoria', 'Le Mars', 'Sioux City', 'Sioux City', 'Sioux City', 'Sioux City', 'Sioux City', 'Sioux City', 'Sioux City', 'Sioux City', 'Sioux City', 'Sioux City', 'Sioux City', 'Sioux City', 'Sioux City', 'Sioux City', 'Sioux City', 'Sioux City', 'Sioux City', 'Sioux City', 'South Sioux City', 'Clearwater', 'Downtown St Petersburg', 'Downtown St Petersburg', 'Downtown St Petersburg', 'Downtown St Petersburg', 'Hyde Park', 'Hyde Park', 'Hyde Park', 'Hyde Park', 'Hyde Park', 'Indian Rocks/Indian Shores', 'Kenwood', 'Madeira Beach/Redington Beach', 'New Tampa', 'Northeast St Petersburg', 'Palma Ceia', 'Seminole Heights', 'Seminole Heights', 'Seminole Heights', 'Ybor City', 'Tanunda', 'Trentham East', 'Valdosta', 'Valdosta', 'Valdosta', 'Valdosta', 'Valdosta', 'Valdosta', 'Valdosta', 'Valdosta', 'Valdosta', 'Valdosta', 'Valdosta', 'Valdosta', 'Valdosta', 'Valdosta', 'Valdosta', 'Valdosta', 'Valdosta', 'Valdosta', 'Valdosta', 'Valdosta', 'Vernonia', 'Victor Harbor', 'Vineland Station', 'Cedar Falls', 'Cedar Falls', 'Cedar Falls', 'Cedar Falls', 'Cedar Falls', 'Cedar Falls', 'Cedar Falls', 'Cedar Falls', 'Cedar Falls', 'Cedar Falls', 'Cedar Falls', 'Cedar Falls', 'Cedar Falls', 'Waterloo', 'Waterloo', 'Waterloo', 'Waterloo', 'Waterloo', 'Waterloo', 'Waterloo', 'Weirton', 'Winchester Bay', 'Yorkton', 'Abu Dhabi Mall', 'Abu Dhabi Mall', 'Al Dhafrah', 'Al Dhafrah', 'Al Mushrif', 'Al Wahda Mall', 'Al Wahda Mall', 'Crowne Plaza Abu Dhabi', 'Dalma Mall', 'Madinat Zayed', 'Madinat Zayed Shopping Centre', 'Mushrif Mall', 'Mussafah Sanaiya', 'Najda', 'Najda', 'Najda', 'Venetian Village', 'World Trade Center Mall', 'World Trade Center Mall', 'Yas Mall', 'Al Barari', 'Al Karama', 'Al Karama', 'Barsha 2', 'CITY WALK', 'Deira City Centre Area', 'DIFC', 'Dubai Media City', 'Festival City', 'Jumeirah 1', 'Kite Beach', 'Mall of the Emirates', 'Mankhool', 'Nassima Royal Hotel', 'Satwa', 'The Dubai Mall', 'The Dubai Mall', 'The Dubai Mall', 'Trade Centre Area', 'Umm Hurair', 'Abu Shagara', 'Abu Shagara', 'Abu Shagara', 'Al Khan', 'Al Majaz', 'Al Majaz', 'Al Majaz', 'Al Mareija', 'Al Mareija', 'Al Nahda', 'Al Nahda', 'Al Nud', 'Al Qasba', 'Halwan Suburb', 'Majaz Waterfront', 'Muwailih Commercial', 'Sahara Centre', 'University City', 'University City', 'University City', 'Agra Cantt', 'Agra Cantt', 'Agra Cantt', 'Civil Lines', 'Civil Lines', 'Courtyard by Marriott Agra', 'ITC Mughal', 'ITC Mughal', 'Khandari', 'Radisson Blu', 'Radisson Blu', 'Rakabganj', 'Tajganj', 'Tajganj', 'Tajganj', 'Tajganj', 'Tajganj', 'Tajganj', 'Tajganj', 'Tajganj', 'Ambavadi', 'Ashram Road', 'Bodakdev', 'Bodakdev', 'Bodakdev', 'Bodakdev', 'Bodakdev', 'C G Road', 'Courtyard By Marriott', 'Ellis Bridge', 'Ellis Bridge', 'Ghatlodia', 'Gurukul', 'Gurukul', 'Navrangpura', 'Navrangpura', 'Prahlad Nagar', 'Thaltej', 'The Fern', 'Vastrapur', 'Vastrapur', 'Civil Lines', 'Civil Lines', 'Civil Lines', 'Civil Lines', 'Civil Lines', 'Civil Lines', 'Civil Lines', 'Civil Lines', 'Civil Lines', 'Civil Lines', 'Civil Lines', 'Civil Lines', 'Civil Lines', 'Civil Lines', 'Civil Lines', 'Civil Lines', 'Civil Lines', 'Civil Lines', 'Tagore Town', 'Vinayak City Centre Mall', 'Basant Nagar', 'Basant Nagar', 'Hathi Gate', 'INA Colony', 'INA Colony', 'INA Colony', 'Ranjit Avenue', 'Ranjit Avenue', 'Ranjit Avenue', 'Ranjit Avenue', 'Ranjit Avenue', 'Town Hall', 'Town Hall', 'Town Hall', 'Town Hall', 'Town Hall', 'Town Hall', 'Town Hall', 'White Avenue', 'White Avenue', 'White Avenue', 'Akashwani', 'Chicalthana', 'CIDCO', 'CIDCO', 'CIDCO', 'CIDCO', 'CIDCO', 'CIDCO', 'CIDCO', 'Hotel Green Olive', 'Mondha', 'Nirala Bazar', 'Nirala Bazar', 'Nirala Bazar', 'Nirala Bazar', 'Nyay Nagar', 'Prozone Mall', 'Shahgunj', 'Usmanpura', 'Usmanpura', 'BluPetal Hotel', 'Indiranagar', 'Indiranagar', 'Indiranagar', 'Indiranagar', 'Indiranagar', 'Indiranagar', 'JP Nagar', 'Koramangala 5th Block', 'Koramangala 5th Block', 'Koramangala 5th Block', 'Koramangala 6th Block', 'Koramangala 7th Block', 'Marathahalli', 'Marathahalli', 'New BEL Road', 'Residency Road', 'Sarjapur Road', 'Sarjapur Road', 'UB City', 'Arera Colony', 'Arera Colony', 'Arera Colony', 'Arera Colony', 'Arera Colony', 'DB City', 'DB City', 'DB City', 'Gulmohar Colony', 'Kohefiza', 'Maharana Pratap Nagar', 'Maharana Pratap Nagar', 'Maharana Pratap Nagar', 'Maharana Pratap Nagar', 'Maharana Pratap Nagar', 'Peer Gate Area', 'Sayaji Hotel', 'TT Nagar', 'TT Nagar', 'TT Nagar', 'BMC Bhawani Mall', 'BMC Bhawani Mall', 'Chandrasekharpur', 'Chandrasekharpur', 'Chandrasekharpur', 'Chandrasekharpur', 'Gajapati Nagar', 'Mayfair Lagoon', 'Patia', 'Patia', 'Patia', 'Patia', 'Patia', 'Patia', 'Patia', 'Patia', 'Patia', 'Sahid Nagar', 'Sahid Nagar', 'The Crown', 'Unit 4', 'Chandigarh Industrial Area', 'Elante Mall', 'Elante Mall', 'Elante Mall', 'Elante Mall', 'Elante Mall', 'Sector 26', 'Sector 26', 'Sector 28', 'Sector 35', 'Sector 35', 'Sector 35', 'Sector 35', 'Sector 35', 'Sector 7', 'Sector 7', 'Sector 8', 'Sector 8', 'Adyar', 'Anna Nagar East', 'Anna Nagar East', 'Ashok Nagar', 'Express Avenue Mall', 'Gopalapuram', 'Kilpauk', 'Kotturpuram', 'Mylapore', 'Nungambakkam', 'Nungambakkam', 'Perungudi', 'RA Puram', 'Ramapuram', 'Santhome', 'T. Nagar', 'T. Nagar', 'Velachery', 'Velachery', 'Velachery', 'Gandhipuram', 'Peelamedu', 'Peelamedu', 'Peelamedu', 'Peelamedu', 'Peelamedu', 'Podanur', 'Race Course', 'Race Course', 'Race Course', 'Race Course', 'Race Course', 'Race Course', 'Race Course', 'RS Puram', 'RS Puram', 'Saibaba Colony', 'Saibaba Colony', 'SMS Hotel', 'Town Hall', 'Chukkuwala', 'Chukkuwala', 'Hathibarkala Salwala', 'Hathibarkala Salwala', 'Hathibarkala Salwala', 'Jakhan', 'Jakhan', 'Jakhan', 'Karanpur', 'Karanpur', 'Krishna Nagar', 'Malsi', 'Pacific Mall', 'Paltan Bazaar', 'Race Course', 'Rajpur', 'Rajpur', 'Rajpur', 'Rajpur', 'Rajpur', 'Badarpur Border', 'Badarpur Border', 'Badarpur Border', 'Badarpur Border', 'Badarpur Border', 'Badarpur Border', 'Badarpur Border', 'Badarpur Border', 'Badarpur Border', 'Badkal Lake', 'Charmwood Village', 'Charmwood Village', 'Charmwood Village', 'Charmwood Village', 'Charmwood Village', 'Charmwood Village', 'Crown Interiorz Mall', 'Crown Interiorz Mall', 'Crown Interiorz Mall', 'Crown Interiorz Mall', 'Crown Interiorz Mall', 'Crown Interiorz Mall', 'Crown Interiorz Mall', 'Crown Interiorz Mall', 'Crown Interiorz Mall', 'Crown Interiorz Mall', 'Crown Interiorz Mall', 'Crown Interiorz Mall', 'Crown Plaza Mall', 'Crown Plaza Mall', 'Crown Plaza Mall', 'Crown Plaza Mall', 'Dayal Bagh', 'Eldeco Station 1 Mall', 'Eldeco Station 1 Mall', 'Hotel Saffron Kiran', 'Hotel Saffron Kiran', 'Hotel Saffron Kiran', 'Indraprastha Colony', 'K Hotel', 'NIT', 'NIT', 'NIT', 'NIT', 'Park Plaza', 'Parsavnath City Mall', 'Parsavnath City Mall', 'Parsavnath City Mall', 'Sector 10', 'Sector 10', 'Sector 10', 'Sector 10', 'Sector 10', 'Sector 10', 'Sector 10', 'Sector 10', 'Sector 11', 'Sector 11', 'Sector 11', 'Sector 11', 'Sector 12', 'Sector 12', 'Sector 12', 'Sector 12', 'Sector 12', 'Sector 15', 'Sector 15', 'Sector 15', 'Sector 15', 'Sector 15', 'Sector 15', 'Sector 15', 'Sector 15', 'Sector 15', 'Sector 15', 'Sector 15', 'Sector 15', 'Sector 15', 'Sector 15', 'Sector 15', 'Sector 15', 'Sector 15', 'Sector 15', 'Sector 15', 'Sector 15', 'Sector 15', 'Sector 15', 'Sector 15', 'Sector 15', 'Sector 15', 'Sector 15', 'Sector 15', 'Sector 15', 'Sector 15', 'Sector 15', 'Sector 15', 'Sector 16', 'Sector 16', 'Sector 16', 'Sector 16', 'Sector 16', 'Sector 16', 'Sector 16', 'Sector 16', 'Sector 16', 'Sector 16', 'Sector 16', 'Sector 16', 'Sector 16', 'Sector 16', 'Sector 16', 'Sector 16', 'Sector 16', 'Sector 17', 'Sector 17', 'Sector 17', 'Sector 17', 'Sector 17', 'Sector 17', 'Sector 17', 'Sector 17', 'Sector 17', 'Sector 17', 'Sector 19', 'Sector 19', 'Sector 21', 'Sector 21', 'Sector 21', 'Sector 21', 'Sector 21', 'Sector 21', 'Sector 21', 'Sector 21', 'Sector 21', 'Sector 21', 'Sector 21', 'Sector 21', 'Sector 21', 'Sector 21', 'Sector 28', 'Sector 28', 'Sector 28', 'Sector 28', 'Sector 29', 'Sector 29', 'Sector 30', 'Sector 31', 'Sector 31', 'Sector 31', 'Sector 31', 'Sector 31', 'Sector 31', 'Sector 31', 'Sector 31', 'Sector 31', 'Sector 34', 'Sector 34', 'Sector 35', 'Sector 35', 'Sector 35', 'Sector 35', 'Sector 37', 'Sector 37', 'Sector 37', 'Sector 37', 'Sector 37', 'Sector 37', 'Sector 37', 'Sector 37', 'Sector 37', 'Sector 37', 'Sector 37', 'Sector 37', 'Sector 37', 'Sector 37', 'Sector 37', 'Sector 37', 'Sector 37', 'Sector 37', 'Sector 37', 'Sector 37', 'Sector 41', 'Sector 41', 'Sector 41', 'Sector 42', 'Sector 42', 'Sector 42', 'Sector 43', 'Sector 43', 'Sector 43', 'Sector 43', 'Sector 43', 'Sector 43', 'Sector 43', 'Sector 43', 'Sector 43', 'Sector 43', 'Sector 43', 'Sector 46', 'Sector 46', 'Sector 46', 'Sector 46', 'Sector 49', 'Sector 7', 'Sector 7', 'Sector 7', 'Sector 7', 'Sector 7', 'Sector 7', 'Sector 7', 'Sector 7', 'Sector 7', 'Sector 86', 'Sector 86', 'Sector 86', 'Sector 86', 'Sector 86', 'Sector 86', 'Sector 86', 'Sector 86', 'Sector 86', 'Sector 86', 'Sector 86', 'Sector 9', 'Sector 9', 'Sector 9', 'Sector 9', 'Sector 9', 'SRS Mall', 'Suraj Kund', 'Suraj Kund', 'Suraj Kund', 'Suraj Kund', 'Suraj Kund', 'Suraj Kund', 'Suraj Kund', 'Suraj Kund', 'Suraj Kund', 'Suraj Kund', 'Suraj Kund', 'Suraj Kund', 'Suraj Kund', 'Suraj Kund', 'Suraj Kund', 'Suraj Kund', 'Suraj Kund', 'Suraj Kund', 'Suraj Kund', 'The Atrium', 'The Atrium', 'Vibe by The LaLit Traveller', 'Indirapuram', 'Indirapuram', 'Indirapuram', 'Indirapuram', 'Indirapuram', 'Kaushambi', 'Shipra Mall', 'Shipra Mall', 'Shipra Mall', 'Shipra Mall', 'Shipra Mall', 'Shipra Mall', 'Shipra Mall', 'Shipra Mall', 'Shipra Mall', 'Shipra Mall', 'Shipra Mall', 'Shipra Mall', 'Shipra Mall', 'Shipra Mall', 'Shipra Mall', 'Shipra Mall', 'Shipra Mall', 'Surya Nagar', 'Surya Nagar', 'Anjuna', 'Anjuna', 'Anjuna', 'Anjuna Beach', 'Arambol', 'Baga', 'Baga', 'Baga', 'Betalbatim', 'Calangute', 'Calangute Beach', 'Candolim', 'Candolim', 'Cavelossim', 'Nerul', 'Panaji', 'Panaji', 'Panaji', 'Panaji', 'Vagator', ' ILD Trade Centre Mall', ' ILD Trade Centre Mall', 'Ambience Mall', 'Ambience Mall', 'Ansal Plaza Mall', 'Ansal Plaza Mall', 'Ansal Plaza Mall', 'Ansal Plaza Mall', 'Ardee City', 'Ardee City', 'Ardee City', 'Ardee City', 'Ardee City', 'Ardee City', 'Ardee City', 'Ardee City', 'Ardee City', 'Ardee City', 'Ardee City', 'Ardee City', 'Ardee City', 'Ardee City', 'Ardee City', 'Ardee City', 'Ardee City', 'Ardee City', 'Ardee City', 'Best Western Skycity Hotel', 'Best Western Skycity Hotel', 'Central Arcade', 'Central Plaza Mall', 'Central Plaza Mall', 'Central Plaza Mall', 'Central Plaza Mall', 'Central Plaza Mall', 'Central Plaza Mall', 'Central Plaza Mall', 'Central Plaza Mall', 'Central Plaza Mall', 'Central Plaza Mall', 'Country Inn & Suites by Carlson', 'Country Inn & Suites by Carlson', 'Country Inn & Suites by Carlson', 'Country Inn & Suites By Carlson', 'Country Inn & Suites', 'Courtyard by Marriott', 'Courtyard by Marriott', 'Cross Point Mall', 'Cross Point Mall', 'Cross Point Mall', 'Cross Point Mall', 'Cross Point Mall', 'Cross Point Mall', 'Cross Point Mall', 'Cross Point Mall', 'Crowne Plaza', 'Crowne Plaza', 'Cyber Greens', 'Cyber Hub', 'Cyber Hub', 'Cyber Hub', 'Cyber Hub', 'Cyber Hub', 'Cyber Hub', 'Cyber Hub', 'Cyber Hub', 'Cyber Hub', 'Cyber Hub', 'Cyber Hub', 'Cyber Hub', 'Cyber Hub', 'Cyber Hub', 'Cyber Hub', 'Cyber Hub', 'Cyber Hub', 'Cyber Hub', 'Cyber Hub', 'Cyber Hub', 'Cyber Hub', 'Cyber Hub', 'Cyber Hub', 'Cyber Hub', 'Cyber Hub', 'Cyber Hub', 'Cyber Hub', 'Cyber Hub', 'Cyber Hub', 'Cyber Hub', 'Cyber Hub', 'Cyber Hub', 'Cyber Hub', 'Cyber Hub', 'Cyber Hub', 'Cyber Hub', 'Cyber Hub', 'Cyber Hub', 'Cyber Hub', 'Cyber Hub', 'Cyber Hub', 'DLF Cyber City', 'DLF Cyber City', 'DLF Cyber City', 'DLF Cyber City', 'DLF Cyber City', 'DLF Galleria', 'DLF Galleria', 'DLF Galleria', 'DLF Galleria', 'DLF Galleria', 'DLF Galleria', 'DLF Galleria', 'DLF Galleria', 'DLF Galleria', 'DLF Galleria', 'DLF Galleria', 'DLF Galleria', 'DLF Galleria', 'DLF Galleria', 'DLF Galleria', 'DLF Galleria', 'DLF Galleria', 'DLF Mega Mall', 'DLF Mega Mall', 'DLF Mega Mall', 'DLF Mega Mall', 'DLF Mega Mall', 'DLF Mega Mall', 'DLF Mega Mall', 'DLF Mega Mall', 'DLF Mega Mall', 'DLF Mega Mall', 'DLF Mega Mall', 'DLF Mega Mall', 'DLF Mega Mall', 'DLF Mega Mall', 'DLF Mega Mall', 'DLF Phase 1', 'DLF Phase 1', 'DLF Phase 1', 'DLF Phase 1', 'DLF Phase 1', 'DLF Phase 1', 'DLF Phase 1', 'DLF Phase 1', 'DLF Phase 1', 'DLF Phase 1', 'DLF Phase 1', 'DLF Phase 1', 'DLF Phase 1', 'DLF Phase 1', 'DLF Phase 1', 'DLF Phase 1', 'DLF Phase 1', 'DLF Phase 1', 'DLF Phase 1', 'DLF Phase 1', 'DLF Phase 1', 'DLF Phase 1', 'DLF Phase 1', 'DLF Phase 1', 'DLF Phase 1', 'DLF Phase 1', 'DLF Phase 1', 'DLF Phase 2', 'DLF Phase 2', 'DLF Phase 2', 'DLF Phase 2', 'DLF Phase 2', 'DLF Phase 2', 'DLF Phase 2', 'DLF Phase 2', 'DLF Phase 2', 'DLF Phase 2', 'DLF Phase 3', 'DLF Phase 3', 'DLF Phase 3', 'DLF Phase 3', 'DLF Phase 3', 'DLF Phase 3', 'DLF Phase 3', 'DLF Phase 3', 'DLF Phase 3', 'DLF Phase 3', 'DLF Phase 3', 'DLF Phase 3', 'DLF Phase 3', 'DLF Phase 3', 'DLF Phase 3', 'DLF Phase 3', 'DLF Phase 3', 'DLF Phase 3', 'DLF Phase 3', 'DLF Phase 3', 'DLF Phase 3', 'DLF Phase 3', 'DLF Phase 3', 'DLF Phase 3', 'DLF Phase 3', 'DLF Phase 3', 'DLF Phase 3', 'DLF Phase 3', 'DLF Phase 3', 'DLF Phase 3', 'DLF Phase 3', 'DLF Phase 3', 'DLF Phase 3', 'DLF Phase 3', 'DLF Phase 3', 'DLF Phase 3', 'DLF Phase 3', 'DLF Phase 3', 'DLF Phase 3', 'DLF Phase 3', 'DLF Phase 3', 'DLF Phase 3', 'DLF Phase 3', 'DLF Phase 3', 'DLF Phase 3', 'DLF Phase 3', 'DLF Phase 3', 'DLF Phase 3', 'DLF Phase 3', 'DLF Phase 3', 'DLF Phase 3', 'DLF Phase 3', 'DLF Phase 3', 'DLF Phase 3', 'DLF Phase 3', 'DLF Phase 3', 'DLF Phase 3', 'DLF Phase 3', 'DLF Phase 3', 'DLF Phase 3', 'DLF Phase 3', 'DLF Phase 3', 'DLF Phase 3', 'DLF Phase 3', 'DLF Phase 3', 'DLF Phase 3', 'DLF Phase 3', 'DLF Phase 3', 'DLF Phase 3', 'DLF Phase 4', 'DLF Phase 4', 'DLF Phase 4', 'DLF Phase 4', 'DLF Phase 4', 'DLF Phase 4', 'DLF Phase 4', 'DLF Phase 4', 'DLF Phase 4', 'DLF Phase 4', 'DLF Phase 4', 'DLF Phase 4', 'DLF Phase 4', 'DLF Phase 4', 'DLF Phase 4', 'DLF Phase 4', 'DLF Phase 4', 'DLF Phase 4', 'DLF Phase 4', 'DLF Phase 4', 'DLF Phase 4', 'DLF Phase 5', 'DLF Phase 5', 'DLF Phase 5', 'DLF Phase 5', 'DLF South Point Mall', 'DLF South Point Mall', 'DLF South Point Mall', 'DLF South Point Mall', 'DLF South Point Mall', 'DLF South Point Mall', 'DLF South Point Mall', 'DLF South Point Mall', 'DLF South Point Mall', 'DLF South Point Mall', 'DLF South Point Mall', 'DLF South Point Mall', 'DLF South Point Mall', 'DLF South Point Mall', 'DLF South Point Mall', 'DLF Star Mall', 'DLF Star Mall', 'DoubleTree by Hilton', 'DoubleTree by Hilton', 'DT City Centre Mall', 'DT City Centre Mall', 'DT City Centre Mall', 'DT City Centre Mall', 'DT City Centre Mall', 'DT City Centre Mall', 'DT City Centre Mall', 'DT Mega Mall', 'DT Mega Mall', 'DT Mega Mall', 'DT Mega Mall', 'DT Mega Mall', 'Fortune Select Excalibur', 'Fortune Select Excalibur', 'Fortune Select Global', 'Global Foyer Mall', 'Global Foyer Mall', 'Global Foyer Mall', 'Global Foyer Mall', 'Global Foyer Mall', 'Global Foyer Mall', 'Global Foyer Mall', 'Golf Course Road', 'Golf Course Road', 'Golf Course Road', 'Golf Course Road', 'Golf Course Road', 'Golf Course Road', 'Golf Course Road', 'Golf Course Road', 'Golf Course Road', 'Golf Course Road', 'Golf Course Road', 'Golf Course Road', 'Golf Course Road', 'Golf Course Road', 'Golf Course Road', 'Golf Course Road', 'Golf Course Road', 'Golf Course Road', 'Golf Course Road', 'Golf Course Road', 'Golf Course Road', 'Golf Course Road', 'Golf Course Road', 'Golf Course Road', 'Golf Course Road', 'Golf Course Road', 'Golf Course Road', 'Hong Kong Bazaar Mall', 'Hong Kong Bazaar Mall', 'Hong Kong Bazaar Mall', 'Hotel Clark Inn', 'Hotel Clark Inn', 'Hotel Grenville', 'Hotel Grenville', 'Hotel Haute.Monde', 'Hotel Haute.Monde', 'Huda City Centre Metro Station', 'Huda City Centre Metro Station', 'Huda City Centre Metro Station', 'Huda City Centre Metro Station', 'Huda City Centre Metro Station', 'Huda City Centre Metro Station', 'Huda City Centre Metro Station', 'Hyatt Place Gurgaon', 'Hyatt Place Gurgaon', 'IBIS Hotel', 'JMD Megapolis Mall', 'JMD Regent Arcade Mall', 'JMD Regent Arcade Mall', 'Jukaso It Suites', 'Kingdom of Dreams', 'Kingdom of Dreams', 'Le Meridien Gurgaon', 'Le Meridien Gurgaon', 'Le Meridien Gurgaon', 'Leisure Inn', 'Leisure Inn', 'Leisure Inn', 'Lemon Tree Premier', 'MG Road', 'MG Road', 'MG Road', 'MG Road', 'MG Road', 'MG Road', 'MG Road', 'MG Road', 'MG Road', 'MG Road', 'MG Road', 'MG Road', 'MG Road', 'MG Road', 'MG Road', 'MG Road', 'MG Road', 'MG Road', 'MG Road', 'MG Road', 'MG Road', 'MG Road', 'MG Road', 'MG Road', 'MGF Mega City Mall', 'MGF Mega City Mall', 'MGF Mega City Mall', 'MGF Mega City Mall', 'MGF Metropolis Mall', 'MGF Metropolis Mall', 'MGF Metropolis Mall', 'MGF Metropolis Mall', 'MGF Metropolis Mall', 'MGF Metropolis Mall', 'MGF Metropolitan Mall', 'MGF Metropolitan Mall', 'MGF Metropolitan Mall', 'MGF Metropolitan Mall', 'MGF Metropolitan Mall', 'MGF Metropolitan Mall', 'MGF Metropolitan Mall', 'MGF Metropolitan Mall', 'MGF Metropolitan Mall', 'MGF Metropolitan Mall', 'MGF Metropolitan Mall', 'MGF Metropolitan Mall', 'MGF Metropolitan Mall', 'MGF Metropolitan Mall', 'MGF Metropolitan Mall', 'MGF Metropolitan Mall', 'MGF Metropolitan Mall', 'MGF Metropolitan Mall', 'MGF Metropolitan Mall', 'MGF Metropolitan Mall', 'MGF Metropolitan Mall', 'MGF Metropolitan Mall', 'MGF Metropolitan Mall', 'MGF Metropolitan Mall', 'Ninex City Mart Mall', 'Ninex City Mart Mall', 'Old Railway Road', 'Old Railway Road', 'Old Railway Road', 'Old Railway Road', 'Old Railway Road', 'Old Railway Road', 'Old Railway Road', 'Old Railway Road', 'Old Railway Road', 'Old Railway Road', 'Old Railway Road', 'Old Railway Road', 'Old Railway Road', 'Old Railway Road', 'Old Railway Road', 'Old Railway Road', 'Old Railway Road', 'Old Railway Road', 'Old Railway Road', 'Old Railway Road', 'Old Railway Road', 'Old Railway Road', 'Old Railway Road', 'Old Railway Road', 'Old Railway Road', 'Old Railway Road', 'Old Railway Road', 'Old Railway Road', 'Old Railway Road', 'Old Railway Road', 'Old Railway Road', 'Old Railway Road', 'Old Railway Road', 'Old Railway Road', 'Old Railway Road', 'Old Railway Road', 'Old Railway Road', 'Old Railway Road', 'Old Railway Road', 'Old Railway Road', 'Old Railway Road', 'Omaxe Celebration Mall', 'Omaxe Gurgaon Mall', 'Omaxe Gurgaon Mall', 'Omaxe Gurgaon Mall', 'One Horizon Center', 'One Horizon Center', 'One Horizon Center', 'One Horizon Center', 'One Horizon Center', 'One Horizon Center', 'One Horizon Center', 'One Horizon Center', 'Palam Vihar', 'Palam Vihar', 'Palam Vihar', 'Palam Vihar', 'Palam Vihar', 'Palam Vihar', 'Palam Vihar', 'Palam Vihar', 'Palam Vihar', 'Palam Vihar', 'Palam Vihar', 'Palam Vihar', 'Palam Vihar', 'Palam Vihar', 'Palam Vihar', 'Palam Vihar', 'Palam Vihar', 'Palam Vihar', 'Palam Vihar', 'Palam Vihar', 'Palam Vihar', 'Palam Vihar', 'Palam Vihar', 'Palam Vihar', 'Palam Vihar', 'Palam Vihar', 'Palam Vihar', 'Palam Vihar', 'Palam Vihar', 'Palam Vihar', 'Palam Vihar', 'Palam Vihar', 'Palam Vihar', 'Palam Vihar', 'Palam Vihar', 'Palam Vihar', 'Palam Vihar', 'Palam Vihar', 'Palam Vihar', 'Palam Vihar', 'Palam Vihar', 'Palam Vihar', 'Palam Vihar', 'Palam Vihar', 'Palam Vihar', 'Palam Vihar', 'Palam Vihar', 'Palam Vihar', 'Palam Vihar', 'Park Inn', 'Park Plaza', 'Park Plaza', 'Park Plaza', 'Park Plaza', 'Plaza Mall', 'Qutab Plaza', 'Qutab Plaza', 'Qutab Plaza', 'Qutab Plaza', 'Qutab Plaza', 'Qutab Plaza', 'Qutab Plaza', 'Qutab Plaza', 'Qutab Plaza', 'Qutab Plaza', 'Qutab Plaza', 'Qutab Plaza', 'Qutab Plaza', 'Raheja Mall', 'Raheja Mall', 'Raheja Mall', 'Ramada Gurgaon Central', 'Sadar Bazar', 'Sadar Bazar', 'Sahara Mall', 'Sahara Mall', 'Sector 12', 'Sector 12', 'Sector 12', 'Sector 14', 'Sector 14', 'Sector 14', 'Sector 14', 'Sector 14', 'Sector 14', 'Sector 14', 'Sector 14', 'Sector 14', 'Sector 14', 'Sector 14', 'Sector 14', 'Sector 14', 'Sector 14', 'Sector 14', 'Sector 14', 'Sector 14', 'Sector 14', 'Sector 14', 'Sector 14', 'Sector 14', 'Sector 14', 'Sector 14', 'Sector 14', 'Sector 14', 'Sector 14', 'Sector 14', 'Sector 14', 'Sector 14', 'Sector 14', 'Sector 14', 'Sector 14', 'Sector 14', 'Sector 14', 'Sector 14', 'Sector 14', 'Sector 14', 'Sector 14', 'Sector 14', 'Sector 14', 'Sector 14', 'Sector 14', 'Sector 14', 'Sector 14', 'Sector 14', 'Sector 14', 'Sector 14', 'Sector 14', 'Sector 14', 'Sector 14', 'Sector 14', 'Sector 14', 'Sector 15', 'Sector 15', 'Sector 15', 'Sector 15', 'Sector 15', 'Sector 15', 'Sector 15', 'Sector 15', 'Sector 15', 'Sector 15', 'Sector 15', 'Sector 17', 'Sector 17', 'Sector 17', 'Sector 17', 'Sector 17', 'Sector 17', 'Sector 17', 'Sector 17', 'Sector 17', 'Sector 17', 'Sector 17', 'Sector 17', 'Sector 17', 'Sector 17', 'Sector 17', 'Sector 17', 'Sector 17', 'Sector 17', 'Sector 17', 'Sector 17', 'Sector 17', 'Sector 21', 'Sector 21', 'Sector 21', 'Sector 21', 'Sector 21', 'Sector 21', 'Sector 21', 'Sector 22', 'Sector 22', 'Sector 22', 'Sector 22', 'Sector 22', 'Sector 22', 'Sector 22', 'Sector 22', 'Sector 22', 'Sector 23', 'Sector 23', 'Sector 23', 'Sector 23', 'Sector 23', 'Sector 23', 'Sector 23', 'Sector 23', 'Sector 23', 'Sector 23', 'Sector 23', 'Sector 23', 'Sector 29', 'Sector 29', 'Sector 29', 'Sector 29', 'Sector 29', 'Sector 29', 'Sector 29', 'Sector 29', 'Sector 29', 'Sector 29', 'Sector 29', 'Sector 29', 'Sector 29', 'Sector 29', 'Sector 29', 'Sector 29', 'Sector 29', 'Sector 29', 'Sector 29', 'Sector 29', 'Sector 29', 'Sector 29', 'Sector 29', 'Sector 29', 'Sector 29', 'Sector 29', 'Sector 29', 'Sector 29', 'Sector 29', 'Sector 29', 'Sector 29', 'Sector 29', 'Sector 29', 'Sector 29', 'Sector 29', 'Sector 29', 'Sector 29', 'Sector 29', 'Sector 30', 'Sector 30', 'Sector 31', 'Sector 31', 'Sector 31', 'Sector 31', 'Sector 31', 'Sector 31', 'Sector 31', 'Sector 31', 'Sector 31', 'Sector 31', 'Sector 31', 'Sector 31', 'Sector 31', 'Sector 31', 'Sector 31', 'Sector 31', 'Sector 31', 'Sector 31', 'Sector 31', 'Sector 31', 'Sector 31', 'Sector 31', 'Sector 31', 'Sector 31', 'Sector 31', 'Sector 31', 'Sector 31', 'Sector 31', 'Sector 31', 'Sector 31', 'Sector 31', 'Sector 31', 'Sector 31', 'Sector 31', 'Sector 31', 'Sector 39', 'Sector 39', 'Sector 39', 'Sector 39', 'Sector 39', 'Sector 39', 'Sector 39', 'Sector 39', 'Sector 39', 'Sector 39', 'Sector 39', 'Sector 39', 'Sector 39', 'Sector 39', 'Sector 39', 'Sector 39', 'Sector 39', 'Sector 39', 'Sector 39', 'Sector 39', 'Sector 43', 'Sector 43', 'Sector 43', 'Sector 45', 'Sector 45', 'Sector 45', 'Sector 45', 'Sector 45', 'Sector 45', 'Sector 45', 'Sector 45', 'Sector 45', 'Sector 45', 'Sector 45', 'Sector 45', 'Sector 45', 'Sector 45', 'Sector 45', 'Sector 45', 'Sector 45', 'Sector 45', 'Sector 45', 'Sector 45', 'Sector 45', 'Sector 45', 'Sector 45', 'Sector 45', 'Sector 45', 'Sector 45', 'Sector 45', 'Sector 45', 'Sector 45', 'Sector 45', 'Sector 45', 'Sector 5', 'Sector 50', 'Sector 50', 'Sector 53', 'Sector 54', 'Sector 54', 'Sector 56', 'Sector 56', 'Sector 56', 'Sector 56', 'Sector 56', 'Sector 56', 'Sector 56', 'Sector 56', 'Sector 56', 'Sector 56', 'Sector 56', 'Sector 56', 'Sector 56', 'Sector 56', 'Sector 56', 'Sector 56', 'Sector 56', 'Sector 56', 'Sector 56', 'Sector 56', 'Sector 56', 'Sector 56', 'Sector 56', 'Sector 56', 'Sector 56', 'Sector 56', 'Sector 56', 'Sector 56', 'Sector 56', 'Sector 56', 'Sector 56', 'Sector 56', 'Sector 56', 'Sector 56', 'Sector 56', 'Sector 56', 'Sector 56', 'Sector 56', 'Sector 56', 'Sector 56', 'Sector 56', 'Sector 56', 'Sector 56', 'Sector 56', 'Sector 56', 'Sector 56', 'Sector 56', 'Sector 56', 'Sector 56', 'Sector 56', 'Sector 56', 'Sector 56', 'Sector 56', 'Sector 56', 'Sector 57', 'Sector 57', 'Sector 7', 'Sector 7', 'Sector 7', 'Sector 7', 'Sector 7', 'Sector 7', 'Sector 7', 'Sector 7', 'Sector 7', 'Sector 7', 'Sector 8', 'Sector 8', 'Sector 8', 'Shopping Mall', 'Shopping Mall', 'Shopping Mall', 'Shopping Mall', 'Shopping Mall', 'Shopping Mall', 'Sikandarpur', 'Sikandarpur', 'Sikandarpur', 'Sikandarpur', 'Sohna Road', 'Sohna Road', 'Sohna Road', 'Sohna Road', 'Sohna Road', 'Sohna Road', 'Sohna Road', 'Sohna Road', 'Sohna Road', 'Sohna Road', 'Sohna Road', 'Sohna Road', 'Sohna Road', 'Sohna Road', 'Sohna Road', 'Sohna Road', 'Sohna Road', 'Sohna Road', 'Sohna Road', 'Sohna Road', 'Sohna Road', 'Sohna Road', 'Sohna Road', 'Sohna Road', 'Sohna Road', 'Sohna Road', 'Sohna Road', 'Sohna Road', 'Sohna Road', 'Sohna Road', 'Sohna Road', 'Sohna Road', 'Sohna Road', 'Sohna Road', 'Sohna Road', 'Sohna Road', 'Sohna Road', 'Sohna Road', 'Sohna Road', 'Sohna Road', 'Sohna Road', 'Sohna Road', 'South City 1', 'South City 1', 'South City 2', 'South City 2', 'South City 2', 'South City 2', 'South City 2', 'South City 2', 'South City 2', 'South City 2', 'Suncity Business Tower', 'Suncity Business Tower', 'Supermart 1', 'Supermart 1', 'Supermart 1', 'Supermart 1', 'Supermart 1', 'Supermart 1', 'Supermart 1', 'Supermart 1', 'Supermart 1', 'Supermart 1', 'Supermart 1', 'Supermart 1', 'Supermart 1', 'Supermart 1', 'Supermart 1', 'Supermart 1', 'Supermart 1', 'Sushant Lok', 'Sushant Lok', 'Sushant Lok', 'Sushant Lok', 'Sushant Lok', 'Sushant Lok', 'Sushant Lok', 'Sushant Lok', 'Sushant Lok', 'Sushant Lok', 'Sushant Lok', 'Sushant Lok', 'Sushant Lok', 'Sushant Lok', 'Sushant Lok', 'Sushant Lok', 'Sushant Lok', 'Sushant Lok', 'Sushant Lok', 'Sushant Lok', 'Sushant Lok', 'Sushant Lok', 'Sushant Lok', 'Sushant Lok', 'Sushant Lok', 'Sushant Lok', 'Sushant Lok', 'Sushant Lok', 'Sushant Lok', 'Sushant Lok', 'Sushant Shopping Arcade', 'Sushant Shopping Arcade', 'Sushant Shopping Arcade', 'Sushant Shopping Arcade', 'Sushant Shopping Arcade', 'Sushant Shopping Arcade', 'Sushant Shopping Arcade', 'Sushant Shopping Arcade', 'Sushant Shopping Arcade', 'Sushant Shopping Arcade', 'Sushant Shopping Arcade', 'Sushant Shopping Arcade', 'Sushant Shopping Arcade', 'Sushant Shopping Arcade', 'Sushant Shopping Arcade', 'Sushant Shopping Arcade', 'Sushant Shopping Arcade', 'Sushant Shopping Arcade', 'The Bristol Hotel', 'The Bristol Hotel', 'The Bristol Hotel', 'The Claremont', 'The Galgotias', 'The Habitare Hotel', 'The Habitare Hotel', 'The Oberoi', 'The Pllazio Hotel', 'The Sapphire Mall', 'The Westin Gurgaon', 'The Westin Gurgaon', 'The Westin Gurgaon', 'The Westin Sohna Resort & Spa', 'The Westin Sohna Resort & Spa', 'Trident', 'Trident', 'Two Horizon Center', 'Two Horizon Center', 'Two Horizon Center', 'Udyog Vihar', 'Udyog Vihar', 'Udyog Vihar', 'Udyog Vihar', 'Udyog Vihar', 'Udyog Vihar', 'Udyog Vihar', 'Udyog Vihar', 'Udyog Vihar', 'Udyog Vihar', 'Udyog Vihar', 'Udyog Vihar', 'Udyog Vihar', 'Udyog Vihar', 'Udyog Vihar', 'Udyog Vihar', 'Udyog Vihar', 'Udyog Vihar', 'Udyog Vihar', 'Udyog Vihar', 'Udyog Vihar', 'Udyog Vihar', 'Udyog Vihar', 'Udyog Vihar', 'Udyog Vihar', 'Udyog Vihar', 'Udyog Vihar', 'Udyog Vihar', 'Udyog Vihar', 'Udyog Vihar', 'Udyog Vihar', 'Udyog Vihar', 'Udyog Vihar', 'Udyog Vihar', 'Udyog Vihar', 'Udyog Vihar', 'Udyog Vihar', 'Unitech Cyber Park', 'Unitech Cyber Park', 'Unitech Cyber Park', 'Unitech Cyber Park', 'Unitech Cyber Park', 'Unitech Infospace', 'Unitech Infospace', 'Unitech Infospace', 'Unitech Infospace', 'Unitech Infospace', 'Unitech Infospace', 'Unitech Infospace', 'Unitech Infospace', 'Unitech Infospace', 'Unitech Infospace', 'Unitech Infospace', 'Unitech Infospace', 'Unitech Infospace', 'Unitech Infospace', 'Unitech Infospace', 'Unitech Infospace', 'Unitech Infospace', 'Unitech Infospace', 'Unitech Infospace', 'Unitech Infospace', 'Unitech Infospace', 'Unitech Infospace', 'Unitech Infospace', 'Unitech Infospace', 'Unitech Infospace', 'Vivanta by Taj', 'Vivanta by Taj', 'Vyapar Kendra', 'Vyapar Kendra', 'Vyapar Kendra', 'Vyapar Kendra', 'Vyapar Kendra', 'Vyapar Kendra', 'Vyapar Kendra', 'Vyapar Kendra', 'Vyapar Kendra', 'Vyapar Kendra', 'Vyapar Kendra', 'Vyapar Kendra', 'Vyapar Kendra', 'Vyapar Kendra', 'Vyapar Kendra', 'Vyapar Kendra', 'Vyapar Kendra', 'Vyapar Kendra', 'Vyapar Kendra', 'Vyapar Kendra', 'Vyapar Kendra', 'Vyapar Kendra', 'Vyapar Kendra', 'Vyapar Kendra', 'Woods Resort', 'Anil Plaza', 'Anil Plaza', 'Chandmari', 'Chandmari', 'Christian Basti', 'Christian Basti', 'Christian Basti', 'Christian Basti', 'Dispur', 'Six Mile', 'Ulubari', 'Ulubari', 'Uzan Bazaar', 'Uzan Bazaar', 'Uzan Bazaar', 'Uzan Bazaar', 'Uzan Bazaar', 'Zoo Tiniali', 'Zoo Tiniali', 'Zoo Tiniali', 'Zoo Tiniali', '12th Square Building', 'Banjara Hills', 'Banjara Hills', 'Gachibowli', 'Hitech City', 'Hitech City', 'Holiday Inn Express & Suites', 'Jubilee Hills', 'Jubilee Hills', 'Jubilee Hills', 'Jubilee Hills', 'Jubilee Hills', 'Jubilee Hills', 'Jubilee Hills', 'Kondapur', 'Madhapur', 'Madhapur', \"Ohri' Hitech City\", 'Bhawar Kuan', 'Bhawar Kuan', 'HIG-LIG', 'Infiniti Hotel', 'New Palasia', 'New Palasia', 'New Palasia', 'Old Palasia', 'Old Palasia', 'Radisson Blu Hotel', 'Sayaji Hotel', 'Vijay Nagar', 'Vijay Nagar', 'Vijay Nagar', 'Vijay Nagar', 'Vijay Nagar', 'Vijay Nagar', 'Vijay Nagar', 'Vijay Nagar', 'YN Road', 'C Scheme', 'C Scheme', 'C Scheme', 'C Scheme', 'C Scheme', 'C Scheme', 'Chokhi Dhani Village Resort', 'Civil Lines', 'Civil Lines', 'Devraj Niwas', 'Holiday Inn Jaipur City Centre', 'Holiday Inn Jaipur City Centre', 'Hotel Clarks Amer', 'Lal Kothi', 'Lal Kothi', 'Malviya Nagar', 'Tonk Road', 'Vaishali Nagar', 'Vaishali Nagar', 'Vidhyadhar Nagar', 'Arya Nagar', 'Ashok Nagar', 'Ashok Nagar', 'Ashok Nagar', 'Hotel Royal Cliff', 'IIT Kanpur', 'Mall Road', 'Mall Road', 'Mall Road', 'Mall Road', 'Parade', 'Rave 3', 'Rave Moti', 'Status Club', 'Swaroop Nagar', 'Swaroop Nagar', 'Swaroop Nagar', 'The Landmark Hotel', 'Tilak Nagar', 'Z Square Mall', 'Chittoor Road', 'Edappally', 'Edappally', 'Fort Kochi', 'Grand Hotel', 'Kacheripady', 'Kacheripady', 'Kacheripady', 'Kakkanad', 'Kakkanad', 'Kakkanad', 'Kaloor', 'Kaloor', 'LuLu Mall', 'LuLu Mall', 'Palarivattom', 'Panampilly Nagar', 'Panampilly Nagar', 'Panampilly Nagar', 'Vyttila', 'Acropolis Mall', 'Acropolis Mall', 'Ballygunge', 'Ballygunge', 'Ballygunge', 'Ballygunge', 'Camac Street Area', 'Elgin', 'Golpark', 'Kidderpore', 'Mani Square Mall', 'Park Street Area', 'Park Street Area', 'Park Street Area', 'Park Street Area', 'Quest Mall', 'Sector 5', 'Sector 5', 'Silver Spring Arcade', 'Southern Avenue', 'Aminabad', 'Gomti Nagar', 'Gomti Nagar', 'Gomti Nagar', 'Gomti Nagar', 'Gomti Nagar', 'Gomti Nagar', 'Gomti Nagar', 'Gomti Nagar', 'Gomti Nagar', 'Gomti Nagar', 'Gomti Nagar', 'Gomti Nagar', 'Hazratganj', 'Hazratganj', 'Hazratganj', 'Lalbagh', 'Renaissance Lucknow Hotel', 'Riverside Mall', 'Royal Inn', 'Sadar Bazaar', 'A Hotel', 'Aggar Nagar', 'BRS Nagar', 'Civil Lines', 'Civil Lines', 'Gurdev Nagar', 'Gurdev Nagar', 'Gurdev Nagar', 'Hyatt Regency', 'Main Market', 'Main Market', 'Main Market', 'Main Market', 'Main Market', 'PAU', 'Rajguru Nagar', 'Sarabha Nagar', 'Shastri Nagar', 'Silver Arc Mall', 'Westend Mall', 'Attavar', 'Balmatta', 'Balmatta', 'Balmatta', 'Balmatta', 'Balmatta', 'Balmatta', 'Balmatta', 'Bhavathi', 'Goldfinch Hotel', 'Hampankatta', 'Kadri', 'Kadri', 'Kadri', 'Kankanady', 'Kodailbail', 'KS Rao Nagar', 'Lalbagh', 'Lalbagh', 'The Ocean Pearl', 'Sector 70', 'Azad Nagar', 'Borivali East', 'Borivali West', 'Borivali West', 'Fort', 'Hill Road', 'Juhu', 'Linking Road', 'Lower Parel', 'Lower Parel', 'Lower Parel', 'Majiwada', 'Malad West', 'Malad West', 'Malad West', 'Powai', 'Powai', 'Ramee Guestline Hotel', 'Versova', 'Vile Parle East', 'Chamrajpura', 'Chamrajpura', 'Chamrajpura', 'Doora', 'Gokulam', 'Gokulam', 'Gokulam', 'Ittige Gudu', 'Jayalakhsmipuram', 'Jayalakhsmipuram', 'Jayalakhsmipuram', 'Kuvempunagar', 'Pai Hotels', 'Vijay Nagar', 'Vijay Nagar', 'Vijay Nagar', 'Vijay Nagar', 'Vijay Nagar', 'Vijay Nagar', 'Vijay Nagar', 'Bajaj Nagar', 'Bajaj Nagar', 'Bajaj Nagar', 'Bajaj Nagar', 'Bajaj Nagar', 'Civil Lines', 'Civil Lines', 'Civil Lines', 'Dhantoli', 'Dharampeth', 'Dharampeth', 'Dharampeth', 'Mohan Nagar', 'Pratap Nagar', 'Ramdaspeth', 'Sadar', 'Sitabuldi', 'Sitabuldi', 'Sitabuldi', 'Vivekanand Nagar', 'Anand Wali Goan', 'Anand Wali Goan', 'Anand Wali Goan', 'Bon Vivant', 'Bon Vivant', 'City Center', 'College Road', 'College Road', 'College Road', 'College Road', 'College Road', 'College Road', 'College Road', 'College Road', 'Parijat Nagar', 'Satpur', 'Satpur', 'Satpur', 'Satpur', 'SSK Solitaire', 'Aaya Nagar', 'Adchini', 'Adchini', 'Adchini', 'Adchini', 'Adchini', 'Adchini', 'Adchini', 'Adchini', 'Adchini', 'Adchini', 'Adchini', 'Adchini', 'Adchini', 'Aditya Mega Mall', 'Aditya Mega Mall', 'Aditya Mega Mall', 'Aditya Mega Mall', 'Aerocity', 'Aerocity', 'Aerocity', 'Aerocity', 'Aggarwal City Mall', 'Aggarwal City Mall', 'Aggarwal City Mall', 'Aggarwal City Plaza', 'Aggarwal City Plaza', 'Aggarwal City Plaza', 'Aggarwal City Plaza', 'Aggarwal City Plaza', 'Alaknanda', 'Alaknanda', 'Alaknanda', 'Alaknanda', 'Alaknanda', 'Alaknanda', 'Alaknanda', 'Alaknanda', 'Alaknanda', 'Alaknanda', 'Alaknanda', 'Alaknanda', 'Alaknanda', 'Alaknanda', 'Alaknanda', 'Alaknanda', 'Alaknanda', 'Alaknanda', 'Alaknanda', 'Alaknanda', 'Alaknanda', 'Alaknanda', 'Alaknanda', 'Alaknanda', 'Alaknanda', 'Alaknanda', 'Alaknanda', 'Alaknanda', 'Alaknanda', 'Alaknanda', 'Alaknanda', 'Alaknanda', 'Ambience Mall', 'Ambience Mall', 'Ambience Mall', 'Ambience Mall', 'Ambience Mall', 'Ambience Mall', 'Ambience Mall', 'Ambience Mall', 'Ambience Mall', 'Ambience Mall', 'Ambience Mall', 'Ambience Mall', 'Anand Lok', 'Anand Lok', 'Anand Vihar', 'Anand Vihar', 'Anand Vihar', 'Anand Vihar', 'Anand Vihar', 'Anand Vihar', 'Anand Vihar', 'Anand Vihar', 'Anand Vihar', 'Anand Vihar', 'Anand Vihar', 'Anand Vihar', 'Anand Vihar', 'Anand Vihar', 'Anand Vihar', 'Anand Vihar', 'Anand Vihar', 'Anand Vihar', 'Anand Vihar', 'Anand Vihar', 'Anand Vihar', 'Anand Vihar', 'Anand Vihar', 'Anand Vihar', 'Anand Vihar', 'Anand Vihar', 'Anand Vihar', 'Anand Vihar', 'Anand Vihar', 'Anand Vihar', 'Anand Vihar', 'Anand Vihar', 'Anand Vihar', 'Anand Vihar', 'Anand Vihar', 'Anand Vihar', 'Anand Vihar', 'Anand Vihar', 'Anand Vihar', 'Anand Vihar', 'Anand Vihar', 'Anand Vihar', 'Andaz Delhi', 'Ansal Plaza Mall', 'Ansal Plaza Mall', 'Ansal Plaza Mall', 'Ansal Plaza Mall', 'Ansal Plaza Mall', 'Ansal Plaza Mall', 'Ansal Plaza Mall', 'Ansal Plaza Mall', 'ARSS Mall', 'Asaf Ali Road', 'Asaf Ali Road', 'Asaf Ali Road', 'Ashok Vihar Phase 1', 'Ashok Vihar Phase 1', 'Ashok Vihar Phase 1', 'Ashok Vihar Phase 1', 'Ashok Vihar Phase 1', 'Ashok Vihar Phase 1', 'Ashok Vihar Phase 1', 'Ashok Vihar Phase 1', 'Ashok Vihar Phase 1', 'Ashok Vihar Phase 1', 'Ashok Vihar Phase 1', 'Ashok Vihar Phase 1', 'Ashok Vihar Phase 1', 'Ashok Vihar Phase 1', 'Ashok Vihar Phase 1', 'Ashok Vihar Phase 1', 'Ashok Vihar Phase 1', 'Ashok Vihar Phase 1', 'Ashok Vihar Phase 1', 'Ashok Vihar Phase 1', 'Ashok Vihar Phase 1', 'Ashok Vihar Phase 1', 'Ashok Vihar Phase 1', 'Ashok Vihar Phase 1', 'Ashok Vihar Phase 1', 'Ashok Vihar Phase 1', 'Ashok Vihar Phase 1', 'Ashok Vihar Phase 1', 'Ashok Vihar Phase 1', 'Ashok Vihar Phase 1', 'Ashok Vihar Phase 1', 'Ashok Vihar Phase 1', 'Ashok Vihar Phase 1', 'Ashok Vihar Phase 1', 'Ashok Vihar Phase 1', 'Ashok Vihar Phase 1', 'Ashok Vihar Phase 2', 'Ashok Vihar Phase 2', 'Ashok Vihar Phase 2', 'Ashok Vihar Phase 2', 'Ashok Vihar Phase 2', 'Ashok Vihar Phase 2', 'Ashok Vihar Phase 2', 'Ashok Vihar Phase 2', 'Ashok Vihar Phase 2', 'Ashok Vihar Phase 2', 'Ashok Vihar Phase 2', 'Ashok Vihar Phase 2', 'Ashok Vihar Phase 2', 'Ashok Vihar Phase 2', 'Ashok Vihar Phase 3', 'Ashok Vihar Phase 3', 'Ashok Vihar Phase 3', 'Ashok Vihar Phase 3', 'Ashok Vihar Phase 3', 'Ashok Vihar Phase 3', 'Ashok Vihar Phase 3', 'Ashok Vihar Phase 3', 'Ashok Vihar Phase 3', 'Ashok Vihar Phase 3', 'Ashok Vihar Phase 3', 'Barakhamba Road', 'Barakhamba Road', 'Barakhamba Road', 'Barakhamba Road', 'Barakhamba Road', 'Barakhamba Road', 'Barakhamba Road', 'Barakhamba Road', 'Barakhamba Road', 'Barakhamba Road', 'Barakhamba Road', 'Barakhamba Road', 'Barakhamba Road', 'Barakhamba Road', 'Barakhamba Road', 'Barakhamba Road', 'Basant Lok Market', 'Basant Lok Market', 'Basant Lok Market', 'Basant Lok Market', 'Basant Lok Market', 'Basant Lok Market', 'Basant Lok Market', 'Basant Lok Market', 'Basant Lok Market', 'Basant Lok Market', 'Basant Lok Market', 'Basant Lok Market', 'Basant Lok Market', 'Basant Lok Market', 'Basant Lok Market', 'Bellagio', 'Bellagio', 'Bellagio', 'Best Western Taurus Hotel', 'Bhikaji Cama Place', 'Bhikaji Cama Place', 'Bhikaji Cama Place', 'Bhikaji Cama Place', 'Bhikaji Cama Place', 'Bhikaji Cama Place', 'Bhikaji Cama Place', 'Bhikaji Cama Place', 'Bhikaji Cama Place', 'Centaur Hotel', 'Chanakyapuri', 'Chanakyapuri', 'Chanakyapuri', 'Chanakyapuri', 'Chanakyapuri', 'Chanakyapuri', 'Chanakyapuri', 'Chanakyapuri', 'Chanakyapuri', 'Chanakyapuri', 'Chanakyapuri', 'Chanakyapuri', 'Chanakyapuri', 'Chanakyapuri', 'Chanakyapuri', 'Chanakyapuri', 'Chanakyapuri', 'Chanakyapuri', 'Chanakyapuri', 'Chanakyapuri', 'Chanakyapuri', 'Chanakyapuri', 'Chanakyapuri', 'Chanakyapuri', 'Chanakyapuri', 'Chanakyapuri', 'Chanakyapuri', 'Chanakyapuri', 'Chanakyapuri', 'Chanakyapuri', 'Chanakyapuri', 'Chanakyapuri', 'Chander Nagar', 'Chander Nagar', 'Chander Nagar', 'Chander Nagar', 'Chander Nagar', 'Chander Nagar', 'Chander Nagar', 'Chandni Chowk', 'Chandni Chowk', 'Chandni Chowk', 'Chandni Chowk', 'Chandni Chowk', 'Chandni Chowk', 'Chandni Chowk', 'Chandni Chowk', 'Chandni Chowk', 'Chandni Chowk', 'Chandni Chowk', 'Chandni Chowk', 'Chandni Chowk', 'Chandni Chowk', 'Chandni Chowk', 'Chandni Chowk', 'Chandni Chowk', 'Chandni Chowk', 'Chandni Chowk', 'Chandni Chowk', 'Chandni Chowk', 'Chandni Chowk', 'Chandni Chowk', 'Chandni Chowk', 'Chandni Chowk', 'Chandni Chowk', 'Chandni Chowk', 'Chandni Chowk', 'Chandni Chowk', 'Chandni Chowk', 'Chandni Chowk', 'Chandni Chowk', 'Chandni Chowk', 'Chandni Chowk', 'Chandni Chowk', 'Chandni Chowk', 'Chandni Chowk', 'Chandni Chowk', 'Chandni Chowk', 'Chandni Chowk', 'Chandni Chowk', 'Chandni Chowk', 'Chandni Chowk', 'Chandni Chowk', 'Chandni Chowk', 'Chandni Chowk', 'Chandni Chowk', 'Chandni Chowk', 'Chandni Chowk', 'Chandni Chowk', 'Chandni Chowk', 'Chandni Chowk', 'Chandni Chowk', 'Chandni Chowk', 'Chandni Chowk', 'Chandni Chowk', 'Chandni Chowk', 'Chandni Chowk', 'Chandni Chowk', 'Chandni Chowk', 'Chandni Chowk', 'Chandni Chowk', 'Chandni Chowk', 'Chandni Chowk', 'Chandni Chowk', 'Chandni Chowk', 'Chandni Chowk', 'Chawri Bazar', 'Chawri Bazar', 'Chawri Bazar', 'Chawri Bazar', 'Chawri Bazar', 'Chawri Bazar', 'Chawri Bazar', 'Chawri Bazar', 'Chawri Bazar', 'Chawri Bazar', 'Chawri Bazar', 'Chawri Bazar', 'Chhatarpur', 'Chittaranjan Park', 'Chittaranjan Park', 'Chittaranjan Park', 'Chittaranjan Park', 'Chittaranjan Park', 'Chittaranjan Park', 'Chittaranjan Park', 'Chittaranjan Park', 'Chittaranjan Park', 'Chittaranjan Park', 'Chittaranjan Park', 'Chittaranjan Park', 'Chittaranjan Park', 'Chittaranjan Park', 'Chittaranjan Park', 'Chittaranjan Park', 'Chittaranjan Park', 'Chittaranjan Park', 'Chittaranjan Park', 'Chittaranjan Park', 'Chittaranjan Park', 'Chittaranjan Park', 'Chittaranjan Park', 'Chittaranjan Park', 'Chittaranjan Park', 'Chittaranjan Park', 'Chittaranjan Park', 'Chittaranjan Park', 'Chittaranjan Park', 'Chittaranjan Park', 'Chittaranjan Park', 'Chittaranjan Park', 'Chittaranjan Park', 'Chittaranjan Park', 'Chittaranjan Park', 'Chittaranjan Park', 'Chittaranjan Park', 'Chittaranjan Park', 'Chittaranjan Park', 'Chittaranjan Park', 'Chittaranjan Park', 'Chittaranjan Park', 'Chittaranjan Park', 'Chittaranjan Park', 'Chittaranjan Park', 'Chittaranjan Park', 'City Centre Mall', 'City Square Mall', 'City Square Mall', 'City Square Mall', 'Civil Lines', 'Civil Lines', 'Civil Lines', 'Civil Lines', 'Civil Lines', 'Civil Lines', 'Civil Lines', 'Civil Lines', 'Civil Lines', 'Civil Lines', 'Civil Lines', 'Civil Lines', 'Civil Lines', 'Civil Lines', 'Civil Lines', 'Community Centre', 'Community Centre', 'Community Centre', 'Community Centre', 'Community Centre', 'Community Centre', 'Community Centre', 'Community Centre', 'Community Centre', 'Community Centre', 'Community Centre', 'Community Centre', 'Community Centre', 'Community Centre', 'Community Centre', 'Community Centre', 'Community Centre', 'Community Centre', 'Connaught Place', 'Connaught Place', 'Connaught Place', 'Connaught Place', 'Connaught Place', 'Connaught Place', 'Connaught Place', 'Connaught Place', 'Connaught Place', 'Connaught Place', 'Connaught Place', 'Connaught Place', 'Connaught Place', 'Connaught Place', 'Connaught Place', 'Connaught Place', 'Connaught Place', 'Connaught Place', 'Connaught Place', 'Connaught Place', 'Connaught Place', 'Connaught Place', 'Connaught Place', 'Connaught Place', 'Connaught Place', 'Connaught Place', 'Connaught Place', 'Connaught Place', 'Connaught Place', 'Connaught Place', 'Connaught Place', 'Connaught Place', 'Connaught Place', 'Connaught Place', 'Connaught Place', 'Connaught Place', 'Connaught Place', 'Connaught Place', 'Connaught Place', 'Connaught Place', 'Connaught Place', 'Connaught Place', 'Connaught Place', 'Connaught Place', 'Connaught Place', 'Connaught Place', 'Connaught Place', 'Connaught Place', 'Connaught Place', 'Connaught Place', 'Connaught Place', 'Connaught Place', 'Connaught Place', 'Connaught Place', 'Connaught Place', 'Connaught Place', 'Connaught Place', 'Connaught Place', 'Connaught Place', 'Connaught Place', 'Connaught Place', 'Connaught Place', 'Connaught Place', 'Connaught Place', 'Connaught Place', 'Connaught Place', 'Connaught Place', 'Connaught Place', 'Connaught Place', 'Connaught Place', 'Connaught Place', 'Connaught Place', 'Connaught Place', 'Connaught Place', 'Connaught Place', 'Connaught Place', 'Connaught Place', 'Connaught Place', 'Connaught Place', 'Connaught Place', 'Connaught Place', 'Connaught Place', 'Connaught Place', 'Connaught Place', 'Connaught Place', 'Connaught Place', 'Connaught Place', 'Connaught Place', 'Connaught Place', 'Connaught Place', 'Connaught Place', 'Connaught Place', 'Connaught Place', 'Connaught Place', 'Connaught Place', 'Connaught Place', 'Connaught Place', 'Connaught Place', 'Connaught Place', 'Connaught Place', 'Connaught Place', 'Connaught Place', 'Connaught Place', 'Connaught Place', 'Connaught Place', 'Connaught Place', 'Connaught Place', 'Connaught Place', 'Connaught Place', 'Connaught Place', 'Connaught Place', 'Connaught Place', 'Connaught Place', 'Connaught Place', 'Connaught Place', 'Connaught Place', 'Connaught Place', 'Connaught Place', 'Connaught Place', 'Connaught Place', 'Connaught Place', 'Connaught Place', 'Crescent Square Mall', 'Crescent Square Mall', 'Crescent Square Mall', 'Crescent Square Mall', 'Cross River Mall', 'Cross River Mall', 'Cross River Mall', 'Cross River Mall', 'Cross River Mall', 'Crowne Plaza Hotel', 'Crowne Plaza Hotel', 'Crowne Plaza', 'Crowne Plaza', 'D Mall', 'D Mall', 'D Mall', 'D Mall', 'D Mall', 'Daryaganj', 'Daryaganj', 'Daryaganj', 'Daryaganj', 'Daryaganj', 'Daryaganj', 'Daryaganj', 'Daryaganj', 'Daryaganj', 'Daryaganj', 'Daryaganj', 'Daryaganj', 'Daryaganj', 'Daryaganj', 'Daryaganj', 'Daryaganj', 'Daryaganj', 'Daryaganj', 'Daryaganj', 'Daryaganj', 'Daryaganj', 'Daryaganj', 'Daryaganj', 'Daryaganj', 'Daryaganj', 'Daryaganj', 'Daryaganj', 'Daryaganj', 'Daryaganj', 'Daryaganj', 'Daryaganj', 'Daryaganj', 'Daryaganj', 'Daryaganj', 'Daryaganj', 'Daryaganj', 'Daryaganj', 'Daryaganj', 'Daryaganj', 'Daryaganj', 'Daryaganj', 'Daryaganj', 'Daryaganj', 'DDA Market', 'DDA Market', 'Defence Colony', 'Defence Colony', 'Defence Colony', 'Defence Colony', 'Defence Colony', 'Defence Colony', 'Defence Colony', 'Defence Colony', 'Defence Colony', 'Defence Colony', 'Defence Colony', 'Defence Colony', 'Defence Colony', 'Defence Colony', 'Defence Colony', 'Defence Colony', 'Defence Colony', 'Defence Colony', 'Defence Colony', 'Defence Colony', 'Defence Colony', 'Defence Colony', 'Defence Colony', 'Defence Colony', 'Defence Colony', 'Defence Colony', 'Defence Colony', 'Defence Colony', 'Defence Colony', 'Defence Colony', 'Defence Colony', 'Defence Colony', 'Defence Colony', 'Defence Colony', 'Defence Colony', 'Defence Colony', 'Defence Colony', 'Defence Colony', 'Defence Colony', 'Defence Colony', 'Defence Colony', 'Defence Colony', 'Defence Colony', 'Defence Colony', 'Defence Colony', 'Defence Colony', 'Defence Colony', 'Defence Colony', 'Defence Colony', 'Defence Colony', 'Defence Colony', 'Defence Colony', 'Defence Colony', 'Defence Colony', 'Defence Colony', 'Defence Colony', 'Defence Colony', 'Defence Colony', 'Defence Colony', 'Defence Colony', 'Defence Colony', 'Defence Colony', 'Defence Colony', 'Defence Colony', 'Defence Colony', 'Defence Colony', 'Defence Colony', 'Defence Colony', 'Defence Colony', 'Defence Colony', 'Defence Colony', 'Defence Colony', 'Defence Colony', 'Defence Colony', 'Defence Colony', 'Defence Colony', 'Defence Colony', 'Defence Colony', 'Defence Colony', 'Defence Colony', 'Defence Colony', 'Defence Colony', 'Defence Colony', 'Defence Colony', 'Defence Colony', 'Defence Colony', 'Delhi Cantt.', 'Delhi Cantt.', 'Delhi Cantt.', 'Delhi Cantt.', 'Delhi University-GTB Nagar', 'Delhi University-GTB Nagar', 'Delhi University-GTB Nagar', 'Delhi University-GTB Nagar', 'Delhi University-GTB Nagar', 'Delhi University-GTB Nagar', 'Delhi University-GTB Nagar', 'Delhi University-GTB Nagar', 'Delhi University-GTB Nagar', 'Delhi University-GTB Nagar', 'Delhi University-GTB Nagar', 'Delhi University-GTB Nagar', 'Delhi University-GTB Nagar', 'Delhi University-GTB Nagar', 'Delhi University-GTB Nagar', 'Delhi University-GTB Nagar', 'Delhi University-GTB Nagar', 'Delhi University-GTB Nagar', 'Delhi University-GTB Nagar', 'Delhi University-GTB Nagar', 'Delhi University-GTB Nagar', 'Delhi University-GTB Nagar', 'Delhi University-GTB Nagar', 'Delhi University-GTB Nagar', 'Delhi University-GTB Nagar', 'Delhi University-GTB Nagar', 'Delhi University-GTB Nagar', 'Delhi University-GTB Nagar', 'Delhi University-GTB Nagar', 'Delhi University-GTB Nagar', 'Delhi University-GTB Nagar', 'Delhi University-GTB Nagar', 'Delhi University-GTB Nagar', 'Delhi University-GTB Nagar', 'Delhi University-GTB Nagar', 'Delhi University-GTB Nagar', 'Delhi University-GTB Nagar', 'Delhi University-GTB Nagar', 'Delhi University-GTB Nagar', 'Delhi University-GTB Nagar', 'Delhi University-GTB Nagar', 'Delhi University-GTB Nagar', 'Delhi University-GTB Nagar', 'Delhi University-GTB Nagar', 'Delhi University-GTB Nagar', 'Delhi University-GTB Nagar', 'Delhi University-GTB Nagar', 'Delhi University-GTB Nagar', 'Delhi University-GTB Nagar', 'Delhi University-GTB Nagar', 'Delhi University-GTB Nagar', 'Delhi University-GTB Nagar', 'Delhi University-GTB Nagar', 'Delhi University-GTB Nagar', 'Delhi University-GTB Nagar', 'Delhi University-GTB Nagar', 'Delhi University-GTB Nagar', 'Delhi University-GTB Nagar', 'Delhi University-GTB Nagar', 'Delhi University-GTB Nagar', 'Delhi University-GTB Nagar', 'Delhi University-GTB Nagar', 'Delhi University-GTB Nagar', 'Delhi University-GTB Nagar', 'Delhi University-GTB Nagar', 'Dilli Haat', 'Dilli Haat', 'Dilli Haat', 'Dilli Haat', 'Dilli Haat', 'Dilli Haat', 'Dilli Haat', 'Dilli Haat', 'Dilli Haat', 'Dilli Haat', 'Dilli Haat', 'Dilli Haat', 'Dilli Haat', 'Dilli Haat', 'Dilli Haat', 'Dilli Haat', 'Dilli Haat', 'Dilli Haat', 'Dilli Haat', 'Dilli Haat', 'Dilshad Garden', 'Dilshad Garden', 'Dilshad Garden', 'Dilshad Garden', 'Dilshad Garden', 'Dilshad Garden', 'Dilshad Garden', 'Dilshad Garden', 'Dilshad Garden', 'Dilshad Garden', 'Dilshad Garden', 'Dilshad Garden', 'Dilshad Garden', 'Dilshad Garden', 'Dilshad Garden', 'Dilshad Garden', 'Dilshad Garden', 'Dilshad Garden', 'Dilshad Garden', 'Dilshad Garden', 'Dilshad Garden', 'Dilshad Garden', 'Dilshad Garden', 'Dilshad Garden', 'Dilshad Garden', 'Dilshad Garden', 'Dilshad Garden', 'Dilshad Garden', 'Dilshad Garden', 'Dilshad Garden', 'Dilshad Garden', 'Dilshad Garden', 'Dilshad Garden', 'Dilshad Garden', 'Dilshad Garden', 'Dilshad Garden', 'Dilshad Garden', 'Dilshad Garden', 'Dilshad Garden', 'Dilshad Garden', 'Dilshad Garden', 'Dilshad Garden', 'Dilshad Garden', 'Dilshad Garden', 'Dilshad Garden', 'Dilshad Garden', 'Dilshad Garden', 'Dilshad Garden', 'Dilshad Garden', 'Dilshad Garden', 'Dilshad Garden', 'Dilshad Garden', 'Dilshad Garden', 'Dilshad Garden', 'Dilshad Garden', 'Dilshad Garden', 'Dilshad Garden', 'District Centre', 'District Centre', 'District Centre', 'District Centre', 'District Centre', 'District Centre', 'DLF City Centre Mall', 'DLF City Centre Mall', 'DLF City Centre Mall', 'DLF City Centre Mall', 'DLF City Centre Mall', 'DLF Emporio Mall', 'DLF Emporio Mall', 'DLF Place Mall', 'DLF Place Mall', 'DLF Place Mall', 'DLF Place Mall', 'DLF Place Mall', 'DLF Place Mall', 'DLF Place Mall', 'DLF Place Mall', 'DLF Place Mall', 'DLF Place Mall', 'DLF Place Mall', 'DLF Place Mall', 'DLF Promenade Mall', 'DLF Promenade Mall', 'DLF Promenade Mall', 'DLF Promenade Mall', 'DLF Promenade Mall', 'DLF Promenade Mall', 'DLF Promenade Mall', 'DLF Promenade Mall', 'DLF Promenade Mall', 'DLF Promenade Mall', 'DLF Promenade Mall', 'DLF Promenade Mall', 'DLF Promenade Mall', 'DLF South Square', 'DLF South Square', 'DLF South Square', 'DLF South Square', 'DLF South Square', 'DLF South Square', 'DLF South Square', 'Dr. Zakir Hussain Marg', 'Durga Puri', 'East of Kailash', 'East of Kailash', 'East of Kailash', 'East of Kailash', 'East of Kailash', 'East of Kailash', 'East of Kailash', 'East of Kailash', 'East of Kailash', 'East of Kailash', 'East of Kailash', 'East of Kailash', 'East of Kailash', 'East of Kailash', 'East of Kailash', 'East of Kailash', 'East of Kailash', 'East of Kailash', 'East of Kailash', 'East of Kailash', 'East of Kailash', 'East of Kailash', 'East of Kailash', 'East of Kailash', 'East of Kailash', 'East of Kailash', 'East of Kailash', 'East of Kailash', 'East of Kailash', 'East of Kailash', 'East of Kailash', 'East of Kailash', 'East of Kailash', 'East of Kailash', 'East of Kailash', 'East of Kailash', 'East of Kailash', 'East of Kailash', 'East of Kailash', 'East of Kailash', 'East of Kailash', 'East of Kailash', 'East of Kailash', 'East of Kailash', 'East of Kailash', 'East of Kailash', 'East of Kailash', 'East of Kailash', 'East of Kailash', 'East of Kailash', 'East of Kailash', 'East of Kailash', 'East of Kailash', 'East of Kailash', 'East of Kailash', 'East of Kailash', 'East Patel Nagar', 'East Patel Nagar', 'East Patel Nagar', 'East Patel Nagar', 'East Patel Nagar', 'East Patel Nagar', 'East Patel Nagar', 'East Patel Nagar', 'East Patel Nagar', 'East Patel Nagar', 'East Patel Nagar', 'East Patel Nagar', 'East Patel Nagar', 'East Patel Nagar', 'East Patel Nagar', 'East Patel Nagar', 'East Patel Nagar', 'East Patel Nagar', 'East Patel Nagar', 'East Patel Nagar', 'East Patel Nagar', 'East Patel Nagar', 'East Patel Nagar', 'East Patel Nagar', 'East Patel Nagar', 'East Patel Nagar', 'East Patel Nagar', 'East Patel Nagar', 'East Patel Nagar', 'East Patel Nagar', 'East Patel Nagar', 'East Patel Nagar', 'East Patel Nagar', 'East Patel Nagar', 'East Patel Nagar', 'East Patel Nagar', 'East Patel Nagar', 'East Patel Nagar', 'East Patel Nagar', 'East Patel Nagar', 'East Patel Nagar', 'East Patel Nagar', 'East Patel Nagar', 'East Patel Nagar', 'East Patel Nagar', 'East Patel Nagar', 'East Patel Nagar', 'East Patel Nagar', 'East Patel Nagar', 'East Patel Nagar', 'Epicuria Food Mall', 'Epicuria Food Mall', 'Epicuria Food Mall', 'Epicuria Food Mall', 'Epicuria Food Mall', 'Epicuria Food Mall', 'Epicuria Food Mall', 'Epicuria Food Mall', 'Epicuria Food Mall', 'Epicuria Food Mall', 'Epicuria Food Mall', 'Epicuria Food Mall', 'Epicuria Food Mall', 'Epicuria Food Mall', 'Epicuria Food Mall', 'Epicuria Food Mall', 'Epicuria Food Mall', 'Epicuria Food Mall', 'Epicuria Food Mall', 'Epicuria Food Mall', 'Epicuria Food Mall', 'Eros Hotel', 'Eros Hotel', 'Eros Hotel', 'Eros Hotel', 'Eros Hotel', 'Essex Farms', 'Essex Farms', 'Essex Farms', 'Feroze Shah Road', 'Feroze Shah Road', 'Friends Colony', 'Friends Colony', 'Fun City Mall', 'Fun City Mall', 'Fun City Mall', 'Garden of Five Senses', 'Geeta Colony', 'Geeta Colony', 'Geeta Colony', 'Geeta Colony', 'Geeta Colony', 'Geeta Colony', 'Geeta Colony', 'Geeta Colony', 'Geeta Colony', 'Geeta Colony', 'Geeta Colony', 'Geeta Colony', 'Geeta Colony', 'Geeta Colony', 'Geeta Colony', 'Geeta Colony', 'Geeta Colony', 'Geeta Colony', 'Geeta Colony', 'Geeta Colony', 'Geeta Colony', 'Geeta Colony', 'Geeta Colony', 'Geeta Colony', 'Geeta Colony', 'Geeta Colony', 'Geeta Colony', 'Geeta Colony', 'Geeta Colony', 'Geeta Colony', 'Geeta Colony', 'Geeta Colony', 'Geeta Colony', 'Geeta Colony', 'Ginger Hotel', 'Ginger Hotel', 'Gourmet Hub', 'Greater Kailash (GK) 1', 'Greater Kailash (GK) 1', 'Greater Kailash (GK) 1', 'Greater Kailash (GK) 1', 'Greater Kailash (GK) 1', 'Greater Kailash (GK) 1', 'Greater Kailash (GK) 1', 'Greater Kailash (GK) 1', 'Greater Kailash (GK) 1', 'Greater Kailash (GK) 1', 'Greater Kailash (GK) 1', 'Greater Kailash (GK) 1', 'Greater Kailash (GK) 1', 'Greater Kailash (GK) 1', 'Greater Kailash (GK) 1', 'Greater Kailash (GK) 1', 'Greater Kailash (GK) 1', 'Greater Kailash (GK) 1', 'Greater Kailash (GK) 1', 'Greater Kailash (GK) 1', 'Greater Kailash (GK) 1', 'Greater Kailash (GK) 1', 'Greater Kailash (GK) 1', 'Greater Kailash (GK) 1', 'Greater Kailash (GK) 1', 'Greater Kailash (GK) 1', 'Greater Kailash (GK) 1', 'Greater Kailash (GK) 1', 'Greater Kailash (GK) 1', 'Greater Kailash (GK) 1', 'Greater Kailash (GK) 1', 'Greater Kailash (GK) 1', 'Greater Kailash (GK) 1', 'Greater Kailash (GK) 1', 'Greater Kailash (GK) 1', 'Greater Kailash (GK) 1', 'Greater Kailash (GK) 1', 'Greater Kailash (GK) 1', 'Greater Kailash (GK) 1', 'Greater Kailash (GK) 1', 'Greater Kailash (GK) 1', 'Greater Kailash (GK) 1', 'Greater Kailash (GK) 1', 'Greater Kailash (GK) 1', 'Greater Kailash (GK) 1', 'Greater Kailash (GK) 1', 'Greater Kailash (GK) 1', 'Greater Kailash (GK) 1', 'Greater Kailash (GK) 1', 'Greater Kailash (GK) 1', 'Greater Kailash (GK) 1', 'Greater Kailash (GK) 1', 'Greater Kailash (GK) 1', 'Greater Kailash (GK) 1', 'Greater Kailash (GK) 1', 'Greater Kailash (GK) 1', 'Greater Kailash (GK) 1', 'Greater Kailash (GK) 1', 'Greater Kailash (GK) 1', 'Greater Kailash (GK) 1', 'Greater Kailash (GK) 1', 'Greater Kailash (GK) 1', 'Greater Kailash (GK) 1', 'Greater Kailash (GK) 1', 'Greater Kailash (GK) 1', 'Greater Kailash (GK) 1', 'Greater Kailash (GK) 2', 'Greater Kailash (GK) 2', 'Greater Kailash (GK) 2', 'Greater Kailash (GK) 2', 'Greater Kailash (GK) 2', 'Greater Kailash (GK) 2', 'Greater Kailash (GK) 2', 'Greater Kailash (GK) 2', 'Greater Kailash (GK) 2', 'Greater Kailash (GK) 2', 'Greater Kailash (GK) 2', 'Greater Kailash (GK) 2', 'Greater Kailash (GK) 2', 'Greater Kailash (GK) 2', 'Greater Kailash (GK) 2', 'Greater Kailash (GK) 2', 'Greater Kailash (GK) 2', 'Greater Kailash (GK) 2', 'Greater Kailash (GK) 2', 'Greater Kailash (GK) 2', 'Greater Kailash (GK) 2', 'Greater Kailash (GK) 2', 'Greater Kailash (GK) 2', 'Greater Kailash (GK) 2', 'Greater Kailash (GK) 2', 'Greater Kailash (GK) 2', 'Greater Kailash (GK) 2', 'Greater Kailash (GK) 2', 'Greater Kailash (GK) 2', 'Greater Kailash (GK) 2', 'Greater Kailash (GK) 2', 'Greater Kailash (GK) 2', 'Greater Kailash (GK) 2', 'Greater Kailash (GK) 2', 'Greater Kailash (GK) 2', 'Greater Kailash (GK) 2', 'Greater Kailash (GK) 2', 'Greater Kailash (GK) 2', 'Greater Kailash (GK) 2', 'Greater Kailash (GK) 2', 'Greater Kailash (GK) 2', 'Greater Kailash (GK) 2', 'Greater Kailash (GK) 2', 'Greater Kailash (GK) 2', 'Greater Kailash (GK) 2', 'Greater Kailash (GK) 2', 'Greater Kailash (GK) 2', 'Greater Kailash (GK) 2', 'Greater Kailash (GK) 2', 'Greater Kailash (GK) 2', 'Greater Kailash (GK) 2', 'Greater Kailash (GK) 2', 'Greater Kailash (GK) 2', 'Greater Kailash (GK) 2', 'Greater Kailash (GK) 2', 'Greater Kailash (GK) 2', 'Greater Kailash (GK) 2', 'Greater Kailash (GK) 2', 'Greater Kailash (GK) 2', 'Greater Kailash (GK) 2', 'Greater Kailash (GK) 2', 'Greater Kailash (GK) 2', 'Greater Kailash (GK) 2', 'Greater Kailash (GK) 2', 'Greater Kailash (GK) 2', 'Greater Kailash (GK) 2', 'Greater Kailash (GK) 3', 'Greater Kailash (GK) 3', 'Greater Kailash (GK) 3', 'Greater Kailash (GK) 3', 'Greater Kailash (GK) 3', 'Green Park', 'Green Park', 'Green Park', 'Green Park', 'Green Park', 'Green Park', 'Green Park', 'Green Park', 'Green Park', 'Green Park', 'Green Park', 'Green Park', 'Green Park', 'Green Park', 'Green Park', 'Green Park', 'Green Park', 'Green Park', 'Green Park', 'Green Park', 'Green Park', 'Green Park', 'Green Park', 'Green Park', 'Green Park', 'Green Park', 'Green Park', 'Green Park', 'Green Park', 'Green Park', 'Green Park', 'Green Park', 'Green Park', 'Green Park', 'Green Park', 'Green Park', 'Green Park', 'Green Park', 'Green Park', 'Green Park', 'Green Park', 'Green Park', 'Green Park', 'Green Park', 'Green Park', 'Green Park', 'GTB Nagar', 'GTB Nagar', 'GTB Nagar', 'GTB Nagar', 'GTB Nagar', 'GTB Nagar', 'GTB Nagar', 'GTB Nagar', 'GTB Nagar', 'GTB Nagar', 'GTB Nagar', 'GTB Nagar', 'GTB Nagar', 'GTB Nagar', 'GTB Nagar', 'GTB Nagar', 'GTB Nagar', 'GTB Nagar', 'GTB Nagar', 'GTB Nagar', 'GTB Nagar', 'GTB Nagar', 'GTB Nagar', 'GTB Nagar', 'GTB Nagar', 'GTB Nagar', 'GTB Nagar', 'GTB Nagar', 'GTB Nagar', 'GTB Nagar', 'GTB Nagar', 'GTB Nagar', 'GTB Nagar', 'GTB Nagar', 'GTB Nagar', 'GTB Nagar', 'GTB Nagar', 'GTB Nagar', 'Gujranwala Town', 'Gujranwala Town', 'Gujranwala Town', 'Gujranwala Town', 'Gujranwala Town', 'Gujranwala Town', 'Gujranwala Town', 'Gujranwala Town', 'Gujranwala Town', 'Gujranwala Town', 'Gujranwala Town', 'Gujranwala Town', 'Gujranwala Town', 'Gujranwala Town', 'Gujranwala Town', 'Gujranwala Town', 'Gujranwala Town', 'Gujranwala Town', 'Gujranwala Town', 'Gujranwala Town', 'Gujranwala Town', 'Gujranwala Town', 'Gujranwala Town', 'Gujranwala Town', 'Gujranwala Town', 'Gujranwala Town', 'Gujranwala Town', 'Gujranwala Town', 'Gujranwala Town', 'Gujranwala Town', 'Gujranwala Town', 'Gujranwala Town', 'Gujranwala Town', 'Gujranwala Town', 'Gujranwala Town', 'Gujranwala Town', 'Gujranwala Town', 'Gujranwala Town', 'Gujranwala Town', 'Hauz Khas', 'Hauz Khas', 'Hauz Khas', 'Hauz Khas', 'Hauz Khas', 'Hauz Khas', 'Hauz Khas', 'Hauz Khas', 'Hauz Khas', 'Hauz Khas', 'Hauz Khas', 'Hauz Khas', 'Hauz Khas', 'Hauz Khas', 'Hauz Khas', 'Hauz Khas', 'Hauz Khas', 'Hauz Khas', 'Hauz Khas', 'Hauz Khas', 'Hauz Khas', 'Hauz Khas', 'Hauz Khas', 'Hauz Khas', 'Hauz Khas', 'Hauz Khas', 'Hauz Khas', 'Hauz Khas', 'Hauz Khas', 'Hauz Khas', 'Hauz Khas', 'Hauz Khas', 'Hauz Khas', 'Hauz Khas', 'Hauz Khas', 'Hauz Khas', 'Hauz Khas', 'Hauz Khas', 'Hauz Khas', 'Hauz Khas', 'Hauz Khas', 'Hauz Khas', 'Hauz Khas', 'Hauz Khas', 'Hauz Khas', 'Hauz Khas', 'Hauz Khas', 'Hauz Khas', 'Hauz Khas', 'Hauz Khas', 'Hauz Khas', 'Hauz Khas', 'Hauz Khas', 'Hauz Khas', 'Hauz Khas', 'Hauz Khas', 'Hauz Khas', 'Hauz Khas', 'Hauz Khas', 'Hauz Khas', 'Hauz Khas', 'Hauz Khas', 'Hauz Khas', 'Hauz Khas', 'Hauz Khas', 'Hauz Khas', 'Hauz Khas', 'Hauz Khas', 'Hauz Khas', 'Hauz Khas', 'Hauz Khas', 'Hauz Khas', 'Hauz Khas', 'Hauz Khas', 'Hauz Khas Village', 'Hauz Khas Village', 'Hauz Khas Village', 'Hauz Khas Village', 'Hauz Khas Village', 'Hauz Khas Village', 'Hauz Khas Village', 'Hauz Khas Village', 'Hauz Khas Village', 'Hauz Khas Village', 'Hauz Khas Village', 'Hauz Khas Village', 'Hauz Khas Village', 'Hauz Khas Village', 'Hauz Khas Village', 'Hauz Khas Village', 'Hauz Khas Village', 'Hauz Khas Village', 'Hauz Khas Village', 'Hauz Khas Village', 'Hauz Khas Village', 'Hauz Khas Village', 'Hauz Khas Village', 'Hauz Khas Village', 'Holiday Inn', 'Holiday Inn', 'Holiday Inn', 'Hotel Broadway', 'Hotel Broadway', 'Hotel City Park', 'Hotel City Park', 'Hotel Classic Diplomat', 'Hotel Classic Diplomat', 'Hotel Regent Grand', 'Hotel Regent Grand', 'Hotel The Royal Plaza', 'Hotel The Royal Plaza', 'Hotel The Royal Plaza', 'Hotel The Royal Plaza', 'Hotel The Royal Plaza', 'Hotel The Royal Plaza', 'Hyatt Regency', 'Hyatt Regency', 'Hyatt Regency', 'Hyatt Regency', 'Hyatt Regency', 'Hyatt Regency', 'ibis New Delhi', 'ibis New Delhi', 'INA', 'INA', 'INA', 'INA', 'India Gate', 'India Gate', 'India Gate', 'India Gate', 'India Gate', 'India Gate', 'IP Extension', 'IP Extension', 'IP Extension', 'IP Extension', 'IP Extension', 'IP Extension', 'IP Extension', 'IP Extension', 'IP Extension', 'IP Extension', 'IP Extension', 'IP Extension', 'IP Extension', 'IP Extension', 'IP Extension', 'IP Extension', 'IP Extension', 'IP Extension', 'IP Extension', 'IP Extension', 'IP Extension', 'IP Extension', 'IP Extension', 'IP Extension', 'IP Extension', 'IP Extension', 'IP Extension', 'IP Extension', 'IP Extension', 'IP Extension', 'IP Extension', 'IP Extension', 'IP Extension', 'IP Extension', 'IP Extension', 'IP Extension', 'IP Extension', 'IP Extension', 'IP Extension', 'IP Extension', 'IP Extension', 'IP Extension', 'IP Extension', 'IP Extension', 'IP Extension', 'IP Extension', 'IP Extension', 'ITC Maurya', 'ITC Maurya', 'ITC Maurya', 'ITC Maurya', 'ITC Maurya', 'ITC Maurya', 'ITO', 'ITO', 'ITO', 'ITO', 'Jail Road', 'Jail Road', 'Jail Road', 'Jail Road', 'Jail Road', 'Jail Road', 'Jail Road', 'Jail Road', 'Jail Road', 'Jail Road', 'Jail Road', 'Jail Road', 'Jail Road', 'Jail Road', 'Jail Road', 'Jail Road', 'Jail Road', 'Jail Road', 'Jail Road', 'Jail Road', 'Jail Road', 'Jail Road', 'Jail Road', 'Jail Road', 'Jail Road', 'Jail Road', 'Jail Road', 'Jail Road', 'Jail Road', 'Jail Road', 'Jail Road', 'Jail Road', 'Jail Road', 'Jail Road', 'Jail Road', 'Jail Road', 'Jail Road', 'Jail Road', 'Jail Road', 'Jail Road', 'Jail Road', 'Jail Road', 'Jail Road', 'Jail Road', 'Jail Road', 'Jail Road', 'Jail Road', 'Jail Road', 'Jail Road', 'Jail Road', 'Jail Road', 'Jail Road', 'Jail Road', 'Jail Road', 'Jail Road', 'Jail Road', 'Jail Road', 'Jail Road', 'Jail Road', 'Jail Road', 'Jail Road', 'Jama Masjid', 'Jama Masjid', 'Jama Masjid', 'Jama Masjid', 'Jama Masjid', 'Jama Masjid', 'Jama Masjid', 'Jama Masjid', 'Jama Masjid', 'Jama Masjid', 'Jama Masjid', 'Jama Masjid', 'Jama Masjid', 'Jama Masjid', 'Jama Masjid', 'Jama Masjid', 'Jama Masjid', 'Jama Masjid', 'Jama Masjid', 'Jama Masjid', 'Jama Masjid', 'Jama Masjid', 'Jama Masjid', 'Jama Masjid', 'Jama Masjid', 'Jama Masjid', 'Janakpuri', 'Janakpuri', 'Janakpuri', 'Janakpuri', 'Janakpuri', 'Janakpuri', 'Janakpuri', 'Janakpuri', 'Janakpuri', 'Janakpuri', 'Janakpuri', 'Janakpuri', 'Janakpuri', 'Janakpuri', 'Janakpuri', 'Janakpuri', 'Janakpuri', 'Janakpuri', 'Janakpuri', 'Janakpuri', 'Janakpuri', 'Janakpuri', 'Janakpuri', 'Janakpuri', 'Janakpuri', 'Janakpuri', 'Janakpuri', 'Janakpuri', 'Janakpuri', 'Janakpuri', 'Janakpuri', 'Janakpuri', 'Janakpuri', 'Janakpuri', 'Janakpuri', 'Janakpuri', 'Janakpuri', 'Janakpuri', 'Janakpuri', 'Janakpuri', 'Janakpuri', 'Janakpuri', 'Janakpuri', 'Janakpuri', 'Janakpuri', 'Janakpuri', 'Jangpura', 'Jangpura', 'Jangpura', 'Jangpura', 'Jangpura', 'Jangpura', 'Jangpura', 'Jangpura', 'Jangpura', 'Jangpura', 'Jangpura', 'Jangpura', 'Jangpura', 'Jangpura', 'Jangpura', 'Jangpura', 'Jangpura', 'Jangpura', 'Jangpura', 'Jangpura', 'Jangpura', 'Jangpura', 'Jangpura', 'Jangpura', 'Jangpura', 'Jangpura', 'Jangpura', 'Jangpura', 'Jangpura', 'Jangpura', 'Jangpura', 'Jangpura', 'Jangpura', 'Jangpura', 'Jangpura', 'Jangpura', 'Jangpura', 'Jangpura', 'Jangpura', 'Jangpura', 'Jangpura', 'Jangpura', 'Jangpura', 'Jangpura', 'Jangpura', 'Jangpura', 'Jangpura', 'Jangpura', 'Jangpura', 'Jangpura', 'Jangpura', 'Jangpura', 'Jangpura', 'Jangpura', 'Jangpura', 'Jangpura', 'Jangpura', 'Janpath', 'Janpath', 'Janpath', 'Janpath', 'Janpath', 'Janpath', 'Janpath', 'Janpath', 'Janpath', 'Janpath', 'Janpath', 'Janpath', 'Janpath', 'Janpath', 'Janpath', 'Janpath', 'Janpath', 'Janpath', 'Janpath', 'Janpath', 'Janpath', 'Janpath', 'Janpath', 'Janpath', 'Janpath', 'Janpath', 'Janpath', 'Janpath', 'Janpath', 'Janpath', 'Janpath', 'Janpath', 'Janpath', 'Janpath', 'Janpath', 'Janpath', 'Janpath', 'Janpath', 'Janpath', 'Jasola', 'Jasola', 'Jasola', 'Jasola', 'Jasola', 'Jasola', 'Jasola', 'Jasola', 'Jasola', 'Jasola', 'Jasola', 'Jasola', 'Jasola', 'Jasola', 'Jasola', 'Jasola', 'Jasola', 'Jasola', 'Jasola', 'Jasola', 'Jasola', 'Jaypee Siddharth', 'Jaypee Siddharth', 'Jaypee Vasant Continental', 'Jaypee Vasant Continental', 'Jaypee Vasant Continental', 'Jaypee Vasant Continental', 'Jaypee Vasant Continental', 'JMD Kohinoor Mall', 'JMD Kohinoor Mall', 'JMD Kohinoor Mall', 'JMD Kohinoor Mall', 'JMD Kohinoor Mall', 'JNU', 'JNU', 'JNU', 'JNU', 'JNU', 'JNU', 'JNU', 'JNU', 'JNU', 'JNU', 'Jor Bagh', 'JW Marriott New Delhi', 'Kailash Colony', 'Kailash Colony', 'Kailash Colony', 'Kailash Colony', 'Kailash Colony', 'Kailash Colony', 'Kailash Colony', 'Kailash Colony', 'Kailash Colony', 'Kailash Colony', 'Kailash Colony', 'Kailash Colony', 'Kailash Colony', 'Kailash Colony', 'Kailash Colony', 'Kailash Colony', 'Kailash Colony', 'Kailash Colony', 'Kailash Colony', 'Kailash Colony', 'Kailash Colony', 'Kailash Colony', 'Kalkaji', 'Kalkaji', 'Kalkaji', 'Kalkaji', 'Kalkaji', 'Kalkaji', 'Kalkaji', 'Kalkaji', 'Kalkaji', 'Kalkaji', 'Kalkaji', 'Kalkaji', 'Kalkaji', 'Kalkaji', 'Kalkaji', 'Kalkaji', 'Kalkaji', 'Kalkaji', 'Kalkaji', 'Kalkaji', 'Kalkaji', 'Kalkaji', 'Kalkaji', 'Kalkaji', 'Kalkaji', 'Kalkaji', 'Kalkaji', 'Kalkaji', 'Kalkaji', 'Kalkaji', 'Kalkaji', 'Kalkaji', 'Kalkaji', 'Kalkaji', 'Kalkaji', 'Kalkaji', 'Kalkaji', 'Kalkaji', 'Kalkaji', 'Kalkaji', 'Kalkaji', 'Kalkaji', 'Kalkaji', 'Kalkaji', 'Kalkaji', 'Kalkaji', 'Kalkaji', 'Kalkaji', 'Kalkaji', 'Kalkaji', 'Kalkaji', 'Kalkaji', 'Kalkaji', 'Kalkaji', 'Kalkaji', 'Kalkaji', 'Kalkaji', 'Kalkaji', 'Kalkaji', 'Kalkaji', 'Kalkaji', 'Kalkaji', 'Kalkaji', 'Kalkaji', 'Kalkaji', 'Kalkaji', 'Kalkaji', 'Kalkaji', 'Kalkaji', 'Kalkaji', 'Kalkaji', 'Kalkaji', 'Kalkaji', 'Kamla Nagar', 'Kamla Nagar', 'Kamla Nagar', 'Kamla Nagar', 'Kamla Nagar', 'Kamla Nagar', 'Kamla Nagar', 'Kamla Nagar', 'Kamla Nagar', 'Kamla Nagar', 'Kamla Nagar', 'Kamla Nagar', 'Kamla Nagar', 'Kamla Nagar', 'Kamla Nagar', 'Kamla Nagar', 'Kamla Nagar', 'Kamla Nagar', 'Kamla Nagar', 'Kamla Nagar', 'Kamla Nagar', 'Kamla Nagar', 'Kamla Nagar', 'Kamla Nagar', 'Kamla Nagar', 'Kamla Nagar', 'Kamla Nagar', 'Kamla Nagar', 'Kamla Nagar', 'Kamla Nagar', 'Kamla Nagar', 'Kamla Nagar', 'Kamla Nagar', 'Kamla Nagar', 'Kamla Nagar', 'Kamla Nagar', 'Kamla Nagar', 'Kamla Nagar', 'Kamla Nagar', 'Kamla Nagar', 'Kamla Nagar', 'Kamla Nagar', 'Kamla Nagar', 'Kamla Nagar', 'Kamla Nagar', 'Kamla Nagar', 'Kamla Nagar', 'Kamla Nagar', 'Kamla Nagar', 'Kamla Nagar', 'Kamla Nagar', 'Kamla Nagar', 'Kamla Nagar', 'Kamla Nagar', 'Kamla Nagar', 'Kamla Nagar', 'Kamla Nagar', 'Kamla Nagar', 'Kamla Nagar', 'Kamla Nagar', 'Kamla Nagar', 'Kamla Nagar', 'Kamla Nagar', 'Kamla Nagar', 'Kamla Nagar', 'Kapashera', 'Kapashera', 'Karampura', 'Karampura', 'Karampura', 'Karkardooma', 'Karkardooma', 'Karkardooma', 'Karkardooma', 'Karkardooma', 'Karkardooma', 'Karkardooma', 'Karkardooma', 'Karkardooma', 'Karkardooma', 'Karkardooma', 'Karkardooma', 'Karkardooma', 'Karkardooma', 'Karkardooma', 'Karkardooma', 'Karkardooma', 'Karkardooma', 'Karkardooma', 'Karkardooma', 'Karkardooma', 'Karkardooma', 'Karkardooma', 'Karol Bagh', 'Karol Bagh', 'Karol Bagh', 'Karol Bagh', 'Karol Bagh', 'Karol Bagh', 'Karol Bagh', 'Karol Bagh', 'Karol Bagh', 'Karol Bagh', 'Karol Bagh', 'Karol Bagh', 'Karol Bagh', 'Karol Bagh', 'Karol Bagh', 'Karol Bagh', 'Karol Bagh', 'Karol Bagh', 'Karol Bagh', 'Karol Bagh', 'Karol Bagh', 'Karol Bagh', 'Karol Bagh', 'Karol Bagh', 'Karol Bagh', 'Karol Bagh', 'Karol Bagh', 'Karol Bagh', 'Karol Bagh', 'Karol Bagh', 'Karol Bagh', 'Karol Bagh', 'Karol Bagh', 'Karol Bagh', 'Karol Bagh', 'Karol Bagh', 'Karol Bagh', 'Karol Bagh', 'Karol Bagh', 'Karol Bagh', 'Karol Bagh', 'Karol Bagh', 'Karol Bagh', 'Karol Bagh', 'Karol Bagh', 'Karol Bagh', 'Karol Bagh', 'Karol Bagh', 'Karol Bagh', 'Karol Bagh', 'Karol Bagh', 'Karol Bagh', 'Karol Bagh', 'Karol Bagh', 'Karol Bagh', 'Karol Bagh', 'Karol Bagh', 'Karol Bagh', 'Karol Bagh', 'Karol Bagh', 'Karol Bagh', 'Karol Bagh', 'Karol Bagh', 'Karol Bagh', 'Karol Bagh', 'Karol Bagh', 'Karol Bagh', 'Karol Bagh', 'Karol Bagh', 'Karol Bagh', 'Karol Bagh', 'Karol Bagh', 'Karol Bagh', 'Karol Bagh', 'Karol Bagh', 'Karol Bagh', 'Kasbah', 'Kashmiri Gate', 'Khan Market', 'Khan Market', 'Khan Market', 'Khan Market', 'Khan Market', 'Khan Market', 'Khan Market', 'Khan Market', 'Khan Market', 'Khan Market', 'Khan Market', 'Khan Market', 'Khan Market', 'Khan Market', 'Khan Market', 'Khan Market', 'Khan Market', 'Khan Market', 'Khan Market', 'Khan Market', 'Khan Market', 'Khan Market', 'Khan Market', 'Khan Market', 'Khan Market', 'Khan Market', 'Khan Market', 'Khan Market', 'Khan Market', 'Khan Market', 'Khan Market', 'Khan Market', 'Khan Market', 'Khan Market', 'Khan Market', 'Khan Market', 'Khan Market', 'Khan Market', 'Khan Market', 'Khan Market', 'Khan Market', 'Khan Market', 'Khan Market', 'Khan Market', 'Kirti Nagar', 'Kirti Nagar', 'Kirti Nagar', 'Kirti Nagar', 'Kirti Nagar', 'Kirti Nagar', 'Kirti Nagar', 'Kirti Nagar', 'Kirti Nagar', 'Kirti Nagar', 'Kirti Nagar', 'Kirti Nagar', 'Kirti Nagar', 'Kirti Nagar', 'Kirti Nagar', 'Kirti Nagar', 'Kirti Nagar', 'Kirti Nagar', 'Kirti Nagar', 'Kirti Nagar', 'Kirti Nagar', 'Kirti Nagar', 'Kirti Nagar', 'Kirti Nagar', 'Kirti Nagar', 'Kirti Nagar', 'Kirti Nagar', 'Kirti Nagar', 'Kirti Nagar', 'Kirti Nagar', 'Kirti Nagar', 'Kirti Nagar', 'Kirti Nagar', 'Kirti Nagar', 'Kirti Nagar', 'Kirti Nagar', 'Kirti Nagar', 'Kirti Nagar', 'Kirti Nagar', 'Kirti Nagar', 'Kirti Nagar', 'Kirti Nagar', 'Kirti Nagar', 'Kirti Nagar', 'Kirti Nagar', 'Kirti Nagar', 'Kirti Nagar', 'Kirti Nagar', 'Kirti Nagar', 'Kirti Nagar', 'Kirti Nagar', 'Kirti Nagar', 'Kirti Nagar', 'Kirti Nagar', 'Kirti Nagar', 'Kirti Nagar', 'Krishna Nagar', 'Krishna Nagar', 'Krishna Nagar', 'Krishna Nagar', 'Krishna Nagar', 'Krishna Nagar', 'Krishna Nagar', 'Krishna Nagar', 'Krishna Nagar', 'Krishna Nagar', 'Krishna Nagar', 'Krishna Nagar', 'Krishna Nagar', 'Krishna Nagar', 'Krishna Nagar', 'Krishna Nagar', 'Krishna Nagar', 'Krishna Nagar', 'Krishna Nagar', 'Krishna Nagar', 'Krishna Nagar', 'Krishna Nagar', 'Krishna Nagar', 'Krishna Nagar', 'Krishna Nagar', 'Krishna Nagar', 'Krishna Nagar', 'Krishna Nagar', 'Krishna Nagar', 'Krishna Nagar', 'Krishna Nagar', 'Krishna Nagar', 'Krishna Nagar', 'Krishna Nagar', 'Krishna Nagar', 'Krishna Nagar', 'Krishna Nagar', 'Krishna Nagar', 'Krishna Nagar', 'Krishna Nagar', 'Krishna Nagar', 'Krishna Nagar', 'Krishna Nagar', 'Krishna Nagar', 'Krishna Nagar', 'Krishna Nagar', 'Krishna Nagar', 'Krishna Nagar', 'Krishna Nagar', 'Krishna Nagar', 'Krishna Nagar', 'Krishna Nagar', 'Krishna Nagar', 'Krishna Nagar', 'Krishna Nagar', 'Krishna Nagar', 'Krishna Nagar', 'Krishna Nagar', 'Krishna Nagar', 'Krishna Nagar', 'Krishna Nagar', 'Krishna Nagar', 'Krishna Nagar', 'Krishna Nagar', 'Krishna Nagar', 'Krishna Nagar', 'Krishna Nagar', 'Krishna Nagar', 'Krishna Nagar', 'Krishna Nagar', 'Krishna Nagar', 'Krishna Nagar', 'Krishna Nagar', 'Krishna Nagar', 'Krishna Nagar', 'Krishna Nagar', 'Lado Sarai', 'Lado Sarai', 'Lado Sarai', 'Lado Sarai', 'Lado Sarai', 'Lado Sarai', 'Lado Sarai', 'Lado Sarai', 'Lado Sarai', 'Lajpat Nagar 1', 'Lajpat Nagar 1', 'Lajpat Nagar 1', 'Lajpat Nagar 1', 'Lajpat Nagar 1', 'Lajpat Nagar 1', 'Lajpat Nagar 1', 'Lajpat Nagar 1', 'Lajpat Nagar 1', 'Lajpat Nagar 1', 'Lajpat Nagar 1', 'Lajpat Nagar 1', 'Lajpat Nagar 1', 'Lajpat Nagar 1', 'Lajpat Nagar 1', 'Lajpat Nagar 1', 'Lajpat Nagar 1', 'Lajpat Nagar 1', 'Lajpat Nagar 1', 'Lajpat Nagar 1', 'Lajpat Nagar 1', 'Lajpat Nagar 1', 'Lajpat Nagar 1', 'Lajpat Nagar 1', 'Lajpat Nagar 1', 'Lajpat Nagar 1', 'Lajpat Nagar 1', 'Lajpat Nagar 1', 'Lajpat Nagar 1', 'Lajpat Nagar 1', 'Lajpat Nagar 1', 'Lajpat Nagar 1', 'Lajpat Nagar 1', 'Lajpat Nagar 1', 'Lajpat Nagar 1', 'Lajpat Nagar 1', 'Lajpat Nagar 1', 'Lajpat Nagar 1', 'Lajpat Nagar 1', 'Lajpat Nagar 1', 'Lajpat Nagar 1', 'Lajpat Nagar 1', 'Lajpat Nagar 2', 'Lajpat Nagar 2', 'Lajpat Nagar 2', 'Lajpat Nagar 2', 'Lajpat Nagar 2', 'Lajpat Nagar 2', 'Lajpat Nagar 2', 'Lajpat Nagar 2', 'Lajpat Nagar 2', 'Lajpat Nagar 2', 'Lajpat Nagar 2', 'Lajpat Nagar 2', 'Lajpat Nagar 2', 'Lajpat Nagar 2', 'Lajpat Nagar 2', 'Lajpat Nagar 2', 'Lajpat Nagar 2', 'Lajpat Nagar 2', 'Lajpat Nagar 2', 'Lajpat Nagar 2', 'Lajpat Nagar 2', 'Lajpat Nagar 2', 'Lajpat Nagar 4', 'Lajpat Nagar 4', 'Lawrence Road', 'Lawrence Road', 'Lawrence Road', 'Lawrence Road', 'Lawrence Road', 'Lawrence Road', 'Lawrence Road', 'Lawrence Road', 'Lawrence Road', 'Lawrence Road', 'Lawrence Road', 'Lawrence Road', 'Lawrence Road', 'Lawrence Road', 'Lawrence Road', 'Laxmi Nagar', 'Laxmi Nagar', 'Laxmi Nagar', 'Laxmi Nagar', 'Laxmi Nagar', 'Laxmi Nagar', 'Laxmi Nagar', 'Laxmi Nagar', 'Laxmi Nagar', 'Laxmi Nagar', 'Laxmi Nagar', 'Laxmi Nagar', 'Laxmi Nagar', 'Laxmi Nagar', 'Laxmi Nagar', 'Laxmi Nagar', 'Laxmi Nagar', 'Laxmi Nagar', 'Laxmi Nagar', 'Laxmi Nagar', 'Laxmi Nagar', 'Laxmi Nagar', 'Laxmi Nagar', 'Laxmi Nagar', 'Laxmi Nagar', 'Laxmi Nagar', 'Laxmi Nagar', 'Laxmi Nagar', 'Laxmi Nagar', 'Laxmi Nagar', 'Laxmi Nagar', 'Laxmi Nagar', 'Laxmi Nagar', 'Laxmi Nagar', 'Laxmi Nagar', 'Laxmi Nagar', 'Laxmi Nagar', 'Laxmi Nagar', 'Laxmi Nagar', 'Laxmi Nagar', 'Laxmi Nagar', 'Laxmi Nagar', 'Laxmi Nagar', 'Laxmi Nagar', 'Laxmi Nagar', 'Laxmi Nagar', 'Laxmi Nagar', 'Laxmi Nagar', 'Laxmi Nagar', 'Laxmi Nagar', 'Laxmi Nagar', 'Laxmi Nagar', 'Laxmi Nagar', 'Laxmi Nagar', 'Laxmi Nagar', 'Laxmi Nagar', 'Laxmi Nagar', 'Laxmi Nagar', 'Le Meridien', 'Le Meridien', 'Le Meridien', 'Le Meridien', 'Le Meridien', 'Le Meridien', 'Lemon Tree Premier', 'Living Style Mall', 'Living Style Mall', 'Living Style Mall', 'Living Style Mall', 'Living Style Mall', 'Living Style Mall', 'Living Style Mall', 'Living Style Mall', 'Living Style Mall', 'Living Style Mall', 'Living Style Mall', 'Living Style Mall', 'Living Style Mall', 'Lodhi Colony', 'Lodhi Colony', 'Lodhi Colony', 'Lodhi Colony', 'Lodhi Colony', 'Lodhi Colony', 'Lodhi Colony', 'Lodhi Colony', 'Lodhi Colony', 'Lodhi Colony', 'Lodhi Colony', 'Lodhi Colony', 'Lodhi Colony', 'Lodhi Colony', 'Lodhi Colony', 'Lodhi Colony', 'Lodhi Colony', 'Lodhi Colony', 'Lodhi Colony', 'Lodhi Colony', 'Lodhi Colony', 'Lodhi Colony', 'Lodhi Colony', 'Lodhi Colony', 'Lodhi Colony', 'Lodhi Colony', 'Lodhi Colony', 'Lodhi Colony', 'Lodhi Colony', 'Lodhi Colony', 'Lodhi Colony', 'Lodhi Road', 'Lodhi Road', 'Lodhi Road', 'Lodhi Road', 'Lodhi Road', 'Lodhi Road', 'Lodhi Road', 'Lodhi Road', 'Lodhi Road', 'Lodhi Road', 'Lodhi Road', 'Lodhi Road', 'Lodhi Road', 'Lodhi Road', 'Lodhi Road', 'Lodhi Road', 'Lodhi Road', 'Lodhi Road', 'Lodhi Road', 'Mahipalpur', 'Mahipalpur', 'Mahipalpur', 'Mahipalpur', 'Mahipalpur', 'Mahipalpur', 'Mahipalpur', 'Mahipalpur', 'Mahipalpur', 'Mahipalpur', 'Mahipalpur', 'Mahipalpur', 'Mahipalpur', 'Mahipalpur', 'Mahipalpur', 'Mahipalpur', 'Mahipalpur', 'Mahipalpur', 'Mahipalpur', 'Mahipalpur', 'Mahipalpur', 'Mahipalpur', 'Mahipalpur', 'Mahipalpur', 'Mahipalpur', 'Mahipalpur', 'Mahipalpur', 'Mahipalpur', 'Mahipalpur', 'Mahipalpur', 'Mahipalpur', 'Mahipalpur', 'Mahipalpur', 'Mahipalpur', 'Mahipalpur', 'Mahipalpur', 'Mahipalpur', 'Mahipalpur', 'Mahipalpur', 'Mahipalpur', 'Mahipalpur', 'Mahipalpur', 'Mahipalpur', 'Mahipalpur', 'Mahipalpur', 'Mahipalpur', 'Mahipalpur', 'Mahipalpur', 'Mahipalpur', 'Mahipalpur', 'Mahipalpur', 'Mahipalpur', 'Mahipalpur', 'Mahipalpur', 'Mahipalpur', 'Mahipalpur', 'Mahipalpur', 'Mahipalpur', 'Mahipalpur', 'Mahipalpur', 'Mahipalpur', 'Mahipalpur', 'Mahipalpur', 'Mahipalpur', 'Mahipalpur', 'Mahipalpur', 'Mahipalpur', 'Mahipalpur', 'Mahipalpur', 'Maidens Hotel', 'Maidens Hotel', 'Maidens Hotel', 'Majnu ka Tila', 'Majnu ka Tila', 'Majnu ka Tila', 'Majnu ka Tila', 'Majnu ka Tila', 'Majnu ka Tila', 'Majnu ka Tila', 'Majnu ka Tila', 'Majnu ka Tila', 'Majnu ka Tila', 'Majnu ka Tila', 'Majnu ka Tila', 'Majnu ka Tila', 'Majnu ka Tila', 'Majnu ka Tila', 'Majnu ka Tila', 'Majnu ka Tila', 'Majnu ka Tila', 'Majnu ka Tila', 'Majnu ka Tila', 'Majnu ka Tila', 'Majnu ka Tila', 'Majnu ka Tila', 'Majnu ka Tila', 'Majnu ka Tila', 'Malviya Nagar', 'Malviya Nagar', 'Malviya Nagar', 'Malviya Nagar', 'Malviya Nagar', 'Malviya Nagar', 'Malviya Nagar', 'Malviya Nagar', 'Malviya Nagar', 'Malviya Nagar', 'Malviya Nagar', 'Malviya Nagar', 'Malviya Nagar', 'Malviya Nagar', 'Malviya Nagar', 'Malviya Nagar', 'Malviya Nagar', 'Malviya Nagar', 'Malviya Nagar', 'Malviya Nagar', 'Malviya Nagar', 'Malviya Nagar', 'Malviya Nagar', 'Malviya Nagar', 'Malviya Nagar', 'Malviya Nagar', 'Malviya Nagar', 'Malviya Nagar', 'Malviya Nagar', 'Malviya Nagar', 'Malviya Nagar', 'Malviya Nagar', 'Malviya Nagar', 'Malviya Nagar', 'Malviya Nagar', 'Malviya Nagar', 'Malviya Nagar', 'Malviya Nagar', 'Malviya Nagar', 'Malviya Nagar', 'Malviya Nagar', 'Malviya Nagar', 'Malviya Nagar', 'Malviya Nagar', 'Malviya Nagar', 'Malviya Nagar', 'Malviya Nagar', 'Malviya Nagar', 'Malviya Nagar', 'Malviya Nagar', 'Malviya Nagar', 'Malviya Nagar', 'Malviya Nagar', 'Malviya Nagar', 'Malviya Nagar', 'Malviya Nagar', 'Malviya Nagar', 'Malviya Nagar', 'Malviya Nagar', 'Malviya Nagar', 'Malviya Nagar', 'Malviya Nagar', 'Malviya Nagar', 'Malviya Nagar', 'Malviya Nagar', 'Malviya Nagar', 'Malviya Nagar', 'Malviya Nagar', 'Malviya Nagar', 'Malviya Nagar', 'Malviya Nagar', 'Malviya Nagar', 'Malviya Nagar', 'Malviya Nagar', 'Malviya Nagar', 'Malviya Nagar', 'Malviya Nagar', 'Malviya Nagar', 'Malviya Nagar', 'Malviya Nagar', 'Malviya Nagar', 'Malviya Nagar', 'Malviya Nagar', 'Malviya Nagar', 'Mandi House', 'Mandi House', 'Mandi House', 'Mandi House', 'Mansingh Road', 'Mathura Road', 'Mathura Road', 'Mayapuri Phase 2', 'Mayapuri Phase 2', 'Mayapuri Phase 2', 'Mayapuri Phase 2', 'Mayapuri Phase 2', 'Mayapuri Phase 2', 'Mayapuri Phase 2', 'Mayapuri Phase 2', 'Mayapuri Phase 2', 'Mayapuri Phase 2', 'Mayapuri Phase 2', 'Mayapuri Phase 2', 'Mayapuri Phase 2', 'Mayapuri Phase 2', 'Mayapuri Phase 2', 'Mayur Vihar Phase 1', 'Mayur Vihar Phase 1', 'Mayur Vihar Phase 1', 'Mayur Vihar Phase 1', 'Mayur Vihar Phase 1', 'Mayur Vihar Phase 1', 'Mayur Vihar Phase 1', 'Mayur Vihar Phase 1', 'Mayur Vihar Phase 1', 'Mayur Vihar Phase 1', 'Mayur Vihar Phase 1', 'Mayur Vihar Phase 1', 'Mayur Vihar Phase 1', 'Mayur Vihar Phase 1', 'Mayur Vihar Phase 1', 'Mayur Vihar Phase 1', 'Mayur Vihar Phase 1', 'Mayur Vihar Phase 1', 'Mayur Vihar Phase 1', 'Mayur Vihar Phase 1', 'Mayur Vihar Phase 1', 'Mayur Vihar Phase 1', 'Mayur Vihar Phase 1', 'Mayur Vihar Phase 1', 'Mayur Vihar Phase 1', 'Mayur Vihar Phase 1', 'Mayur Vihar Phase 1', 'Mayur Vihar Phase 1', 'Mayur Vihar Phase 1', 'Mayur Vihar Phase 1', 'Mayur Vihar Phase 1', 'Mayur Vihar Phase 1', 'Mayur Vihar Phase 1', 'Mayur Vihar Phase 1', 'Mayur Vihar Phase 1', 'Mayur Vihar Phase 1', 'Mayur Vihar Phase 1', 'Mayur Vihar Phase 1', 'Mayur Vihar Phase 1', 'Mayur Vihar Phase 1', 'Mayur Vihar Phase 1', 'Mayur Vihar Phase 1', 'Mayur Vihar Phase 1', 'Mayur Vihar Phase 1', 'Mayur Vihar Phase 1', 'Mayur Vihar Phase 1', 'Mayur Vihar Phase 1', 'Mayur Vihar Phase 1', 'Mayur Vihar Phase 1', 'Mayur Vihar Phase 1', 'Mayur Vihar Phase 1', 'Mayur Vihar Phase 1', 'Mayur Vihar Phase 1', 'Mayur Vihar Phase 1', 'Mayur Vihar Phase 1', 'Mayur Vihar Phase 1', 'Mayur Vihar Phase 1', 'Mayur Vihar Phase 1', 'Mayur Vihar Phase 1', 'Mayur Vihar Phase 1', 'Mayur Vihar Phase 1', 'Mayur Vihar Phase 1', 'Mayur Vihar Phase 1', 'Mayur Vihar Phase 1', 'Mayur Vihar Phase 1', 'Mayur Vihar Phase 1', 'Mayur Vihar Phase 1', 'Mayur Vihar Phase 1', 'Mayur Vihar Phase 1', 'Mayur Vihar Phase 1', 'Mayur Vihar Phase 1', 'Mayur Vihar Phase 1', 'Mayur Vihar Phase 1', 'Mayur Vihar Phase 1', 'Mayur Vihar Phase 1', 'Mayur Vihar Phase 1', 'Mayur Vihar Phase 1', 'Mayur Vihar Phase 1', 'Mayur Vihar Phase 1', 'Mayur Vihar Phase 1', 'Mayur Vihar Phase 1', 'Mayur Vihar Phase 1', 'Mayur Vihar Phase 1', 'Mayur Vihar Phase 1', 'Mayur Vihar Phase 2', 'Mayur Vihar Phase 2', 'Mayur Vihar Phase 2', 'Mayur Vihar Phase 2', 'Mayur Vihar Phase 2', 'Mayur Vihar Phase 2', 'Mayur Vihar Phase 2', 'Mayur Vihar Phase 2', 'Mayur Vihar Phase 2', 'Mayur Vihar Phase 2', 'Mayur Vihar Phase 2', 'Mayur Vihar Phase 2', 'Mayur Vihar Phase 2', 'Mayur Vihar Phase 2', 'Mayur Vihar Phase 2', 'Mayur Vihar Phase 2', 'Mayur Vihar Phase 2', 'Mayur Vihar Phase 2', 'Mayur Vihar Phase 2', 'Mayur Vihar Phase 2', 'Mayur Vihar Phase 2', 'Mayur Vihar Phase 2', 'Mayur Vihar Phase 2', 'Mayur Vihar Phase 2', 'Mayur Vihar Phase 2', 'Mayur Vihar Phase 2', 'Mayur Vihar Phase 2', 'Mayur Vihar Phase 2', 'Mayur Vihar Phase 2', 'Mayur Vihar Phase 3', 'Mayur Vihar Phase 3', 'Mayur Vihar Phase 3', 'Mayur Vihar Phase 3', 'Mayur Vihar Phase 3', 'Mayur Vihar Phase 3', 'Mayur Vihar Phase 3', 'Mayur Vihar Phase 3', 'Mayur Vihar Phase 3', 'Mayur Vihar Phase 3', 'Mayur Vihar Phase 3', 'Mayur Vihar Phase 3', 'Mayur Vihar Phase 3', 'Mayur Vihar Phase 3', 'Mayur Vihar Phase 3', 'Mayur Vihar Phase 3', 'Mayur Vihar Phase 3', 'Mayur Vihar Phase 3', 'Mayur Vihar Phase 3', 'Mayur Vihar Phase 3', 'Mayur Vihar Phase 3', 'Mayur Vihar Phase 3', 'Mayur Vihar Phase 3', 'Mayur Vihar Phase 3', 'Mayur Vihar Phase 3', 'Mayur Vihar Phase 3', 'Mayur Vihar Phase 3', 'Mayur Vihar Phase 3', 'Mayur Vihar Phase 3', 'Mayur Vihar Phase 3', 'Mayur Vihar Phase 3', 'Mayur Vihar Phase 3', 'Mehrauli', 'Mehrauli', 'Mehrauli', 'Mehrauli', 'Mehrauli', 'Mehrauli', 'Mehrauli', 'Mehrauli', 'Mehrauli', 'Mehrauli', 'Mehrauli', 'Mehrauli', 'Mehrauli', 'Mehrauli', 'Mehrauli', 'Mehrauli', 'Mehrauli', 'Mehrauli', 'Mehrauli', 'Mehrauli', 'Metro Walk Mall', 'Metro Walk Mall', 'Metro Walk Mall', 'MG Road', 'MG Road', 'MG Road', 'MG Road', 'MG Road', 'MG Road', 'MG Road', 'MG Road', 'MG Road', 'MG Road', 'MG Road', 'MG Road', 'MG Road', 'MG Road', 'MG Road', 'MG Road', 'MG Road', 'MG Road', 'MG Road', 'MG Road', 'MG Road', 'MG Road', 'MG Road', 'MG Road', 'MG Road', 'MG Road', 'MG Road', 'MG Road', 'MG Road', 'MG Road', 'MG Road', 'MG Road', 'MG Road', 'MG Road', 'MGF Metropolitan Mall', 'MGF Metropolitan Mall', 'MGF Metropolitan Mall', 'MGF Metropolitan Mall', 'MGF Metropolitan Mall', 'MGM Club', 'MGM Club', 'MGM Club', 'MGM Club', 'MGM Club', 'MGM Club', 'Model Town 1', 'Model Town 2', 'Model Town 2', 'Model Town 2', 'Model Town 2', 'Model Town 2', 'Model Town 2', 'Model Town 2', 'Model Town 2', 'Model Town 2', 'Model Town 2', 'Model Town 2', 'Model Town 2', 'Model Town 2', 'Model Town 2', 'Model Town 2', 'Model Town 2', 'Model Town 2', 'Model Town 2', 'Model Town 2', 'Model Town 2', 'Model Town 2', 'Model Town 2', 'Model Town 2', 'Model Town 2', 'Model Town 2', 'Model Town 3', 'Model Town 3', 'Model Town 3', 'Model Town 3', 'Model Town 3', 'Model Town 3', 'Model Town 3', 'Model Town 3', 'Model Town 3', 'Model Town 3', 'Moments Mall', 'Moments Mall', 'Moments Mall', 'Moments Mall', 'Moments Mall', 'Moments Mall', 'Moments Mall', 'Moments Mall', 'Moments Mall', 'Moments Mall', 'Moments Mall', 'Moments Mall', 'Moments Mall', 'Moments Mall', 'Moments Mall', 'Moments Mall', 'Moments Mall', 'Moments Mall', 'Moments Mall', 'Moments Mall', 'Moments Mall', 'Moments Mall', 'Moments Mall', 'Moti Bagh', 'Moti Bagh', 'Moti Bagh', 'Moti Bagh', 'Moti Bagh', 'Moti Nagar', 'Moti Nagar', 'Moti Nagar', 'Moti Nagar', 'Moti Nagar', 'Moti Nagar', 'Moti Nagar', 'Moti Nagar', 'Moti Nagar', 'Moti Nagar', 'Moti Nagar', 'Moti Nagar', 'Moti Nagar', 'Moti Nagar', 'Moti Nagar', 'Moti Nagar', 'Moti Nagar', 'Moti Nagar', 'Moti Nagar', 'Moti Nagar', 'Moti Nagar', 'Moti Nagar', 'Moti Nagar', 'Moti Nagar', 'Moti Nagar', 'Moti Nagar', 'Moti Nagar', 'Moti Nagar', 'Moti Nagar', 'Moti Nagar', 'Moti Nagar', 'Moti Nagar', 'Moti Nagar', 'Moti Nagar', 'Moti Nagar', 'Moti Nagar', 'Moti Nagar', 'Moti Nagar', 'Moti Nagar', 'Moti Nagar', 'Mukherjee Nagar', 'Mukherjee Nagar', 'Mukherjee Nagar', 'Mukherjee Nagar', 'Mukherjee Nagar', 'Mukherjee Nagar', 'Mukherjee Nagar', 'Mukherjee Nagar', 'Mukherjee Nagar', 'Mukherjee Nagar', 'Mukherjee Nagar', 'Mukherjee Nagar', 'Mukherjee Nagar', 'Mukherjee Nagar', 'Mukherjee Nagar', 'Mukherjee Nagar', 'Mukherjee Nagar', 'Mukherjee Nagar', 'Mukherjee Nagar', 'Mukherjee Nagar', 'Mukherjee Nagar', 'Mukherjee Nagar', 'Mukherjee Nagar', 'Mukherjee Nagar', 'Mukherjee Nagar', 'Mukherjee Nagar', 'Mukherjee Nagar', 'Mukherjee Nagar', 'Mukherjee Nagar', 'Mukherjee Nagar', 'Mukherjee Nagar', 'Mukherjee Nagar', 'Mukherjee Nagar', 'Mukherjee Nagar', 'Mukherjee Nagar', 'Mukherjee Nagar', 'Mukherjee Nagar', 'Mukherjee Nagar', 'Mukherjee Nagar', 'Mukherjee Nagar', 'Mukherjee Nagar', 'Mukherjee Nagar', 'Mukherjee Nagar', 'Mukherjee Nagar', 'Mukherjee Nagar', 'Mukherjee Nagar', 'Mukherjee Nagar', 'Mukherjee Nagar', 'Mukherjee Nagar', 'Mukherjee Nagar', 'Mukherjee Nagar', 'Mukherjee Nagar', 'Mukherjee Nagar', 'Mukherjee Nagar', 'Mukherjee Nagar', 'Mukherjee Nagar', 'Mukherjee Nagar', 'Mukherjee Nagar', 'Mukherjee Nagar', 'Mukherjee Nagar', 'Mukherjee Nagar', 'Mukherjee Nagar', 'Mukherjee Nagar', 'Mukherjee Nagar', 'Mukherjee Nagar', 'Mukherjee Nagar', 'Mukherjee Nagar', 'Mukherjee Nagar', 'Munirka', 'Munirka', 'Munirka', 'Munirka', 'Munirka', 'Munirka', 'Munirka', 'Munirka', 'Munirka', 'Munirka', 'Munirka', 'Munirka', 'Munirka', 'Munirka', 'Munirka', 'Munirka', 'Munirka', 'Munirka', 'Munirka', 'Munirka', 'Munirka', 'Munirka', 'Munirka', 'Munirka', 'Munirka', 'Munirka', 'Munirka', 'Munirka', 'Munirka', 'Munirka', 'Munirka', 'Munirka', 'Munirka', 'Munirka', 'Munirka', 'Munirka', 'Munirka', 'Munirka', 'Munirka', 'Munirka', 'Munirka', 'Munirka', 'Munirka', 'Najafgarh', 'Najafgarh', 'Najafgarh', 'Najafgarh', 'Najafgarh', 'Najafgarh', 'Najafgarh', 'Najafgarh', 'Najafgarh', 'Najafgarh', 'Najafgarh', 'Najafgarh', 'Najafgarh', 'Najafgarh', 'Najafgarh', 'Najafgarh', 'Najafgarh', 'Najafgarh', 'Najafgarh', 'Najafgarh', 'Najafgarh', 'Najafgarh', 'Najafgarh', 'Najafgarh', 'Najafgarh', 'Najafgarh', 'Najafgarh', 'Najafgarh', 'Najafgarh', 'Najafgarh', 'Najafgarh', 'Najafgarh', 'Najafgarh', 'Najafgarh', 'Najafgarh', 'Najafgarh', 'Najafgarh', 'Najafgarh', 'Najafgarh', 'Najafgarh', 'Najafgarh', 'Najafgarh', 'Najafgarh', 'Najafgarh', 'Najafgarh', 'Najafgarh', 'Najafgarh', 'Najafgarh', 'Najafgarh', 'Najafgarh', 'Najafgarh', 'Najafgarh', 'Najafgarh', 'Najafgarh', 'Najafgarh', 'Najafgarh', 'Najafgarh', 'Najafgarh', 'Najafgarh', 'Najafgarh', 'Nangloi', 'Nangloi', 'Nangloi', 'Nangloi', 'Nangloi', 'Nangloi', 'Nangloi', 'Nangloi', 'Nangloi', 'Nangloi', 'Nangloi', 'Nangloi', 'Nangloi', 'Nangloi', 'Nangloi', 'Nangloi', 'Nangloi', 'Nangloi', 'Nangloi', 'Nangloi', 'Nangloi', 'Nangloi', 'Nangloi', 'Nangloi', 'Nangloi', 'Nangloi', 'Nangloi', 'Nangloi', 'Nangloi', 'Nangloi', 'Nangloi', 'Nangloi', 'Nangloi', 'Nangloi', 'Nangloi', 'Nangloi', 'Nangloi', 'Nangloi', 'Nangloi', 'Nangloi', 'Nangloi', 'Naraina', 'Naraina', 'Naraina', 'Naraina', 'Naraina', 'Naraina', 'Naraina', 'Naraina', 'Naraina', 'Naraina', 'Naraina', 'Naraina', 'Naraina', 'Naraina', 'Naraina', 'Naraina', 'Naraina', 'Naraina', 'Naraina', 'Naraina', 'Naraina', 'Naraina', 'Naraina', 'Naraina', 'Naraina', 'Naraina', 'Naraina', 'Naraina', 'Naraina', 'Naraina', 'Naraina', 'Naraina', 'Naraina', 'Naraina', 'Naraina', 'Naraina', 'Naraina', 'Naraina', 'Naraina', 'Naraina', 'Naraina', 'Naraina', 'Naraina', 'Naraina', 'Naraina', 'Naraina', 'Naraina', 'Naraina', 'Naraina', 'Naraina', 'Naraina', 'Naraina', 'Naraina', 'Naraina', 'Narela', 'Narela', 'Narela', 'Narela', 'Narela', 'Narela', 'Narela', 'Narela', 'Nehru Place', 'Nehru Place', 'Nehru Place', 'Nehru Place', 'Nehru Place', 'Nehru Place', 'Nehru Place', 'Nehru Place', 'Nehru Place', 'Nehru Place', 'Nehru Place', 'Nehru Place', 'Nehru Place', 'Nehru Place', 'Nehru Place', 'Nehru Place', 'Nehru Place', 'Nehru Place', 'Nehru Place', 'Nehru Place', 'Nehru Place', 'Nehru Place', 'Nehru Place', 'Nehru Place', 'Nehru Place', 'Nehru Place', 'Nehru Place', 'Nehru Place', 'Nehru Place', 'Nehru Place', 'Nehru Place', 'Nehru Place', 'Netaji Subhash Place', 'Netaji Subhash Place', 'Netaji Subhash Place', 'Netaji Subhash Place', 'Netaji Subhash Place', 'Netaji Subhash Place', 'Netaji Subhash Place', 'Netaji Subhash Place', 'Netaji Subhash Place', 'Netaji Subhash Place', 'Netaji Subhash Place', 'Netaji Subhash Place', 'Netaji Subhash Place', 'Netaji Subhash Place', 'Netaji Subhash Place', 'Netaji Subhash Place', 'Netaji Subhash Place', 'Netaji Subhash Place', 'Netaji Subhash Place', 'Netaji Subhash Place', 'Netaji Subhash Place', 'Netaji Subhash Place', 'Netaji Subhash Place', 'Netaji Subhash Place', 'Netaji Subhash Place', 'Netaji Subhash Place', 'Netaji Subhash Place', 'Netaji Subhash Place', 'Netaji Subhash Place', 'Netaji Subhash Place', 'Netaji Subhash Place', 'Netaji Subhash Place', 'Netaji Subhash Place', 'Netaji Subhash Place', 'Netaji Subhash Place', 'Netaji Subhash Place', 'Netaji Subhash Place', 'Netaji Subhash Place', 'Netaji Subhash Place', 'Netaji Subhash Place', 'Netaji Subhash Place', 'Netaji Subhash Place', 'Netaji Subhash Place', 'Netaji Subhash Place', 'Netaji Subhash Place', 'Netaji Subhash Place', 'Netaji Subhash Place', 'Netaji Subhash Place', 'New Friends Colony', 'New Friends Colony', 'New Friends Colony', 'New Friends Colony', 'New Friends Colony', 'New Friends Colony', 'New Friends Colony', 'New Friends Colony', 'New Friends Colony', 'New Friends Colony', 'New Friends Colony', 'New Friends Colony', 'New Friends Colony', 'New Friends Colony', 'New Friends Colony', 'New Friends Colony', 'New Friends Colony', 'New Friends Colony', 'New Friends Colony', 'New Friends Colony', 'New Friends Colony', 'New Friends Colony', 'New Friends Colony', 'New Friends Colony', 'New Friends Colony', 'New Friends Colony', 'New Friends Colony', 'New Friends Colony', 'New Friends Colony', 'New Friends Colony', 'New Friends Colony', 'New Friends Colony', 'New Friends Colony', 'New Friends Colony', 'New Friends Colony', 'New Friends Colony', 'New Friends Colony', 'New Friends Colony', 'New Friends Colony', 'New Friends Colony', 'New Friends Colony', 'New Friends Colony', 'New Friends Colony', 'New Friends Colony', 'New Friends Colony', 'New Friends Colony', 'New Friends Colony', 'Nizamuddin', 'Nizamuddin', 'Nizamuddin', 'Nizamuddin', 'Nizamuddin', 'Nizamuddin', 'Nizamuddin', 'Nizamuddin', 'Nizamuddin', 'Nizamuddin', 'Okhla Phase 1', 'Okhla Phase 1', 'Okhla Phase 1', 'Okhla Phase 1', 'Okhla Phase 1', 'Okhla Phase 1', 'Okhla Phase 1', 'Okhla Phase 1', 'Okhla Phase 2', 'Okhla Phase 2', 'Okhla Phase 2', 'Okhla Phase 2', 'Okhla Phase 2', 'Okhla Phase 2', 'Pacific Mall', 'Pacific Mall', 'Pacific Mall', 'Pacific Mall', 'Pacific Mall', 'Pacific Mall', 'Pacific Mall', 'Pacific Mall', 'Pacific Mall', 'Pacific Mall', 'Pacific Mall', 'Pacific Mall', 'Pacific Mall', 'Pacific Mall', 'Pacific Mall', 'Pacific Mall', 'Pacific Mall', 'Pacific Mall', 'Pacific Mall', 'Pacific Mall', 'Pacific Mall', 'Pacific Mall', 'Pacific Mall', 'Pacific Mall', 'Pacific Mall', 'Pacific Mall', 'Pacific Mall', 'Paharganj', 'Paharganj', 'Paharganj', 'Paharganj', 'Paharganj', 'Paharganj', 'Paharganj', 'Paharganj', 'Paharganj', 'Paharganj', 'Paharganj', 'Paharganj', 'Paharganj', 'Paharganj', 'Paharganj', 'Paharganj', 'Paharganj', 'Paharganj', 'Paharganj', 'Paharganj', 'Paharganj', 'Paharganj', 'Paharganj', 'Paharganj', 'Paharganj', 'Paharganj', 'Paharganj', 'Paharganj', 'Paharganj', 'Paharganj', 'Paharganj', 'Paharganj', 'Paharganj', 'Paharganj', 'Paharganj', 'Paharganj', 'Paharganj', 'Paharganj', 'Paharganj', 'Paharganj', 'Paharganj', 'Paharganj', 'Paharganj', 'Paharganj', 'Paharganj', 'Paharganj', 'Paharganj', 'Paharganj', 'Paharganj', 'Paharganj', 'Paharganj', 'Paharganj', 'Paharganj', 'Paharganj', 'Paharganj', 'Paharganj', 'Paharganj', 'Paharganj', 'Paharganj', 'Paharganj', 'Paharganj', 'Paharganj', 'Paharganj', 'Paharganj', 'Palam', 'Palam', 'Palam', 'Palam', 'Palam', 'Palam', 'Palam', 'Palam', 'Palam', 'Palam', 'Palam', 'Palam', 'Palam', 'Palam', 'Palam', 'Palam', 'Palam', 'Palam', 'Palam', 'Palam', 'Palam', 'Palam', 'Palam', 'Palam', 'Palam', 'Palam', 'Palam', 'Palam', 'Palam', 'Palam', 'Palam', 'Palam', 'Palam', 'Palam', 'Palam', 'Palam', 'Palam', 'Palam', 'Palam', 'Palam', 'Palam', 'Palam', 'Palam', 'Palam', 'Palam', 'Palam', 'Palam', 'Palam', 'Palam', 'Palam', 'Palam', 'Palam', 'Palam', 'Palam', 'Palam', 'Palam', 'Palam', 'Palam', 'Palam', 'Palam', 'Palate of Delhi', 'Palate of Delhi', 'Palate of Delhi', 'Palate of Delhi', 'Palate of Delhi', 'Palate of Delhi', 'Palate of Delhi', 'Palate of Delhi', 'Palate of Delhi', 'Panchsheel Park', 'Panchsheel Park', 'Panchsheel Park', 'Panchsheel Park', 'Pandara Road Market', 'Pandara Road Market', 'Pandara Road Market', 'Pandara Road Market', 'Pandara Road Market', 'Pandara Road Market', 'Pandara Road Market', 'Pandara Road Market', 'Pandara Road Market', 'Pandara Road Market', 'Pandav Nagar', 'Pandav Nagar', 'Pandav Nagar', 'Pandav Nagar', 'Pandav Nagar', 'Pandav Nagar', 'Pandav Nagar', 'Pandav Nagar', 'Pandav Nagar', 'Pandav Nagar', 'Pandav Nagar', 'Pandav Nagar', 'Pandav Nagar', 'Pandav Nagar', 'Pandav Nagar', 'Pandav Nagar', 'Pandav Nagar', 'Pandav Nagar', 'Pandav Nagar', 'Pandav Nagar', 'Paschim Vihar', 'Paschim Vihar', 'Paschim Vihar', 'Paschim Vihar', 'Paschim Vihar', 'Paschim Vihar', 'Paschim Vihar', 'Paschim Vihar', 'Paschim Vihar', 'Paschim Vihar', 'Paschim Vihar', 'Paschim Vihar', 'Paschim Vihar', 'Paschim Vihar', 'Paschim Vihar', 'Paschim Vihar', 'Paschim Vihar', 'Paschim Vihar', 'Paschim Vihar', 'Paschim Vihar', 'Paschim Vihar', 'Paschim Vihar', 'Paschim Vihar', 'Paschim Vihar', 'Paschim Vihar', 'Paschim Vihar', 'Paschim Vihar', 'Paschim Vihar', 'Paschim Vihar', 'Paschim Vihar', 'Paschim Vihar', 'Paschim Vihar', 'Paschim Vihar', 'Paschim Vihar', 'Paschim Vihar', 'Paschim Vihar', 'Paschim Vihar', 'Paschim Vihar', 'Paschim Vihar', 'Paschim Vihar', 'Paschim Vihar', 'Paschim Vihar', 'Paschim Vihar', 'Paschim Vihar', 'Paschim Vihar', 'Paschim Vihar', 'Paschim Vihar', 'Paschim Vihar', 'Paschim Vihar', 'Paschim Vihar', 'Paschim Vihar', 'Paschim Vihar', 'Paschim Vihar', 'Paschim Vihar', 'Paschim Vihar', 'Paschim Vihar', 'Patparganj', 'Patparganj', 'Patparganj', 'Patparganj', 'Patparganj', 'Patparganj', 'Patparganj', 'Patparganj', 'Piccadily Hotel', 'Pitampura', 'Pitampura', 'Pitampura', 'Pitampura', 'Pitampura', 'Pitampura', 'Pitampura', 'Pitampura', 'Pitampura', 'Pitampura', 'Pitampura', 'Pitampura', 'Pitampura', 'Pitampura', 'Pitampura', 'Pitampura', 'Pitampura', 'Pitampura', 'Pitampura', 'Pitampura', 'Pitampura', 'Pitampura', 'Pitampura', 'Pitampura', 'Pitampura', 'Pitampura', 'Pitampura', 'Pitampura', 'Pitampura', 'Pitampura', 'Pitampura', 'Pitampura', 'Pitampura', 'Pitampura', 'Pitampura', 'Pitampura', 'Pitampura', 'Pitampura', 'Pitampura', 'Pitampura', 'Pitampura', 'Pitampura', 'Pitampura', 'Pitampura', 'Pitampura', 'Pitampura', 'Pitampura', 'Pitampura', 'Pitampura', 'Pitampura', 'Pitampura', 'Pitampura', 'Pitampura', 'Pitampura', 'Pitampura', 'Pitampura', 'Pitampura', 'Pitampura', 'Pitampura', 'Pitampura', 'Pitampura', 'Pitampura', 'Pitampura', 'Pitampura', 'Pitampura', 'Pitampura', 'Pitampura', 'Pitampura', 'Pitampura', 'Pitampura', 'Pitampura', 'Pitampura', 'Pitampura', 'Pitampura', 'Pitampura', 'Pitampura', 'Pitampura', 'Pitampura', 'Pitampura', 'Pitampura', 'Pitampura', 'Pitampura', 'Pitampura', 'Pitampura', 'Pitampura', 'Pragati Maidan', 'Pragati Maidan', 'Prashant Vihar', 'Prashant Vihar', 'Prashant Vihar', 'Prashant Vihar', 'Prashant Vihar', 'Prashant Vihar', 'Prashant Vihar', 'Prashant Vihar', 'Prashant Vihar', 'Prashant Vihar', 'Prashant Vihar', 'Prashant Vihar', 'Prashant Vihar', 'Prashant Vihar', 'Prashant Vihar', 'Prashant Vihar', 'Prashant Vihar', 'Preet Vihar', 'Preet Vihar', 'Preet Vihar', 'Preet Vihar', 'Preet Vihar', 'Preet Vihar', 'Preet Vihar', 'Preet Vihar', 'Preet Vihar', 'Preet Vihar', 'Preet Vihar', 'Preet Vihar', 'Preet Vihar', 'Preet Vihar', 'Preet Vihar', 'Preet Vihar', 'Preet Vihar', 'Preet Vihar', 'Preet Vihar', 'Preet Vihar', 'Preet Vihar', 'Preet Vihar', 'Preet Vihar', 'Preet Vihar', 'Preet Vihar', 'Preet Vihar', 'Preet Vihar', 'Preet Vihar', 'Preet Vihar', 'Preet Vihar', 'Preet Vihar', 'Preet Vihar', 'Preet Vihar', 'Preet Vihar', 'Preet Vihar', 'Preet Vihar', 'Preet Vihar', 'Preet Vihar', 'Preet Vihar', 'Preet Vihar', 'Preet Vihar', 'Preet Vihar', 'Preet Vihar', 'Preet Vihar', 'Preet Vihar', 'Preet Vihar', 'Preet Vihar', 'Preet Vihar', 'Preet Vihar', 'Premier Inn', 'Premier Inn', 'Pride Plaza Hotel', 'Pride Plaza Hotel', 'Pride Plaza Hotel', 'Punjabi Bagh', 'Punjabi Bagh', 'Punjabi Bagh', 'Punjabi Bagh', 'Punjabi Bagh', 'Punjabi Bagh', 'Punjabi Bagh', 'Punjabi Bagh', 'Punjabi Bagh', 'Punjabi Bagh', 'Punjabi Bagh', 'Punjabi Bagh', 'Punjabi Bagh', 'Punjabi Bagh', 'Punjabi Bagh', 'Punjabi Bagh', 'Punjabi Bagh', 'Punjabi Bagh', 'Punjabi Bagh', 'Punjabi Bagh', 'Punjabi Bagh', 'Punjabi Bagh', 'Punjabi Bagh', 'Punjabi Bagh', 'Punjabi Bagh', 'Punjabi Bagh', 'Punjabi Bagh', 'Punjabi Bagh', 'Punjabi Bagh', 'Punjabi Bagh', 'Punjabi Bagh', 'Punjabi Bagh', 'Punjabi Bagh', 'Punjabi Bagh', 'Punjabi Bagh', 'Punjabi Bagh', 'Punjabi Bagh', 'Punjabi Bagh', 'Punjabi Bagh', 'Punjabi Bagh', 'Punjabi Bagh', 'Punjabi Bagh', 'Punjabi Bagh', 'Punjabi Bagh', 'Punjabi Bagh', 'Punjabi Bagh', 'Punjabi Bagh', 'Punjabi Bagh', 'Punjabi Bagh', 'Punjabi Bagh', 'Punjabi Bagh', 'Punjabi Bagh', 'Punjabi Bagh', 'Punjabi Bagh', 'Punjabi Bagh', 'Punjabi Bagh', 'Punjabi Bagh', 'Punjabi Bagh', 'Punjabi Bagh', 'Punjabi Bagh', 'PVR Anupam Complex', 'PVR Anupam Complex', 'PVR Anupam Complex', 'PVR Anupam Complex', 'PVR Anupam Complex', 'PVR Anupam Complex', 'PVR Anupam Complex', 'PVR Anupam Complex', 'PVR Anupam Complex', 'PVR Anupam Complex', 'PVR Anupam Complex', 'PVR Anupam Complex', 'PVR Anupam Complex', 'Qutab Institutional Area', 'Qutab Institutional Area', 'Qutab Institutional Area', 'Qutab Institutional Area', 'Qutab Institutional Area', 'Qutab Institutional Area', 'Qutab Institutional Area', 'Qutab Institutional Area', 'Qutab Institutional Area', 'Qutab Institutional Area', 'Qutab Institutional Area', 'Qutab Institutional Area', 'Qutab Institutional Area', 'Qutab Institutional Area', 'Qutab Institutional Area', 'Qutab Institutional Area', 'Qutab Institutional Area', 'Qutab Institutional Area', 'Qutab Institutional Area', 'Qutab Institutional Area', 'Qutab Institutional Area', 'Qutab Institutional Area', 'Qutab Institutional Area', 'R K Puram', 'R K Puram', 'R K Puram', 'R K Puram', 'R K Puram', 'R K Puram', 'R K Puram', 'R K Puram', 'R K Puram', 'R K Puram', 'R K Puram', 'R K Puram', 'R K Puram', 'R K Puram', 'R K Puram', 'R K Puram', 'R K Puram', 'R K Puram', 'R K Puram', 'R K Puram', 'R K Puram', 'R K Puram', 'R K Puram', 'R K Puram', 'R K Puram', 'R K Puram', 'R K Puram', 'R K Puram', 'R K Puram', 'R K Puram', 'R K Puram', 'R K Puram', 'R K Puram', 'R K Puram', 'R K Puram', 'R K Puram', 'R K Puram', 'R K Puram', 'Race Course', 'Radisson Blu Plaza Delhi', 'Radisson Blu Plaza Delhi', 'Radisson Blu Plaza Delhi', 'Radisson Blu Plaza Delhi', 'Radisson Blu Plaza Delhi', 'Radisson Blu Plaza Delhi', 'Radisson Blu', 'Radisson Blu', 'Rajendra Place', 'Rajendra Place', 'Rajendra Place', 'Rajendra Place', 'Rajendra Place', 'Rajendra Place', 'Rajendra Place', 'Rajendra Place', 'Rajinder Nagar', 'Rajinder Nagar', 'Rajinder Nagar', 'Rajinder Nagar', 'Rajinder Nagar', 'Rajinder Nagar', 'Rajinder Nagar', 'Rajinder Nagar', 'Rajinder Nagar', 'Rajinder Nagar', 'Rajinder Nagar', 'Rajinder Nagar', 'Rajinder Nagar', 'Rajinder Nagar', 'Rajinder Nagar', 'Rajinder Nagar', 'Rajinder Nagar', 'Rajinder Nagar', 'Rajinder Nagar', 'Rajinder Nagar', 'Rajinder Nagar', 'Rajinder Nagar', 'Rajinder Nagar', 'Rajinder Nagar', 'Rajinder Nagar', 'Rajinder Nagar', 'Rajinder Nagar', 'Rajinder Nagar', 'Rajinder Nagar', 'Rajinder Nagar', 'Rajinder Nagar', 'Rajinder Nagar', 'Rajinder Nagar', 'Rajinder Nagar', 'Rajinder Nagar', 'Rajinder Nagar', 'Rajinder Nagar', 'Rajinder Nagar', 'Rajinder Nagar', 'Rajinder Nagar', 'Rajinder Nagar', 'Rajinder Nagar', 'Rajinder Nagar', 'Rajinder Nagar', 'Rajinder Nagar', 'Rajinder Nagar', 'Rajinder Nagar', 'Rajinder Nagar', 'Rajinder Nagar', 'Rajinder Nagar', 'Rajinder Nagar', 'Rajinder Nagar', 'Rajinder Nagar', 'Rajinder Nagar', 'Rajinder Nagar', 'Rajinder Nagar', 'Rajinder Nagar', 'Rajinder Nagar', 'Rajinder Nagar', 'Rajinder Nagar', 'Rajinder Nagar', 'Rajinder Nagar', 'Rajinder Nagar', 'Rajinder Nagar', 'Rajinder Nagar', 'Rajinder Nagar', 'Rajinder Nagar', 'Rajinder Nagar', 'Rajinder Nagar', 'Rajinder Nagar', 'Rajinder Nagar', 'Rajinder Nagar', 'Rajinder Nagar', 'Rajinder Nagar', 'Rajinder Nagar', 'Rajinder Nagar', 'Rajinder Nagar', 'Rajinder Nagar', 'Rajinder Nagar', 'Rajinder Nagar', 'Rajinder Nagar', 'Rajouri Garden', 'Rajouri Garden', 'Rajouri Garden', 'Rajouri Garden', 'Rajouri Garden', 'Rajouri Garden', 'Rajouri Garden', 'Rajouri Garden', 'Rajouri Garden', 'Rajouri Garden', 'Rajouri Garden', 'Rajouri Garden', 'Rajouri Garden', 'Rajouri Garden', 'Rajouri Garden', 'Rajouri Garden', 'Rajouri Garden', 'Rajouri Garden', 'Rajouri Garden', 'Rajouri Garden', 'Rajouri Garden', 'Rajouri Garden', 'Rajouri Garden', 'Rajouri Garden', 'Rajouri Garden', 'Rajouri Garden', 'Rajouri Garden', 'Rajouri Garden', 'Rajouri Garden', 'Rajouri Garden', 'Rajouri Garden', 'Rajouri Garden', 'Rajouri Garden', 'Rajouri Garden', 'Rajouri Garden', 'Rajouri Garden', 'Rajouri Garden', 'Rajouri Garden', 'Rajouri Garden', 'Rajouri Garden', 'Rajouri Garden', 'Rajouri Garden', 'Rajouri Garden', 'Rajouri Garden', 'Rajouri Garden', 'Rajouri Garden', 'Rajouri Garden', 'Rajouri Garden', 'Rajouri Garden', 'Rajouri Garden', 'Rajouri Garden', 'Rajouri Garden', 'Rajouri Garden', 'Rajouri Garden', 'Rajouri Garden', 'Rajouri Garden', 'Rajouri Garden', 'Rajouri Garden', 'Rajouri Garden', 'Rajouri Garden', 'Rajouri Garden', 'Rajouri Garden', 'Rajouri Garden', 'Rajouri Garden', 'Rajouri Garden', 'Rajouri Garden', 'Rajouri Garden', 'Rajouri Garden', 'Rajouri Garden', 'Rajouri Garden', 'Rajouri Garden', 'Rajouri Garden', 'Rajouri Garden', 'Rajouri Garden', 'Rajouri Garden', 'Rajouri Garden', 'Rajouri Garden', 'Rajouri Garden', 'Rajouri Garden', 'Rajouri Garden', 'Rajouri Garden', 'Rajouri Garden', 'Rajouri Garden', 'Rajouri Garden', 'Rajouri Garden', 'Rajouri Garden', 'Rajouri Garden', 'Rajouri Garden', 'Rajouri Garden', 'Rajouri Garden', 'Rajouri Garden', 'Rajouri Garden', 'Rajouri Garden', 'Rajouri Garden', 'Rajouri Garden', 'Rajouri Garden', 'Rajouri Garden', 'Rajouri Garden', 'Rajouri Garden', 'Rohini', 'Rohini', 'Rohini', 'Rohini', 'Rohini', 'Rohini', 'Rohini', 'Rohini', 'Rohini', 'Rohini', 'Rohini', 'Rohini', 'Rohini', 'Rohini', 'Rohini', 'Rohini', 'Rohini', 'Rohini', 'Rohini', 'Rohini', 'Rohini', 'Rohini', 'Rohini', 'Rohini', 'Rohini', 'Rohini', 'Rohini', 'Rohini', 'Rohini', 'Rohini', 'Rohini', 'Rohini', 'Rohini', 'Rohini', 'Rohini', 'Rohini', 'Rohini', 'Rohini', 'Rohini', 'Rohini', 'Rohini', 'Rohini', 'Rohini', 'Rohini', 'Rohini', 'Rohini', 'Rohini', 'Rohini', 'Roseate House', 'Roseate House', 'Roseate House', 'Safdarjung', 'Safdarjung', 'Safdarjung', 'Safdarjung', 'Safdarjung', 'Safdarjung', 'Safdarjung', 'Safdarjung', 'Safdarjung', 'Safdarjung', 'Safdarjung', 'Safdarjung', 'Safdarjung', 'Safdarjung', 'Safdarjung', 'Safdarjung', 'Safdarjung', 'Safdarjung', 'Safdarjung', 'Safdarjung', 'Safdarjung', 'Safdarjung', 'Safdarjung', 'Safdarjung', 'Safdarjung', 'Safdarjung', 'Safdarjung', 'Safdarjung', 'Safdarjung', 'Safdarjung', 'Safdarjung', 'Safdarjung', 'Safdarjung', 'Safdarjung', 'Safdarjung', 'Safdarjung', 'Safdarjung', 'Safdarjung', 'Safdarjung', 'Safdarjung', 'Safdarjung', 'Safdarjung', 'Safdarjung', 'Safdarjung', 'Safdarjung', 'Safdarjung', 'Safdarjung', 'Safdarjung', 'Safdarjung', 'Safdarjung', 'Safdarjung', 'Safdarjung', 'Safdarjung', 'Safdarjung', 'Safdarjung', 'Safdarjung', 'Safdarjung', 'Safdarjung', 'Safdarjung', 'Safdarjung', 'Safdarjung', 'Safdarjung', 'Safdarjung', 'Safdarjung', 'Safdarjung', 'Safdarjung', 'Safdarjung', 'Safdarjung', 'Safdarjung', 'Safdarjung', 'Safdarjung', 'Safdarjung', 'Safdarjung', 'Safdarjung', 'Safdarjung', 'Safdarjung', 'Safdarjung', 'Safdarjung', 'Safdarjung', 'Safdarjung', 'Sainik Farms', 'Sainik Farms', 'Sainik Farms', 'Sainik Farms', 'Sainik Farms', 'Sainik Farms', 'Sainik Farms', 'Sainik Farms', 'Sainik Farms', 'Sainik Farms', 'Sainik Farms', 'Sainik Farms', 'Sainik Farms', 'Sainik Farms', 'Sainik Farms', 'Sainik Farms', 'Sainik Farms', 'Sainik Farms', 'Sainik Farms', 'Sainik Farms', 'Sainik Farms', 'Sainik Farms', 'Sainik Farms', 'Sainik Farms', 'Sainik Farms', 'Sainik Farms', 'Sainik Farms', 'Sainik Farms', 'Sainik Farms', 'Sainik Farms', 'Sainik Farms', 'Sainik Farms', 'Sainik Farms', 'Sainik Farms', 'Sainik Farms', 'Saket', 'Saket', 'Saket', 'Saket', 'Saket', 'Saket', 'Saket', 'Saket', 'Saket', 'Saket', 'Saket', 'Saket', 'Saket', 'Saket', 'Saket', 'Saket', 'Saket', 'Saket', 'Saket', 'Saket', 'Saket', 'Saket', 'Saket', 'Saket', 'Saket', 'Saket', 'Saket', 'Saket', 'Saket', 'Saket', 'Saket', 'Saket', 'Saket', 'Saket', 'Saket', 'Saket', 'Sangam Courtyard', 'Sangam Courtyard', 'Sangam Courtyard', 'Sangam Courtyard', 'Sangam Courtyard', 'Sangam Courtyard', 'Sangam Courtyard', 'Sarita Vihar', 'Sarita Vihar', 'Sarita Vihar', 'Sarita Vihar', 'Sarita Vihar', 'Sarita Vihar', 'Sarita Vihar', 'Sarita Vihar', 'Sarita Vihar', 'Sarita Vihar', 'Sarita Vihar', 'Sarita Vihar', 'Sarita Vihar', 'Sarita Vihar', 'Sarita Vihar', 'Sarita Vihar', 'Sarita Vihar', 'Sarita Vihar', 'Sarita Vihar', 'Sarita Vihar', 'Sarita Vihar', 'Sarita Vihar', 'Sarita Vihar', 'Sarita Vihar', 'Sarita Vihar', 'Sarita Vihar', 'Sarojini Nagar', 'Sarojini Nagar', 'Sarojini Nagar', 'Sarojini Nagar', 'Sarojini Nagar', 'Sarojini Nagar', 'Sarojini Nagar', 'Sarojini Nagar', 'Sarojini Nagar', 'Sarojini Nagar', 'Sarojini Nagar', 'Sarojini Nagar', 'Sarojini Nagar', 'Satyaniketan', 'Satyaniketan', 'Satyaniketan', 'Satyaniketan', 'Satyaniketan', 'Satyaniketan', 'Satyaniketan', 'Satyaniketan', 'Satyaniketan', 'Satyaniketan', 'Satyaniketan', 'Satyaniketan', 'Satyaniketan', 'Satyaniketan', 'Satyaniketan', 'Satyaniketan', 'Satyaniketan', 'Satyaniketan', 'Satyaniketan', 'Satyaniketan', 'Satyaniketan', 'Satyaniketan', 'Satyaniketan', 'Satyaniketan', 'Satyaniketan', 'Satyaniketan', 'Satyaniketan', 'Satyaniketan', 'Satyaniketan', 'Satyaniketan', 'Satyaniketan', 'Satyaniketan', 'Satyaniketan', 'Satyaniketan', 'Satyaniketan', 'Satyaniketan', 'Satyaniketan', 'Satyaniketan', 'Satyaniketan', 'Satyaniketan', 'Satyaniketan', 'Satyaniketan', 'Satyaniketan', 'Satyaniketan', 'Satyaniketan', 'Satyaniketan', 'Satyaniketan', 'Satyaniketan', 'Satyaniketan', 'Satyaniketan', 'Satyaniketan', 'Satyaniketan', 'Satyaniketan', 'Satyaniketan', 'Satyaniketan', 'Satyaniketan', 'Satyaniketan', 'Satyaniketan', 'Satyaniketan', 'Satyaniketan', 'Satyaniketan', 'Satyaniketan', 'Satyaniketan', 'Satyaniketan', 'Satyaniketan', 'Satyaniketan', 'Satyaniketan', 'Satyaniketan', 'Satyaniketan', 'Satyaniketan', 'Satyaniketan', 'Satyaniketan', 'Satyaniketan', 'Satyaniketan', 'Satyaniketan', 'Satyaniketan', 'Satyaniketan', 'Satyaniketan', 'Satyaniketan', 'SDA', 'SDA', 'SDA', 'SDA', 'SDA', 'SDA', 'SDA', 'SDA', 'SDA', 'SDA', 'SDA', 'SDA', 'SDA', 'SDA', 'SDA', 'Sector 15', 'Select Citywalk Mall', 'Select Citywalk Mall', 'Select Citywalk Mall', 'Select Citywalk Mall', 'Select Citywalk Mall', 'Select Citywalk Mall', 'Select Citywalk Mall', 'Select Citywalk Mall', 'Select Citywalk Mall', 'Select Citywalk Mall', 'Select Citywalk Mall', 'Select Citywalk Mall', 'Select Citywalk Mall', 'Select Citywalk Mall', 'Select Citywalk Mall', 'Select Citywalk Mall', 'Select Citywalk Mall', 'Select Citywalk Mall', 'Select Citywalk Mall', 'Select Citywalk Mall', 'Select Citywalk Mall', 'Select Citywalk Mall', 'Select Citywalk Mall', 'Select Citywalk Mall', 'Select Citywalk Mall', 'Shahdara', 'Shahdara', 'Shahdara', 'Shahdara', 'Shahdara', 'Shahdara', 'Shahdara', 'Shahdara', 'Shahdara', 'Shahdara', 'Shahdara', 'Shahdara', 'Shahdara', 'Shahdara', 'Shahdara', 'Shahdara', 'Shahdara', 'Shahdara', 'Shahdara', 'Shahdara', 'Shahdara', 'Shahdara', 'Shahdara', 'Shahdara', 'Shahdara', 'Shahdara', 'Shahdara', 'Shahdara', 'Shahdara', 'Shahdara', 'Shahdara', 'Shahdara', 'Shahdara', 'Shahdara', 'Shahdara', 'Shahdara', 'Shahdara', 'Shahdara', 'Shahdara', 'Shahdara', 'Shahdara', 'Shahdara', 'Shahdara', 'Shahdara', 'Shahdara', 'Shahdara', 'Shahdara', 'Shahdara', 'Shahdara', 'Shahdara', 'Shahdara', 'Shahdara', 'Shahdara', 'Shahdara', 'Shahdara', 'Shahdara', 'Shahdara', 'Shahdara', 'Shahdara', 'Shahdara', 'Shahdara', 'Shahdara', 'Shahdara', 'Shahdara', 'Shahdara', 'Shahdara', 'Shahdara', 'Shahdara', 'Shahdara', 'Shahdara', 'Shahdara', 'Shahdara', 'Shahdara', 'Shahdara', 'Shahdara', 'Shahdara', 'Shahdara', 'Shahdara', 'Shahdara', 'Shahdara', 'Shahdara', 'Shahdara', 'Shahdara', 'Shahdara', 'Shahdara', 'Shahdara', 'Shahdara', 'Shahpur Jat', 'Shahpur Jat', 'Shahpur Jat', 'Shahpur Jat', 'Shahpur Jat', 'Shahpur Jat', 'Shahpur Jat', 'Shahpur Jat', 'Shahpur Jat', 'Shahpur Jat', 'Shahpur Jat', 'Shahpur Jat', 'Shahpur Jat', 'Shahpur Jat', 'Shahpur Jat', 'Shahpur Jat', 'Shahpur Jat', 'Shahpur Jat', 'Shahpur Jat', 'Shahpur Jat', 'Shahpur Jat', 'Shahpur Jat', 'Shahpur Jat', 'Shahpur Jat', 'Shahpur Jat', 'Shahpur Jat', 'Shakarpur', 'Shakarpur', 'Shakarpur', 'Shakarpur', 'Shakarpur', 'Shakarpur', 'Shakarpur', 'Shakarpur', 'Shakarpur', 'Shakarpur', 'Shakarpur', 'Shakarpur', 'Shakarpur', 'Shakarpur', 'Shakarpur', 'Shakarpur', 'Shakarpur', 'Shakarpur', 'Shakarpur', 'Shakarpur', 'Shakarpur', 'Shakarpur', 'Shakarpur', 'Shakarpur', 'Shakarpur', 'Shakarpur', 'Shakarpur', 'Shalimar Bagh', 'Shalimar Bagh', 'Shalimar Bagh', 'Shalimar Bagh', 'Shalimar Bagh', 'Shalimar Bagh', 'Shalimar Bagh', 'Shalimar Bagh', 'Shalimar Bagh', 'Shalimar Bagh', 'Shalimar Bagh', 'Shalimar Bagh', 'Shalimar Bagh', 'Shalimar Bagh', 'Shalimar Bagh', 'Shalimar Bagh', 'Shalimar Bagh', 'Shalimar Bagh', 'Shalimar Bagh', 'Shalimar Bagh', 'Shalimar Bagh', 'Shalimar Bagh', 'Shalimar Bagh', 'Shalimar Bagh', 'Shalimar Bagh', 'Shalimar Bagh', 'Shalimar Bagh', 'Shalimar Bagh', 'Shalimar Bagh', 'Shalimar Bagh', 'Shalimar Bagh', 'Shalimar Bagh', 'Shalimar Bagh', 'Shalimar Bagh', 'Shalimar Bagh', 'Shalimar Bagh', 'Shalimar Bagh', 'Shalimar Bagh', 'Shalimar Bagh', 'Shalimar Bagh', 'Shalimar Bagh', 'Shalimar Bagh', 'Shalimar Bagh', 'Shalimar Bagh', 'Shalimar Bagh', 'Shalimar Bagh', 'Shalimar Bagh', 'Shalimar Bagh', 'Shalimar Bagh', 'Shalimar Bagh', 'Shalimar Bagh', 'Shalimar Bagh', 'Shalimar Bagh', 'Shalimar Bagh', 'Shalimar Bagh', 'Shalimar Bagh', 'Shalimar Bagh', 'Shalimar Bagh', 'Shalimar Bagh', 'Shalimar Bagh', 'Shalimar Bagh', 'Shalimar Bagh', 'Shalimar Bagh', 'Shalimar Bagh', 'Shalimar Bagh', 'Shalimar Bagh', 'Shalimar Bagh', \"Shangri La's - Eros hotel\", \"Shangri La's - Eros hotel\", \"Shangri La's - Eros hotel\", \"Shangri La's - Eros hotel\", \"Shangri La's - Eros hotel\", 'Shanti Niketan Marg', 'Shanti Niketan Marg', 'Shastri Park', 'Sheikh Sarai', 'Sheraton New Delhi Hotel', 'Sheraton New Delhi Hotel', 'Sheraton New Delhi Hotel', 'South Extension 1', 'South Extension 1', 'South Extension 1', 'South Extension 1', 'South Extension 1', 'South Extension 1', 'South Extension 1', 'South Extension 1', 'South Extension 1', 'South Extension 1', 'South Extension 1', 'South Extension 1', 'South Extension 1', 'South Extension 2', 'South Extension 2', 'South Extension 2', 'South Extension 2', 'South Extension 2', 'South Extension 2', 'South Extension 2', 'South Extension 2', 'South Extension 2', 'South Extension 2', 'South Extension 2', 'South Extension 2', 'South Extension 2', 'South Extension 2', 'South Extension 2', 'South Extension 2', 'South Extension 2', 'South Extension 2', 'South Extension 2', 'South Extension 2', 'South Extension 2', 'South Extension 2', 'South Extension 2', 'South Extension 2', 'South Extension 2', 'South Extension 2', 'South Extension 2', 'South Extension 2', 'South Extension 2', 'South Extension 2', 'South Extension 2', 'South Extension 2', 'South Extension 2', 'South Extension 2', 'South Extension 2', 'South Extension 2', 'South Extension 2', 'South Extension 2', 'South Extension 2', 'South Extension 2', 'South Extension 2', 'Southern Park Mall', 'Southern Park Mall', 'Spark Mall', 'Spark Mall', 'Spark Mall', 'Spark Mall', 'Spark Mall', 'Star City Mall', 'Star City Mall', 'Star City Mall', 'Star City Mall', 'Star City Mall', 'Star City Mall', 'Star City Mall', 'Subhash Nagar', 'Subhash Nagar', 'Subhash Nagar', 'Subhash Nagar', 'Subhash Nagar', 'Subhash Nagar', 'Subhash Nagar', 'Subhash Nagar', 'Subhash Nagar', 'Subhash Nagar', 'Subhash Nagar', 'Subhash Nagar', 'Subhash Nagar', 'Subhash Nagar', 'Subhash Nagar', 'Subhash Nagar', 'Subhash Nagar', 'Subhash Nagar', 'Subhash Nagar', 'Subhash Nagar', 'Subhash Nagar', 'Subhash Nagar', 'Subhash Nagar', 'Subhash Nagar', 'Subhash Nagar', 'Subhash Nagar', 'Subhash Nagar', 'Subhash Nagar', 'Subhash Nagar', 'Subhash Nagar', 'Subhash Nagar', 'Subhash Nagar', 'Subhash Nagar', 'Subhash Nagar', 'Subhash Nagar', 'Subhash Nagar', 'Subhash Nagar', 'Subhash Nagar', 'Subhash Nagar', 'Subhash Nagar', 'Subhash Nagar', 'Subhash Nagar', 'Subhash Nagar', 'Subhash Nagar', 'Subhash Nagar', 'Subhash Nagar', 'Subhash Nagar', 'Subhash Nagar', 'Subhash Nagar', 'Subhash Nagar', 'Subhash Nagar', 'Sunder Nagar', 'Sunder Nagar', 'Sunder Nagar', 'Sunder Nagar', 'Sunder Nagar', 'Sunder Nagar', 'Sunder Nagar', 'T3 Domestic Arrival', 'Tagore Garden', 'Tagore Garden', 'Tagore Garden', 'Tagore Garden', 'Tagore Garden', 'Tagore Garden', 'Tagore Garden', 'Tagore Garden', 'Tagore Garden', 'Tagore Garden', 'Tagore Garden', 'Tagore Garden', 'Tagore Garden', 'Tagore Garden', 'Tagore Garden', 'Tagore Garden', 'Tagore Garden', 'Tagore Garden', 'Tagore Garden', 'Tagore Garden', 'Tagore Garden', 'Tagore Garden', 'Tagore Garden', 'Tagore Garden', 'Tagore Garden', 'Tagore Garden', 'Tagore Garden', 'Tagore Garden', 'Tagore Garden', 'Tagore Garden', 'Tagore Garden', 'Tagore Garden', 'Tagore Garden', 'Tagore Garden', 'Tagore Garden', 'Tagore Garden', 'Taj Vivanta', 'Taj Vivanta', 'Taj Vivanta', 'TDI Mall', 'TDI Mall', 'TDI Mall', 'The Ashok', 'The Ashok', 'The Ashok', 'The Ashok', 'The Ashok', 'The Ashok', 'The Claridges', 'The Claridges', 'The Claridges', 'The Claridges', 'The Claridges', 'The Claridges', 'The Claridges', 'The Grand New Delhi', 'The Grand New Delhi', 'The Imperial', 'The Imperial', 'The Imperial', 'The Imperial', 'The Imperial', 'The Imperial', 'The Imperial', 'The Imperial', 'The Imperial', 'The India Mall', 'The India Mall', 'The India Mall', 'The India Mall', 'The India Mall', 'The India Mall', 'The India Mall', 'The India Mall', 'The Lalit New Delhi', 'The Lalit New Delhi', 'The Lalit New Delhi', 'The Lalit New Delhi', 'The Lalit New Delhi', 'The Lalit New Delhi', 'The Lalit New Delhi', 'The Lalit New Delhi', 'The Leela Ambience Convention Hotel', 'The Leela Ambience Convention Hotel', 'The Leela Ambience Convention Hotel', 'The Leela Ambience Convention Hotel', 'The Leela Palace', 'The Leela Palace', 'The Leela Palace', 'The Leela Palace', 'The Leela Palace', 'The Lodhi', 'The Lodhi', 'The Park', 'The Park', 'The Park', 'The Suryaa New Delhi', 'The Suryaa New Delhi', 'The Suryaa New Delhi', 'The Suryaa New Delhi', 'The Taj Mahal Hotel', 'The Taj Mahal Hotel', 'The Taj Mahal Hotel', 'The Taj Mahal Hotel', 'The Taj Mahal Hotel', 'The Taj Mahal Hotel', 'The Taj Mahal Hotel', 'The Taj Palace Hotel', 'The Taj Palace Hotel', 'The Taj Palace Hotel', 'The Taj Palace Hotel', 'The Uppal', 'The Uppal', 'The Uppal', 'The Village Restaurant Complex', 'The Village Restaurant Complex', 'The Village Restaurant Complex', 'Tilak Marg', 'Tilak Nagar', 'Tilak Nagar', 'Tilak Nagar', 'Tilak Nagar', 'Tilak Nagar', 'Tilak Nagar', 'Tilak Nagar', 'Tilak Nagar', 'Tilak Nagar', 'Tilak Nagar', 'Tilak Nagar', 'Tilak Nagar', 'Tilak Nagar', 'Tilak Nagar', 'Tilak Nagar', 'Tilak Nagar', 'Tilak Nagar', 'Tilak Nagar', 'Tilak Nagar', 'Tilak Nagar', 'Tilak Nagar', 'Tilak Nagar', 'Tilak Nagar', 'Tilak Nagar', 'Tilak Nagar', 'Tilak Nagar', 'Tilak Nagar', 'Tilak Nagar', 'Tilak Nagar', 'Tilak Nagar', 'Tilak Nagar', 'Tilak Nagar', 'Tilak Nagar', 'Tilak Nagar', 'Tilak Nagar', 'Tilak Nagar', 'Tilak Nagar', 'Tilak Nagar', 'Tilak Nagar', 'Tilak Nagar', 'Tilak Nagar', 'Tilak Nagar', 'Tilak Nagar', 'Tilak Nagar', 'Tilak Nagar', 'Tilak Nagar', 'Tilak Nagar', 'Tilak Nagar', 'Tilak Nagar', 'Tilak Nagar', 'Tilak Nagar', 'Tilak Nagar', 'Tilak Nagar', 'Tilak Nagar', 'Tilak Nagar', 'Tilak Nagar', 'Tilak Nagar', 'Tilak Nagar', 'Tilak Nagar', 'Tilak Nagar', 'Trilokpuri', 'Tughlakabad Institutional Area', 'Uday Park', 'Uday Park', 'Uday Park', 'Unity One Mall', 'Unity One Mall', 'Unity One Mall', 'Unity One Mall', 'Unity One Mall', 'Uttam Nagar', 'Uttam Nagar', 'Uttam Nagar', 'Uttam Nagar', 'Uttam Nagar', 'Uttam Nagar', 'Uttam Nagar', 'Uttam Nagar', 'Uttam Nagar', 'Uttam Nagar', 'Uttam Nagar', 'Uttam Nagar', 'Uttam Nagar', 'Uttam Nagar', 'Uttam Nagar', 'Uttam Nagar', 'Uttam Nagar', 'Uttam Nagar', 'Uttam Nagar', 'Uttam Nagar', 'Uttam Nagar', 'Uttam Nagar', 'Uttam Nagar', 'Uttam Nagar', 'Uttam Nagar', 'Uttam Nagar', 'Uttam Nagar', 'Uttam Nagar', 'Uttam Nagar', 'Uttam Nagar', 'Uttam Nagar', 'Uttam Nagar', 'Uttam Nagar', 'Uttam Nagar', 'Uttam Nagar', 'Uttam Nagar', 'Uttam Nagar', 'Uttam Nagar', 'Uttam Nagar', 'Uttam Nagar', 'Uttam Nagar', 'Uttam Nagar', 'Uttam Nagar', 'Uttam Nagar', 'Uttam Nagar', 'Uttam Nagar', 'Uttam Nagar', 'Uttam Nagar', 'Uttam Nagar', 'Uttam Nagar', 'Uttam Nagar', 'Uttam Nagar', 'Uttam Nagar', 'Uttam Nagar', 'Uttam Nagar', 'Uttam Nagar', 'Uttam Nagar', 'Uttam Nagar', 'Uttam Nagar', 'V3S Mall', 'V3S Mall', 'V3S Mall', 'V3S Mall', 'V3S Mall', 'V3S Mall', 'V3S Mall', 'V3S Mall', 'V3S Mall', 'V3S Mall', 'V3S Mall', 'V3S Mall', 'V3S Mall', 'V3S Mall', 'V3S Mall', 'V3S Mall', 'V3S Mall', 'V3S Mall', 'V3S Mall', 'V3S Mall', 'V3S Mall', 'V3S Mall', 'V3S Mall', 'V3S Mall', 'V3S Mall', 'V3S Mall', 'Vasant Kunj', 'Vasant Kunj', 'Vasant Kunj', 'Vasant Kunj', 'Vasant Kunj', 'Vasant Kunj', 'Vasant Kunj', 'Vasant Kunj', 'Vasant Kunj', 'Vasant Kunj', 'Vasant Kunj', 'Vasant Kunj', 'Vasant Kunj', 'Vasant Kunj', 'Vasant Kunj', 'Vasant Kunj', 'Vasant Kunj', 'Vasant Kunj', 'Vasant Kunj', 'Vasant Kunj', 'Vasant Kunj', 'Vasant Kunj', 'Vasant Kunj', 'Vasant Square Mall', 'Vasant Square Mall', 'Vasant Square Mall', 'Vasant Square Mall', 'Vasant Square Mall', 'Vasant Square Mall', 'Vasant Square Mall', 'Vasant Square Mall', 'Vasant Square Mall', 'Vasant Vihar', 'Vasant Vihar', 'Vasant Vihar', 'Vasant Vihar', 'Vasant Vihar', 'Vasant Vihar', 'Vasant Vihar', 'Vasant Vihar', 'Vasant Vihar', 'Vasant Vihar', 'Vasant Vihar', 'Vasant Vihar', 'Vasant Vihar', 'Vasant Vihar', 'Vasant Vihar', 'Vasant Vihar', 'Vasant Vihar', 'Vasant Vihar', 'Vasant Vihar', 'Vasant Vihar', 'Vasant Vihar', 'Vasant Vihar', 'Vasant Vihar', 'Vasant Vihar', 'Vasant Vihar', 'Vasant Vihar', 'Vasant Vihar', 'Vasant Vihar', 'Vasant Vihar', 'Vasant Vihar', 'Vasant Vihar', 'Vasant Vihar', 'Vasant Vihar', 'Vasant Vihar', 'Vasant Vihar', 'Vasant Vihar', 'Vasundhara Enclave', 'Vasundhara Enclave', 'Vasundhara Enclave', 'Vasundhara Enclave', 'Vasundhara Enclave', 'Vasundhara Enclave', 'Vasundhara Enclave', 'Vasundhara Enclave', 'Vasundhara Enclave', 'Vasundhara Enclave', 'Vasundhara Enclave', 'Vasundhara Enclave', 'Vasundhara Enclave', 'Vasundhara Enclave', 'Vasundhara Enclave', 'Vasundhara Enclave', 'Vasundhara Enclave', 'Vasundhara Enclave', 'Vasundhara Enclave', 'Vasundhara Enclave', 'Vasundhara Enclave', 'Vasundhara Enclave', 'Vasundhara Enclave', 'Vasundhara Enclave', 'Vasundhara Enclave', 'Vasundhara Enclave', 'Vasundhara Enclave', 'Vasundhara Enclave', 'Vasundhara Enclave', 'Vasundhara Enclave', 'Vasundhara Enclave', 'Vasundhara Enclave', 'Vasundhara Enclave', 'Vasundhara Enclave', 'Vasundhara Enclave', 'Vasundhara Enclave', 'Vasundhara Enclave', 'Vasundhara Enclave', 'Vasundhara Enclave', 'Vasundhara Enclave', 'Vasundhara Enclave', 'Vasundhara Enclave', 'Vasundhara Enclave', 'Vasundhara Enclave', 'Vasundhara Enclave', 'Vasundhara Enclave', 'Vasundhara Enclave', 'Vasundhara Enclave', 'Vasundhara Enclave', 'Vasundhara Enclave', 'Vasundhara Enclave', 'Vasundhara Enclave', 'Vasundhara Enclave', 'Vasundhara Enclave', 'Vasundhara Enclave', 'Vasundhara Enclave', 'Vasundhara Enclave', 'Vasundhara Enclave', 'Vasundhara Enclave', 'Vasundhara Enclave', 'Vasundhara Enclave', 'Vasundhara Enclave', 'Vijay Nagar', 'Vijay Nagar', 'Vijay Nagar', 'Vijay Nagar', 'Vijay Nagar', 'Vijay Nagar', 'Vijay Nagar', 'Vijay Nagar', 'Vijay Nagar', 'Vijay Nagar', 'Vijay Nagar', 'Vijay Nagar', 'Vijay Nagar', 'Vijay Nagar', 'Vijay Nagar', 'Vijay Nagar', 'Vijay Nagar', 'Vijay Nagar', 'Vijay Nagar', 'Vijay Nagar', 'Vijay Nagar', 'Vijay Nagar', 'Vijay Nagar', 'Vijay Nagar', 'Vijay Nagar', 'Vijay Nagar', 'Vijay Nagar', 'Vijay Nagar', 'Vijay Nagar', 'Vijay Nagar', 'Vijay Nagar', 'Vikas Marg', 'Vikas Marg', 'Vikaspuri', 'Vikaspuri', 'Vikaspuri', 'Vikaspuri', 'Vikaspuri', 'Vikaspuri', 'Vikaspuri', 'Vikaspuri', 'Vikaspuri', 'Vikaspuri', 'Vikaspuri', 'Vikaspuri', 'Vikaspuri', 'Vikaspuri', 'Vikaspuri', 'Vikaspuri', 'Vikaspuri', 'Vikaspuri', 'Vikaspuri', 'Vikaspuri', 'Vikaspuri', 'Vikaspuri', 'Vikaspuri', 'Vikaspuri', 'Vikaspuri', 'Vikaspuri', 'Vikaspuri', 'Vikaspuri', 'Vikaspuri', 'Vikaspuri', 'Vikaspuri', 'Vikaspuri', 'Vikaspuri', 'Vikaspuri', 'Vikaspuri', 'Vikaspuri', 'Vikaspuri', 'Vikaspuri', 'Vikaspuri', 'Vikaspuri', 'Vikaspuri', 'Vikaspuri', 'Vikaspuri', 'Vikaspuri', 'Vikaspuri', 'Vikaspuri', 'Vikaspuri', 'Vikaspuri', 'Vikaspuri', 'Vikaspuri', 'Vikaspuri', 'Vikaspuri', 'Vikaspuri', 'Vikaspuri', 'Vikaspuri', 'Vikaspuri', 'Vikaspuri', 'Vikaspuri', 'Vikaspuri', 'Vikaspuri', 'Vivek Vihar', 'Vivek Vihar', 'Vivek Vihar', 'Vivek Vihar', 'Vivek Vihar', 'Vivek Vihar', 'Vivek Vihar', 'Vivek Vihar', 'Vivek Vihar', 'Vivek Vihar', 'Vivek Vihar', 'Vivek Vihar', 'Vivek Vihar', 'Vivek Vihar', 'Vivek Vihar', 'Vivek Vihar', 'Vivek Vihar', 'Vivek Vihar', 'Vivek Vihar', 'Vivek Vihar', 'Vivek Vihar', 'Vivek Vihar', 'Vivek Vihar', 'Vivek Vihar', 'Vivek Vihar', 'Vivek Vihar', 'Vivek Vihar', 'Vivek Vihar', 'Vivek Vihar', 'Vivek Vihar', 'Vivek Vihar', 'Vivek Vihar', 'Vivek Vihar', 'Vivek Vihar', 'Vivek Vihar', 'Vivek Vihar', 'Wazirpur', 'Wazirpur', 'Wazirpur', 'Wazirpur', 'Wazirpur', 'Wazirpur', 'West End Mall', 'West End Mall', 'West Gate Mall', 'West Patel Nagar', 'West Patel Nagar', 'West Patel Nagar', 'West Patel Nagar', 'Worldmark 1', 'Worldmark 1', 'Worldmark 1', 'Worldmark 1', 'Worldmark 1', 'Worldmark 1', 'Worldmark 1', 'Worldmark 1', 'Worldmark 1', 'Worldmark 1', 'Worldmark 1', 'Worldmark 1', 'Worldmark 1', 'Worldmark 1', 'Worldmark 3', 'Yusuf Sarai', 'Yusuf Sarai', 'Yusuf Sarai', 'Yusuf Sarai', 'Yusuf Sarai', 'Yusuf Sarai', 'Yusuf Sarai', 'Yusuf Sarai', 'Yusuf Sarai', 'Yusuf Sarai', 'Yusuf Sarai', 'Yusuf Sarai', 'Yusuf Sarai', 'Yusuf Sarai', 'Yusuf Sarai', 'Yusuf Sarai', 'Yusuf Sarai', 'Yusuf Sarai', 'Yusuf Sarai', 'Yusuf Sarai', 'Yusuf Sarai', 'Yusuf Sarai', 'Yusuf Sarai', 'Yusuf Sarai', 'Yusuf Sarai', 'Zakir Nagar', 'Zakir Nagar', 'Zakir Nagar', 'Zakir Nagar', 'Zakir Nagar', 'Zakir Nagar', 'Zakir Nagar', 'Zakir Nagar', 'Zakir Nagar', 'Zakir Nagar', 'Zakir Nagar', 'Zakir Nagar', 'Zakir Nagar', 'Zakir Nagar', 'Ansal Plaza Mall', 'Ansal Plaza Mall', 'Ansal Plaza Mall', 'Ansal Plaza Mall', 'Ansal Plaza Mall', 'Brahmaputra Shopping Complex', 'Brahmaputra Shopping Complex', 'Brahmaputra Shopping Complex', 'Brahmaputra Shopping Complex', 'Centre Stage Mall', 'Centre Stage Mall', 'Centre Stage Mall', 'Centre Stage Mall', 'DLF Mall of India', 'DLF Mall of India', 'DLF Mall of India', 'DLF Mall of India', 'DLF Mall of India', 'DLF Mall of India', 'DLF Mall of India', 'DLF Mall of India', 'DLF Mall of India', 'DLF Mall of India', 'DLF Mall of India', 'DLF Mall of India', 'DLF Mall of India', 'DLF Mall of India', 'DLF Mall of India', 'DLF Mall of India', 'DLF Mall of India', 'DLF Mall of India', 'DLF Mall of India', 'DLF Mall of India', 'DLF Mall of India', 'DLF Mall of India', 'DLF Mall of India', 'DLF Mall of India', 'DLF Mall of India', 'DLF Mall of India', 'DLF Mall of India', 'DLF Mall of India', 'DLF Mall of India', 'DLF Mall of India', 'DLF Mall of India', 'Fortune Inn Grazia', 'Fortune Inn Grazia', 'Ganga Shopping Complex', 'Ganga Shopping Complex', 'Ganga Shopping Complex', 'Ganga Shopping Complex', 'Ganga Shopping Complex', 'Ganga Shopping Complex', 'Ganga Shopping Complex', 'Ganga Shopping Complex', 'Gardens Galleria', 'Gardens Galleria', 'Gardens Galleria', 'Gardens Galleria', 'Gardens Galleria', 'Gardens Galleria', 'Gardens Galleria', 'Gardens Galleria', 'Gardens Galleria', 'Gardens Galleria', 'Gardens Galleria', 'Gardens Galleria', 'Gardens Galleria', 'Gardens Galleria', 'Golf Course', 'Greater Noida', 'Greater Noida', 'Greater Noida', 'Greater Noida', 'Greater Noida', 'Greater Noida', 'Greater Noida', 'Greater Noida', 'Greater Noida', 'Greater Noida', 'Greater Noida', 'Greater Noida', 'Greater Noida', 'Greater Noida', 'Greater Noida', 'Greater Noida', 'Greater Noida', 'Greater Noida', 'Greater Noida', 'Greater Noida', 'Greater Noida', 'Greater Noida', 'Greater Noida', 'Greater Noida', 'Greater Noida', 'Greater Noida', 'Greater Noida', 'Greater Noida', 'Greater Noida', 'Greater Noida', 'Greater Noida', 'Greater Noida', 'Greater Noida', 'Greater Noida', 'Greater Noida', 'Greater Noida', 'Greater Noida', 'Greater Noida', 'Harsha Mall', 'Harsha Mall', 'Harsha Mall', 'Hotel Golf View', 'Hotel Golf View', 'Hotel Golf View', 'Jaipuria Plaza', 'Jaipuria Plaza', 'Jaipuria Plaza', 'Jaipuria Plaza', 'Jaipuria Plaza', 'Jaipuria Plaza', 'Jaipuria Plaza', 'Jaipuria Plaza', 'Jaipuria Plaza', 'Jaipuria Plaza', 'Jaipuria Plaza', 'Jaipuria Plaza', 'Jaipuria Plaza', 'Jaypee Greens Golf & Spa Resort', 'Jaypee Greens Golf & Spa Resort', 'Jaypee Greens Golf & Spa Resort', 'Jaypee Greens Golf & Spa Resort', 'Jaypee Greens', 'Jaypee Greens', 'Logix City Centre', 'Logix City Centre', 'Logix City Centre', 'Logix City Centre', 'Logix City Centre', 'Logix City Centre', 'Logix City Centre', 'Logix City Centre', 'Logix City Centre', 'Logix City Centre', 'Logix City Centre', 'Logix City Centre', 'Logix City Centre', 'Logix City Centre', 'Logix City Centre', 'Logix City Centre', 'Logix City Centre', 'Logix City Centre', 'Logix City Centre', 'Logix City Centre', 'Logix City Centre', 'Logix City Centre', 'Logix City Centre', 'Logix City Centre', 'Logix City Centre', 'Logix City Centre', 'Logix City Centre', 'Logix City Centre', 'Logix City Centre', 'Logix City Centre', 'Logix Cyber Park', 'Logix Cyber Park', 'Mosaic Hotels', 'Mosaic Hotels', 'MSX Mall', 'MSX Mall', 'MSX Mall', 'MSX Mall', 'MSX Mall', 'MSX Mall', 'MSX Mall', 'Park Ascent', 'Park Plaza Hotel', 'Park Plaza Hotel', 'Park Plaza Hotel', 'Radisson Blu', 'Sector 1', 'Sector 1', 'Sector 10', 'Sector 10', 'Sector 10', 'Sector 10', 'Sector 10', 'Sector 10', 'Sector 10', 'Sector 11', 'Sector 11', 'Sector 11', 'Sector 11', 'Sector 11', 'Sector 11', 'Sector 11', 'Sector 11', 'Sector 110', 'Sector 110', 'Sector 110', 'Sector 110', 'Sector 110', 'Sector 110', 'Sector 110', 'Sector 110', 'Sector 110', 'Sector 110', 'Sector 110', 'Sector 110', 'Sector 110', 'Sector 110', 'Sector 110', 'Sector 110', 'Sector 110', 'Sector 110', 'Sector 110', 'Sector 110', 'Sector 110', 'Sector 110', 'Sector 110', 'Sector 110', 'Sector 110', 'Sector 110', 'Sector 110', 'Sector 110', 'Sector 110', 'Sector 110', 'Sector 110', 'Sector 110', 'Sector 110', 'Sector 110', 'Sector 110', 'Sector 110', 'Sector 110', 'Sector 110', 'Sector 110', 'Sector 110', 'Sector 110', 'Sector 110', 'Sector 110', 'Sector 110', 'Sector 110', 'Sector 110', 'Sector 110', 'Sector 110', 'Sector 110', 'Sector 110', 'Sector 110', 'Sector 110', 'Sector 110', 'Sector 12', 'Sector 12', 'Sector 12', 'Sector 12', 'Sector 12', 'Sector 12', 'Sector 12', 'Sector 12', 'Sector 12', 'Sector 12', 'Sector 12', 'Sector 12', 'Sector 12', 'Sector 12', 'Sector 12', 'Sector 12', 'Sector 12', 'Sector 12', 'Sector 12', 'Sector 12', 'Sector 12', 'Sector 12', 'Sector 125', 'Sector 125', 'Sector 125', 'Sector 125', 'Sector 125', 'Sector 125', 'Sector 125', 'Sector 125', 'Sector 127', 'Sector 132', 'Sector 132', 'Sector 132', 'Sector 132', 'Sector 132', 'Sector 132', 'Sector 132', 'Sector 132', 'Sector 132', 'Sector 132', 'Sector 132', 'Sector 132', 'Sector 132', 'Sector 132', 'Sector 132', 'Sector 132', 'Sector 132', 'Sector 132', 'Sector 132', 'Sector 132', 'Sector 132', 'Sector 132', 'Sector 132', 'Sector 132', 'Sector 132', 'Sector 132', 'Sector 132', 'Sector 132', 'Sector 132', 'Sector 132', 'Sector 132', 'Sector 132', 'Sector 132', 'Sector 132', 'Sector 132', 'Sector 132', 'Sector 132', 'Sector 132', 'Sector 132', 'Sector 132', 'Sector 132', 'Sector 132', 'Sector 132', 'Sector 15', 'Sector 15', 'Sector 15', 'Sector 15', 'Sector 15', 'Sector 15', 'Sector 15', 'Sector 15', 'Sector 15', 'Sector 15', 'Sector 15', 'Sector 15', 'Sector 15', 'Sector 15', 'Sector 15', 'Sector 15', 'Sector 15', 'Sector 15', 'Sector 15', 'Sector 15', 'Sector 15', 'Sector 15', 'Sector 15', 'Sector 15', 'Sector 15', 'Sector 15', 'Sector 15', 'Sector 15', 'Sector 15', 'Sector 16', 'Sector 16', 'Sector 16', 'Sector 16', 'Sector 16', 'Sector 16', 'Sector 16', 'Sector 16', 'Sector 16', 'Sector 16', 'Sector 16', 'Sector 18', 'Sector 18', 'Sector 18', 'Sector 18', 'Sector 18', 'Sector 18', 'Sector 18', 'Sector 18', 'Sector 18', 'Sector 18', 'Sector 18', 'Sector 18', 'Sector 18', 'Sector 18', 'Sector 18', 'Sector 18', 'Sector 18', 'Sector 18', 'Sector 18', 'Sector 18', 'Sector 18', 'Sector 18', 'Sector 18', 'Sector 18', 'Sector 18', 'Sector 18', 'Sector 18', 'Sector 18', 'Sector 18', 'Sector 18', 'Sector 18', 'Sector 18', 'Sector 18', 'Sector 18', 'Sector 18', 'Sector 18', 'Sector 18', 'Sector 18', 'Sector 18', 'Sector 18', 'Sector 18', 'Sector 18', 'Sector 18', 'Sector 18', 'Sector 18', 'Sector 18', 'Sector 18', 'Sector 18', 'Sector 18', 'Sector 18', 'Sector 18', 'Sector 18', 'Sector 18', 'Sector 18', 'Sector 18', 'Sector 18', 'Sector 18', 'Sector 18', 'Sector 18', 'Sector 18', 'Sector 18', 'Sector 18', 'Sector 18', 'Sector 18', 'Sector 18', 'Sector 18', 'Sector 18', 'Sector 18', 'Sector 18', 'Sector 18', 'Sector 18', 'Sector 18', 'Sector 18', 'Sector 18', 'Sector 18', 'Sector 19', 'Sector 19', 'Sector 19', 'Sector 19', 'Sector 2', 'Sector 2', 'Sector 2', 'Sector 2', 'Sector 2', 'Sector 2', 'Sector 2', 'Sector 2', 'Sector 2', 'Sector 20', 'Sector 20', 'Sector 20', 'Sector 21', 'Sector 21', 'Sector 21', 'Sector 22', 'Sector 22', 'Sector 22', 'Sector 22', 'Sector 22', 'Sector 22', 'Sector 22', 'Sector 22', 'Sector 22', 'Sector 25', 'Sector 25', 'Sector 25', 'Sector 25', 'Sector 25', 'Sector 25', 'Sector 26', 'Sector 26', 'Sector 26', 'Sector 27', 'Sector 27', 'Sector 27', 'Sector 27', 'Sector 27', 'Sector 27', 'Sector 27', 'Sector 27', 'Sector 27', 'Sector 27', 'Sector 27', 'Sector 27', 'Sector 27', 'Sector 27', 'Sector 27', 'Sector 27', 'Sector 27', 'Sector 27', 'Sector 27', 'Sector 27', 'Sector 27', 'Sector 27', 'Sector 27', 'Sector 27', 'Sector 27', 'Sector 27', 'Sector 28', 'Sector 28', 'Sector 28', 'Sector 28', 'Sector 28', 'Sector 28', 'Sector 29', 'Sector 29', 'Sector 29', 'Sector 29', 'Sector 29', 'Sector 29', 'Sector 29', 'Sector 3', 'Sector 3', 'Sector 3', 'Sector 3', 'Sector 3', 'Sector 30', 'Sector 30', 'Sector 31', 'Sector 31', 'Sector 31', 'Sector 31', 'Sector 31', 'Sector 31', 'Sector 31', 'Sector 31', 'Sector 33', 'Sector 33', 'Sector 33', 'Sector 33', 'Sector 33', 'Sector 34', 'Sector 34', 'Sector 34', 'Sector 34', 'Sector 34', 'Sector 34', 'Sector 34', 'Sector 34', 'Sector 34', 'Sector 34', 'Sector 34', 'Sector 34', 'Sector 34', 'Sector 37', 'Sector 37', 'Sector 37', 'Sector 37', 'Sector 37', 'Sector 37', 'Sector 37', 'Sector 37', 'Sector 37', 'Sector 37', 'Sector 37', 'Sector 37', 'Sector 37', 'Sector 37', 'Sector 37', 'Sector 37', 'Sector 37', 'Sector 37', 'Sector 37', 'Sector 37', 'Sector 37', 'Sector 37', 'Sector 37', 'Sector 37', 'Sector 37', 'Sector 38', 'Sector 38', 'Sector 38', 'Sector 38', 'Sector 38', 'Sector 38', 'Sector 38', 'Sector 38', 'Sector 38', 'Sector 38', 'Sector 38', 'Sector 38', 'Sector 38', 'Sector 39', 'Sector 39', 'Sector 39', 'Sector 4', 'Sector 4', 'Sector 40', 'Sector 40', 'Sector 41', 'Sector 41', 'Sector 41', 'Sector 41', 'Sector 41', 'Sector 41', 'Sector 41', 'Sector 41', 'Sector 41', 'Sector 41', 'Sector 41', 'Sector 41', 'Sector 41', 'Sector 41', 'Sector 41', 'Sector 41', 'Sector 41', 'Sector 41', 'Sector 41', 'Sector 41', 'Sector 41', 'Sector 41', 'Sector 41', 'Sector 41', 'Sector 41', 'Sector 41', 'Sector 41', 'Sector 41', 'Sector 41', 'Sector 41', 'Sector 41', 'Sector 41', 'Sector 41', 'Sector 41', 'Sector 41', 'Sector 41', 'Sector 41', 'Sector 41', 'Sector 41', 'Sector 41', 'Sector 41', 'Sector 41', 'Sector 41', 'Sector 41', 'Sector 41', 'Sector 44', 'Sector 44', 'Sector 44', 'Sector 44', 'Sector 44', 'Sector 44', 'Sector 44', 'Sector 44', 'Sector 44', 'Sector 44', 'Sector 44', 'Sector 44', 'Sector 44', 'Sector 44', 'Sector 44', 'Sector 44', 'Sector 44', 'Sector 44', 'Sector 44', 'Sector 44', 'Sector 44', 'Sector 44', 'Sector 44', 'Sector 45', 'Sector 45', 'Sector 45', 'Sector 45', 'Sector 45', 'Sector 45', 'Sector 45', 'Sector 45', 'Sector 45', 'Sector 47', 'Sector 47', 'Sector 47', 'Sector 47', 'Sector 47', 'Sector 47', 'Sector 48', 'Sector 48', 'Sector 48', 'Sector 48', 'Sector 48', 'Sector 48', 'Sector 48', 'Sector 48', 'Sector 48', 'Sector 48', 'Sector 49', 'Sector 49', 'Sector 49', 'Sector 49', 'Sector 5', 'Sector 5', 'Sector 5', 'Sector 50', 'Sector 50', 'Sector 50', 'Sector 50', 'Sector 50', 'Sector 50', 'Sector 50', 'Sector 50', 'Sector 50', 'Sector 50', 'Sector 50', 'Sector 50', 'Sector 50', 'Sector 50', 'Sector 50', 'Sector 50', 'Sector 50', 'Sector 50', 'Sector 50', 'Sector 50', 'Sector 50', 'Sector 50', 'Sector 50', 'Sector 50', 'Sector 50', 'Sector 50', 'Sector 50', 'Sector 50', 'Sector 50', 'Sector 50', 'Sector 50', 'Sector 50', 'Sector 50', 'Sector 50', 'Sector 50', 'Sector 51', 'Sector 51', 'Sector 51', 'Sector 51', 'Sector 51', 'Sector 51', 'Sector 51', 'Sector 51', 'Sector 51', 'Sector 51', 'Sector 51', 'Sector 51', 'Sector 51', 'Sector 51', 'Sector 51', 'Sector 51', 'Sector 51', 'Sector 51', 'Sector 51', 'Sector 51', 'Sector 51', 'Sector 51', 'Sector 51', 'Sector 51', 'Sector 51', 'Sector 51', 'Sector 51', 'Sector 51', 'Sector 52', 'Sector 52', 'Sector 52', 'Sector 52', 'Sector 52', 'Sector 53', 'Sector 53', 'Sector 53', 'Sector 53', 'Sector 53', 'Sector 53', 'Sector 53', 'Sector 53', 'Sector 53', 'Sector 53', 'Sector 53', 'Sector 53', 'Sector 53', 'Sector 53', 'Sector 53', 'Sector 53', 'Sector 53', 'Sector 53', 'Sector 53', 'Sector 55', 'Sector 55', 'Sector 56', 'Sector 56', 'Sector 56', 'Sector 56', 'Sector 56', 'Sector 57', 'Sector 58', 'Sector 58', 'Sector 58', 'Sector 58', 'Sector 58', 'Sector 58', 'Sector 58', 'Sector 58', 'Sector 58', 'Sector 58', 'Sector 58', 'Sector 58', 'Sector 58', 'Sector 59', 'Sector 59', 'Sector 59', 'Sector 59', 'Sector 59', 'Sector 59', 'Sector 59', 'Sector 6', 'Sector 60', 'Sector 60', 'Sector 60', 'Sector 61', 'Sector 61', 'Sector 61', 'Sector 61', 'Sector 61', 'Sector 62', 'Sector 62', 'Sector 62', 'Sector 62', 'Sector 62', 'Sector 62', 'Sector 62', 'Sector 62', 'Sector 62', 'Sector 62', 'Sector 62', 'Sector 62', 'Sector 62', 'Sector 62', 'Sector 62', 'Sector 62', 'Sector 62', 'Sector 62', 'Sector 62', 'Sector 62', 'Sector 62', 'Sector 62', 'Sector 62', 'Sector 62', 'Sector 62', 'Sector 62', 'Sector 62', 'Sector 62', 'Sector 62', 'Sector 62', 'Sector 62', 'Sector 62', 'Sector 62', 'Sector 62', 'Sector 62', 'Sector 62', 'Sector 62', 'Sector 62', 'Sector 62', 'Sector 62', 'Sector 62', 'Sector 62', 'Sector 62', 'Sector 62', 'Sector 62', 'Sector 62', 'Sector 62', 'Sector 62', 'Sector 62', 'Sector 62', 'Sector 62', 'Sector 62', 'Sector 62', 'Sector 62', 'Sector 62', 'Sector 62', 'Sector 62', 'Sector 62', 'Sector 62', 'Sector 62', 'Sector 62', 'Sector 62', 'Sector 62', 'Sector 62', 'Sector 62', 'Sector 62', 'Sector 62', 'Sector 62', 'Sector 62', 'Sector 62', 'Sector 62', 'Sector 62', 'Sector 62', 'Sector 62', 'Sector 62', 'Sector 62', 'Sector 63', 'Sector 63', 'Sector 63', 'Sector 63', 'Sector 63', 'Sector 63', 'Sector 63', 'Sector 63', 'Sector 63', 'Sector 63', 'Sector 63', 'Sector 63', 'Sector 65', 'Sector 65', 'Sector 65', 'Sector 65', 'Sector 65', 'Sector 65', 'Sector 7', 'Sector 7', 'Sector 7', 'Sector 71', 'Sector 71', 'Sector 71', 'Sector 71', 'Sector 71', 'Sector 71', 'Sector 71', 'Sector 72', 'Sector 72', 'Sector 72', 'Sector 72', 'Sector 72', 'Sector 72', 'Sector 72', 'Sector 72', 'Sector 72', 'Sector 72', 'Sector 72', 'Sector 72', 'Sector 72', 'Sector 72', 'Sector 72', 'Sector 72', 'Sector 72', 'Sector 72', 'Sector 72', 'Sector 72', 'Sector 72', 'Sector 72', 'Sector 72', 'Sector 72', 'Sector 72', 'Sector 72', 'Sector 72', 'Sector 72', 'Sector 72', 'Sector 72', 'Sector 72', 'Sector 72', 'Sector 72', 'Sector 72', 'Sector 72', 'Sector 72', 'Sector 72', 'Sector 72', 'Sector 72', 'Sector 72', 'Sector 72', 'Sector 72', 'Sector 72', 'Sector 72', 'Sector 72', 'Sector 72', 'Sector 72', 'Sector 72', 'Sector 72', 'Sector 72', 'Sector 72', 'Sector 72', 'Sector 72', 'Sector 72', 'Sector 72', 'Sector 72', 'Sector 72', 'Sector 72', 'Sector 72', 'Sector 72', 'Sector 72', 'Sector 8', 'Sector 8', 'Sector 83', 'Sector 93', 'Sector 93', 'Sector 93', 'Sector 93', 'Sector 93', 'Sector 93', 'Sector 93', 'Sector 93', 'Sector 93', 'Sector 93', 'Sector 93', 'Sector 93', 'Sector 93', 'Sector 93', 'Sector 93', 'Sector 93', 'Sector 93', 'Sector 93', 'Shopprix Mall', 'Shopprix Mall', 'Spice World Mall', 'Spice World Mall', 'Spice World Mall', 'Spice World Mall', 'Spice World Mall', 'Spice World Mall', 'Spice World Mall', 'Spice World Mall', 'Spice World Mall', 'Spice World Mall', 'Spice World Mall', 'Spice World Mall', 'Spice World Mall', 'Spice World Mall', 'Spice World Mall', 'Spice World Mall', 'Supertech Shopprix Mall', 'Supertech Shopprix Mall', 'Supertech Shopprix Mall', 'Supertech Shopprix Mall', 'Supertech Shopprix Mall', 'Supertech Shopprix Mall', 'Supertech Shopprix Mall', 'Supertech Shopprix Mall', 'Supertech Shopprix Mall', 'Supertech Shopprix Mall', 'Supertech Shopprix Mall', 'Supertech Shopprix Mall', 'Supertech Shopprix Mall', 'Supertech Shopprix Mall', 'Supertech Shopprix Mall', 'Supertech Shopprix Mall', 'Supertech Shopprix Mall', 'Supertech Shopprix Mall', 'Supertech Shopprix Mall', 'The Great India Place', 'The Great India Place', 'The Great India Place', 'The Great India Place', 'The Great India Place', 'The Great India Place', 'The Great India Place', 'The Great India Place', 'The Great India Place', 'The Great India Place', 'The Great India Place', 'The Great India Place', 'The Great India Place', 'The Great India Place', 'The Great India Place', 'The Great India Place', 'The Great India Place', 'The Great India Place', 'The Great India Place', 'The Great India Place', 'The Great India Place', 'The Great India Place', 'The Great India Place', 'The Great India Place', 'The Great India Place', 'The Great India Place', 'The Great India Place', 'The Great India Place', 'The Great India Place', 'The Great India Place', 'The Great India Place', 'The Great India Place', 'The Great India Place', 'The Great India Place', 'The Great India Place', 'The Great India Place', 'The Great India Place', 'Tulip Mall', 'Tulip Mall', 'Tulip Mall', 'Tulip Mall', 'Tulip Mall', 'Sector 9', 'Anandpuri', 'Fraser Road Area', 'Fraser Road Area', 'Fraser Road Area', 'Fraser Road Area', 'Golambar', 'Golambar', 'Golambar', 'Golambar', 'Hotel Maurya', 'Khajpura', 'Khajpura', 'Lodipur', 'Lodipur', 'Lodipur', 'Maurya Lok', 'Patliputra Colony', 'Sri Krishnapuri', 'Sri Krishnapuri', 'Sri Krishnapuri', 'Auroville', 'Auroville', 'Heritage Town', 'Hotel De Pondicherry', 'MG Road', 'MG Road', 'MG Road', 'MG Road', 'MG Road', 'The Promenade', 'The Promenade', 'Villa Shanti', 'White Town', 'White Town', 'White Town', 'White Town', 'White Town', 'White Town', 'White Town', 'White Town', 'Balewadi High Street', 'Baner', 'Baner', 'Deccan Gymkhana', 'Kalyani Nagar', 'Kalyani Nagar', 'Kalyani Nagar', 'Koregaon Park', 'Koregaon Park', 'Koregaon Park', 'Koregaon Park', 'Law College Road', 'Phoenix Market City', 'R Deccan Mall', 'Ravet', 'Senapati Bapat Road', 'Senapati Bapat Road', 'Spot 18 Mall', 'Viman Nagar', 'Wakad', 'Gandhi Nagar', 'Harmu', 'Harmu', 'Hindpiri', 'Hindpiri', 'Hindpiri', 'Hotel Capitol Hill', 'Kadru', 'Kanka', 'Kanka', 'Kanka', 'Lalpur', 'Lalpur', 'Lalpur', 'Lalpur', 'Lalpur', 'Lalpur', 'Radisson Blu', 'Spring City Mall', 'The Royal Retreat', 'Karkhana', 'Sainikpuri', 'Adajan Gam', 'Adajan Gam', 'Adajan Gam', 'Athwa', 'Athwa', 'Athwa', 'City Light', 'City Light', 'City Light', 'Golden Square', 'International Business Center', 'Nanpura', 'Piplod', 'Piplod', 'Piplod', 'Piplod', 'Vesu', 'Vesu', 'Vesu', 'Vesu', 'Alkapuri', 'Alkapuri', 'Alkapuri', 'Alkapuri', 'Alkapuri', 'Alkapuri', 'Alkapuri', 'Alkapuri', 'Diwalipura', 'Hotel Express Towers', 'M Cube Mall', 'Panchvati', 'Vadiwadi', 'Vadiwadi', 'Vadiwadi', 'Vadiwadi', 'Vadiwadi', 'Vadiwadi', 'Vadiwadi', 'Vadiwadi', 'Assi Ghat', 'Assi Ghat', 'Bhelupur', 'Bhelupur', 'Bhelupur', 'Dashaswmedh Road', 'Dashaswmedh Road', 'Dashaswmedh Road', 'Godaulia', 'Lanka', 'Lanka', 'Lanka', 'Nadesar', 'Nadesar', 'Radisson Hotel', 'Radisson Hotel', 'Shivala', 'Sigra', 'Sigra', 'Sunderpur', 'CMR Central Mall', 'Dwaraka Nagar', 'Dwaraka Nagar', 'Hotel GreenPark', 'Hotel Novotel', 'Jagadamba Junction', 'Kirlampudi Layout', 'Kirlampudi Layout', 'Lawsons Bay', 'Lawsons Bay', 'Maddilapalem', 'Maharani Peta', 'Maharani Peta', 'MVP Colony', 'Rushikonda', 'Sagar Nagar', 'Siripuram', 'Siripuram', 'The Park', 'Waltair Uplands', 'Dago', 'Bogor Timur', 'Bogor Utara', 'Cengkareng', 'Fatmawati', 'Gandaria City Mall', 'Grand Indonesia Mall', 'Grand Indonesia Mall', 'Hotel Shangri-La', 'Kelapa Gading', 'Kota Kasablanka', 'Penjaringan', 'Plaza Festival', 'Senopati', 'Senopati', 'Taman Impian Jaya Ancol', 'Tanjung Duren', 'Tebet', 'Thamrin', 'Alam Sutera Town Center', 'Pondok Aren', 'Balmoral', 'Britomart', 'Britomart', 'Britomart', 'Federal Street', 'Federal Street', 'Fort Street', 'Henderson', 'Lorne Street', 'Mission Bay', 'Mt Albert', 'Mt Eden', 'Mt Eden', 'Mt Eden', 'Newmarket', 'Parnell', 'Penrose', 'Sky City Metro', 'The Langham Hotel', 'Wynyard Quarter', 'Lyall Bay', 'Mt Victoria', 'Te Aro', 'Te Aro', 'Te Aro', 'Te Aro', 'Te Aro', 'Te Aro', 'Te Aro', 'Te Aro', 'Te Aro', 'Te Aro', 'Te Aro', 'Te Aro', 'Te Aro', 'Te Aro', 'Te Aro', 'Wellington Central', 'Wellington Central', 'Wellington Central', 'Alum Rock', 'Brindleyplace', 'Brindleyplace', 'Bullring Shopping Centre', 'Bullring Shopping Centre', 'Bullring Shopping Centre', 'City Centre', 'City Centre', 'Colmore Business District', 'Digbeth', 'Edgbaston', 'Handsworth', 'Harborne', 'Jewellery Quarter', 'Moseley', 'Moseley', 'Small Heath', 'Smethwick', 'Sparkhill', 'The Mailbox', 'Fountainbridge', 'Leith', 'Leith', 'Leith', 'Leith', 'New Town', 'New Town', 'New Town', 'New Town', 'Old Town', 'Old Town', 'Old Town', 'Old Town', 'Old Town', 'Old Town', 'Old Town', 'Old Town', 'Old Town', 'Tollcross', 'Twelve Picardy Place', 'Albemarle Street', 'Archer Street', 'Beak Street', 'Bishopsgate', 'Boundary Street', 'Broadwick Street', 'Charlotte Street', 'Chelsea', 'Conduit Street', 'Covent Garden', \"D'arblay Street\", 'Lexington Street', 'Long Acre', 'Mayfair', 'Mayfair', 'Portman Mews South', 'Tavistock Court', \"Upper St Martin's Lane\", \"Upper St Martin's Lane\", \"Walker's Court\", 'Cheetham Hill', 'Cheetham Hill', 'Deansgate', 'Deansgate', 'Levenshulme', 'Market Street', 'Market Street', 'Northern Quarter', 'Northern Quarter', 'Northern Quarter', 'Northern Quarter', 'Oxford Road', 'Oxford Road', 'Rusholme', 'Rusholme', 'Spinningfields', 'Spinningfields', 'Spinningfields', 'The Midland', 'The Midland', 'Ain Khalid', 'Al Doha Al Jadeeda', 'Al Emadi Financial Square', 'Al Ghanim', 'Al Hilal', 'Al Muntazah', 'Al Nasr', 'Barwa Towers', 'Caravan Complex', 'Fereej Bin Mahmoud', 'Ghanem Business Center', 'Hotel Intercontinental Doha', 'Mall of Qatar', 'Musheireb', 'Souq Waqif', 'The Gate', 'The St. Regis', 'The Westin Doha Hotel & Spa', 'Umm Ghuwailina', 'Umm Ghuwailina', 'Athlone', 'Cavendish Square', 'CBD', 'CBD', 'CBD', 'Claremont', 'De Waterkant', 'Gardens', 'Gardens', 'Green Point', 'Green Point', 'Green Point', 'Newlands', 'One and Only Hotel', 'Sea Point', 'Sea Point', 'V & A Waterfront', 'V & A Waterfront', 'Victoria Wharf', 'Victoria Wharf', 'City and Suburban', 'Marshalltown', 'Greenside', 'Parkhurst', 'Parkhurst', 'Parkhurst', 'Parktown North', 'Rosebank', 'Brooklyn', 'Brooklyn', 'Brooklyn', 'Faerie Glen', 'Faerie Glen', 'Garsfontein', 'Glenfair Boulevard', 'Greenlyn Village', 'Lynnwood', 'Menlyn Boutique Hotel', 'Menlyn Maine', 'Menlyn Shopping Centre', 'Menlyn Shopping Centre', 'The Club Centre', 'The Club Centre', 'Waterglen Shopping Centre', 'Waterkloof', 'Waterkloof', 'Waterkloof', 'West Park', 'Linden', 'Bryanston', 'Bryanston', 'Bryanston Shopping Centre', 'Illovo', 'Melrose Arch', 'Nelson Mandela Square', 'Nicolway Shopping Centre', 'Pineslopes Shopping Centre', 'Pineslopes Shopping Centre', 'Post Office Center', 'Waterfall Corner Mall', 'Bambalapitiya', 'Bambalapitiya', 'Cinnamon Gardens', 'Cinnamon Gardens', 'Cinnamon Gardens', 'Cinnamon Gardens', 'Dehiwala', 'Fort', 'Havelock Town', 'Havelock Town', 'Kollupitiya', 'Kollupitiya', 'Kollupitiya', 'Kollupitiya', 'Kollupitiya', 'Kollupitiya', 'Kollupitiya', 'Old Dutch Hospital', 'Rajagiriya', 'Slave Island', 'Armada AVM', 'Balgat', 'Balgat', '�ayyolu', '�ukurambar', 'Dikmen', 'Emek', 'Gazi Osman Pa��a', 'Gazi Osman Pa��a', 'Gazi Osman Pa��a', 'Kavakl۱dere', 'Kentpark AVM', 'K�_�_�_k Esat', 'K�_�_�_k Esat', 'K۱z۱lay', 'K۱z۱lay', 'Macunk�_y', 'Maltepe', '��mitk�_y', 'Y۱ld۱zevler', 'Asmal۱mescit', 'Bebek', 'Be��ikta�� Merkez', 'Caddebostan', 'Emirg��n', 'Kad۱k�_y Merkez', 'Karak�_y', 'Karak�_y', 'Karak�_y', 'Karak�_y', 'Ko��uyolu', 'Kuru�_e��me', 'Kuru�_e��me', 'Moda']\n"
     ]
    }
   ],
   "source": [
    "s1=[]\n",
    "temp=data['Locality'].to_list()\n",
    "for i in range(len(temp)):\n",
    "    s=temp[i]\n",
    "    s=s.split(\",\")\n",
    "    s1.append(s[0])\n",
    "print(s1)\n",
    "data['New_locality']=s1"
   ]
  },
  {
   "cell_type": "code",
   "execution_count": 65,
   "id": "03cb20f5",
   "metadata": {},
   "outputs": [
    {
     "data": {
      "text/plain": [
       "Index(['Restaurant ID', 'Restaurant Name', 'Country Code', 'City', 'Address',\n",
       "       'Locality', 'Locality Verbose', 'Longitude', 'Latitude', 'Cuisines',\n",
       "       'Average Cost for two', 'Currency', 'Has Table booking',\n",
       "       'Has Online delivery', 'Is delivering now', 'Switch to order menu',\n",
       "       'Price range', 'Aggregate rating', 'Rating color', 'Rating text',\n",
       "       'Votes', 'New_locality'],\n",
       "      dtype='object')"
      ]
     },
     "execution_count": 65,
     "metadata": {},
     "output_type": "execute_result"
    }
   ],
   "source": [
    "data.columns"
   ]
  },
  {
   "cell_type": "code",
   "execution_count": 66,
   "id": "f04389d9",
   "metadata": {},
   "outputs": [],
   "source": [
    "from sklearn.preprocessing import LabelEncoder\n",
    "le=LabelEncoder()\n",
    "en=le.fit_transform(data['Restaurant Name'])"
   ]
  },
  {
   "cell_type": "code",
   "execution_count": 67,
   "id": "df86a816",
   "metadata": {},
   "outputs": [
    {
     "data": {
      "text/plain": [
       "array([3748, 3172, 2896, ..., 3068,  512, 7240])"
      ]
     },
     "execution_count": 67,
     "metadata": {},
     "output_type": "execute_result"
    }
   ],
   "source": [
    "en"
   ]
  },
  {
   "cell_type": "code",
   "execution_count": 68,
   "id": "0a03af3a",
   "metadata": {},
   "outputs": [],
   "source": [
    "data['Restaurant name en']=en"
   ]
  },
  {
   "cell_type": "code",
   "execution_count": 69,
   "id": "9247ac8a",
   "metadata": {},
   "outputs": [
    {
     "data": {
      "text/html": [
       "<div>\n",
       "<style scoped>\n",
       "    .dataframe tbody tr th:only-of-type {\n",
       "        vertical-align: middle;\n",
       "    }\n",
       "\n",
       "    .dataframe tbody tr th {\n",
       "        vertical-align: top;\n",
       "    }\n",
       "\n",
       "    .dataframe thead th {\n",
       "        text-align: right;\n",
       "    }\n",
       "</style>\n",
       "<table border=\"1\" class=\"dataframe\">\n",
       "  <thead>\n",
       "    <tr style=\"text-align: right;\">\n",
       "      <th></th>\n",
       "      <th>Restaurant ID</th>\n",
       "      <th>Restaurant Name</th>\n",
       "      <th>Country Code</th>\n",
       "      <th>City</th>\n",
       "      <th>Address</th>\n",
       "      <th>Locality</th>\n",
       "      <th>Locality Verbose</th>\n",
       "      <th>Longitude</th>\n",
       "      <th>Latitude</th>\n",
       "      <th>Cuisines</th>\n",
       "      <th>...</th>\n",
       "      <th>Has Online delivery</th>\n",
       "      <th>Is delivering now</th>\n",
       "      <th>Switch to order menu</th>\n",
       "      <th>Price range</th>\n",
       "      <th>Aggregate rating</th>\n",
       "      <th>Rating color</th>\n",
       "      <th>Rating text</th>\n",
       "      <th>Votes</th>\n",
       "      <th>New_locality</th>\n",
       "      <th>Restaurant name en</th>\n",
       "    </tr>\n",
       "  </thead>\n",
       "  <tbody>\n",
       "    <tr>\n",
       "      <th>0</th>\n",
       "      <td>6317637</td>\n",
       "      <td>Le Petit Souffle</td>\n",
       "      <td>162</td>\n",
       "      <td>Makati City</td>\n",
       "      <td>Third Floor, Century City Mall, Kalayaan Avenu...</td>\n",
       "      <td>Century City Mall, Poblacion, Makati City</td>\n",
       "      <td>Century City Mall, Poblacion, Makati City, Mak...</td>\n",
       "      <td>121.027535</td>\n",
       "      <td>14.565443</td>\n",
       "      <td>French, Japanese, Desserts</td>\n",
       "      <td>...</td>\n",
       "      <td>No</td>\n",
       "      <td>No</td>\n",
       "      <td>No</td>\n",
       "      <td>3</td>\n",
       "      <td>4.8</td>\n",
       "      <td>Dark Green</td>\n",
       "      <td>Excellent</td>\n",
       "      <td>314</td>\n",
       "      <td>Century City Mall</td>\n",
       "      <td>3748</td>\n",
       "    </tr>\n",
       "  </tbody>\n",
       "</table>\n",
       "<p>1 rows × 23 columns</p>\n",
       "</div>"
      ],
      "text/plain": [
       "   Restaurant ID   Restaurant Name  Country Code         City  \\\n",
       "0        6317637  Le Petit Souffle           162  Makati City   \n",
       "\n",
       "                                             Address  \\\n",
       "0  Third Floor, Century City Mall, Kalayaan Avenu...   \n",
       "\n",
       "                                    Locality  \\\n",
       "0  Century City Mall, Poblacion, Makati City   \n",
       "\n",
       "                                    Locality Verbose   Longitude   Latitude  \\\n",
       "0  Century City Mall, Poblacion, Makati City, Mak...  121.027535  14.565443   \n",
       "\n",
       "                     Cuisines  ...  Has Online delivery Is delivering now  \\\n",
       "0  French, Japanese, Desserts  ...                   No                No   \n",
       "\n",
       "  Switch to order menu Price range Aggregate rating Rating color  Rating text  \\\n",
       "0                   No           3              4.8   Dark Green    Excellent   \n",
       "\n",
       "   Votes       New_locality Restaurant name en  \n",
       "0    314  Century City Mall               3748  \n",
       "\n",
       "[1 rows x 23 columns]"
      ]
     },
     "execution_count": 69,
     "metadata": {},
     "output_type": "execute_result"
    }
   ],
   "source": [
    "data.head(1)"
   ]
  },
  {
   "cell_type": "code",
   "execution_count": 70,
   "id": "938982cc",
   "metadata": {},
   "outputs": [],
   "source": [
    "x=data[['Aggregate rating','Restaurant name en']]"
   ]
  },
  {
   "cell_type": "code",
   "execution_count": 71,
   "id": "709db0ec",
   "metadata": {},
   "outputs": [
    {
     "data": {
      "text/html": [
       "<div>\n",
       "<style scoped>\n",
       "    .dataframe tbody tr th:only-of-type {\n",
       "        vertical-align: middle;\n",
       "    }\n",
       "\n",
       "    .dataframe tbody tr th {\n",
       "        vertical-align: top;\n",
       "    }\n",
       "\n",
       "    .dataframe thead th {\n",
       "        text-align: right;\n",
       "    }\n",
       "</style>\n",
       "<table border=\"1\" class=\"dataframe\">\n",
       "  <thead>\n",
       "    <tr style=\"text-align: right;\">\n",
       "      <th></th>\n",
       "      <th>Aggregate rating</th>\n",
       "      <th>Restaurant name en</th>\n",
       "    </tr>\n",
       "  </thead>\n",
       "  <tbody>\n",
       "    <tr>\n",
       "      <th>0</th>\n",
       "      <td>4.8</td>\n",
       "      <td>3748</td>\n",
       "    </tr>\n",
       "    <tr>\n",
       "      <th>1</th>\n",
       "      <td>4.5</td>\n",
       "      <td>3172</td>\n",
       "    </tr>\n",
       "    <tr>\n",
       "      <th>2</th>\n",
       "      <td>4.4</td>\n",
       "      <td>2896</td>\n",
       "    </tr>\n",
       "    <tr>\n",
       "      <th>3</th>\n",
       "      <td>4.9</td>\n",
       "      <td>4707</td>\n",
       "    </tr>\n",
       "    <tr>\n",
       "      <th>4</th>\n",
       "      <td>4.8</td>\n",
       "      <td>5523</td>\n",
       "    </tr>\n",
       "    <tr>\n",
       "      <th>...</th>\n",
       "      <td>...</td>\n",
       "      <td>...</td>\n",
       "    </tr>\n",
       "    <tr>\n",
       "      <th>9546</th>\n",
       "      <td>4.1</td>\n",
       "      <td>4443</td>\n",
       "    </tr>\n",
       "    <tr>\n",
       "      <th>9547</th>\n",
       "      <td>4.2</td>\n",
       "      <td>1310</td>\n",
       "    </tr>\n",
       "    <tr>\n",
       "      <th>9548</th>\n",
       "      <td>3.7</td>\n",
       "      <td>3068</td>\n",
       "    </tr>\n",
       "    <tr>\n",
       "      <th>9549</th>\n",
       "      <td>4.0</td>\n",
       "      <td>512</td>\n",
       "    </tr>\n",
       "    <tr>\n",
       "      <th>9550</th>\n",
       "      <td>4.0</td>\n",
       "      <td>7240</td>\n",
       "    </tr>\n",
       "  </tbody>\n",
       "</table>\n",
       "<p>9551 rows × 2 columns</p>\n",
       "</div>"
      ],
      "text/plain": [
       "      Aggregate rating  Restaurant name en\n",
       "0                  4.8                3748\n",
       "1                  4.5                3172\n",
       "2                  4.4                2896\n",
       "3                  4.9                4707\n",
       "4                  4.8                5523\n",
       "...                ...                 ...\n",
       "9546               4.1                4443\n",
       "9547               4.2                1310\n",
       "9548               3.7                3068\n",
       "9549               4.0                 512\n",
       "9550               4.0                7240\n",
       "\n",
       "[9551 rows x 2 columns]"
      ]
     },
     "execution_count": 71,
     "metadata": {},
     "output_type": "execute_result"
    }
   ],
   "source": [
    "x"
   ]
  },
  {
   "cell_type": "code",
   "execution_count": 72,
   "id": "c12aafc9",
   "metadata": {},
   "outputs": [],
   "source": [
    "#using aggregate rating as criteria for recommendation\n",
    "import numpy as np\n",
    "avg=np.array(x['Aggregate rating']).reshape(-1,1)\n",
    "rname=np.array(x['Restaurant name en']).reshape(-1,1)\n",
    "\n",
    "vec1=np.hstack([avg,rname])"
   ]
  },
  {
   "cell_type": "code",
   "execution_count": 73,
   "id": "2a174db1",
   "metadata": {},
   "outputs": [
    {
     "data": {
      "text/plain": [
       "array([[4.800e+00, 3.748e+03],\n",
       "       [4.500e+00, 3.172e+03],\n",
       "       [4.400e+00, 2.896e+03],\n",
       "       ...,\n",
       "       [3.700e+00, 3.068e+03],\n",
       "       [4.000e+00, 5.120e+02],\n",
       "       [4.000e+00, 7.240e+03]])"
      ]
     },
     "execution_count": 73,
     "metadata": {},
     "output_type": "execute_result"
    }
   ],
   "source": [
    "vec1"
   ]
  },
  {
   "cell_type": "code",
   "execution_count": 74,
   "id": "e9941517",
   "metadata": {},
   "outputs": [
    {
     "name": "stdout",
     "output_type": "stream",
     "text": [
      "[(2399, 0.999999999999975), (9113, 0.9999999999997531)]\n",
      "2399\n",
      "Hoppipola\n",
      "9113\n",
      "Hops n Grains\n"
     ]
    }
   ],
   "source": [
    "#using cosine similarity for getting recommendations\n",
    "from sklearn.metrics.pairwise import cosine_similarity\n",
    "sim=cosine_similarity(vec1)\n",
    "#print(sim)\n",
    "a=sim[1]\n",
    "#print(a)\n",
    "movies_list=sorted(list(enumerate(a)),reverse=True,key=lambda x:x[1])[1:3]\n",
    "print(movies_list)\n",
    "for i in movies_list:\n",
    "    b=i[0]\n",
    "    print(b)\n",
    "    c=data.iloc[b,:]\n",
    "    print(c['Restaurant Name'])"
   ]
  },
  {
   "cell_type": "code",
   "execution_count": 75,
   "id": "afc5bf01",
   "metadata": {},
   "outputs": [
    {
     "data": {
      "text/plain": [
       "array([[120519, 'Hops n Grains', 1, 'Panchkula',\n",
       "        'SCO 358, Sector 9, Panchkula', 'Sector 9',\n",
       "        'Sector 9, Panchkula', 76.849258, 30.6978586,\n",
       "        'North Indian, Middle Eastern, Pizza', 2000,\n",
       "        'Indian Rupees(Rs.)', 'No', 'No', 'No', 'No', 4, 4.2, 'Green',\n",
       "        'Very Good', 843, 'Sector 9', 2962]], dtype=object)"
      ]
     },
     "execution_count": 75,
     "metadata": {},
     "output_type": "execute_result"
    }
   ],
   "source": [
    "data[data['Restaurant Name']==\"Hops n Grains\"].values"
   ]
  },
  {
   "cell_type": "code",
   "execution_count": 76,
   "id": "dd2f7db9",
   "metadata": {},
   "outputs": [
    {
     "data": {
      "text/html": [
       "<style>#sk-container-id-4 {color: black;}#sk-container-id-4 pre{padding: 0;}#sk-container-id-4 div.sk-toggleable {background-color: white;}#sk-container-id-4 label.sk-toggleable__label {cursor: pointer;display: block;width: 100%;margin-bottom: 0;padding: 0.3em;box-sizing: border-box;text-align: center;}#sk-container-id-4 label.sk-toggleable__label-arrow:before {content: \"▸\";float: left;margin-right: 0.25em;color: #696969;}#sk-container-id-4 label.sk-toggleable__label-arrow:hover:before {color: black;}#sk-container-id-4 div.sk-estimator:hover label.sk-toggleable__label-arrow:before {color: black;}#sk-container-id-4 div.sk-toggleable__content {max-height: 0;max-width: 0;overflow: hidden;text-align: left;background-color: #f0f8ff;}#sk-container-id-4 div.sk-toggleable__content pre {margin: 0.2em;color: black;border-radius: 0.25em;background-color: #f0f8ff;}#sk-container-id-4 input.sk-toggleable__control:checked~div.sk-toggleable__content {max-height: 200px;max-width: 100%;overflow: auto;}#sk-container-id-4 input.sk-toggleable__control:checked~label.sk-toggleable__label-arrow:before {content: \"▾\";}#sk-container-id-4 div.sk-estimator input.sk-toggleable__control:checked~label.sk-toggleable__label {background-color: #d4ebff;}#sk-container-id-4 div.sk-label input.sk-toggleable__control:checked~label.sk-toggleable__label {background-color: #d4ebff;}#sk-container-id-4 input.sk-hidden--visually {border: 0;clip: rect(1px 1px 1px 1px);clip: rect(1px, 1px, 1px, 1px);height: 1px;margin: -1px;overflow: hidden;padding: 0;position: absolute;width: 1px;}#sk-container-id-4 div.sk-estimator {font-family: monospace;background-color: #f0f8ff;border: 1px dotted black;border-radius: 0.25em;box-sizing: border-box;margin-bottom: 0.5em;}#sk-container-id-4 div.sk-estimator:hover {background-color: #d4ebff;}#sk-container-id-4 div.sk-parallel-item::after {content: \"\";width: 100%;border-bottom: 1px solid gray;flex-grow: 1;}#sk-container-id-4 div.sk-label:hover label.sk-toggleable__label {background-color: #d4ebff;}#sk-container-id-4 div.sk-serial::before {content: \"\";position: absolute;border-left: 1px solid gray;box-sizing: border-box;top: 0;bottom: 0;left: 50%;z-index: 0;}#sk-container-id-4 div.sk-serial {display: flex;flex-direction: column;align-items: center;background-color: white;padding-right: 0.2em;padding-left: 0.2em;position: relative;}#sk-container-id-4 div.sk-item {position: relative;z-index: 1;}#sk-container-id-4 div.sk-parallel {display: flex;align-items: stretch;justify-content: center;background-color: white;position: relative;}#sk-container-id-4 div.sk-item::before, #sk-container-id-4 div.sk-parallel-item::before {content: \"\";position: absolute;border-left: 1px solid gray;box-sizing: border-box;top: 0;bottom: 0;left: 50%;z-index: -1;}#sk-container-id-4 div.sk-parallel-item {display: flex;flex-direction: column;z-index: 1;position: relative;background-color: white;}#sk-container-id-4 div.sk-parallel-item:first-child::after {align-self: flex-end;width: 50%;}#sk-container-id-4 div.sk-parallel-item:last-child::after {align-self: flex-start;width: 50%;}#sk-container-id-4 div.sk-parallel-item:only-child::after {width: 0;}#sk-container-id-4 div.sk-dashed-wrapped {border: 1px dashed gray;margin: 0 0.4em 0.5em 0.4em;box-sizing: border-box;padding-bottom: 0.4em;background-color: white;}#sk-container-id-4 div.sk-label label {font-family: monospace;font-weight: bold;display: inline-block;line-height: 1.2em;}#sk-container-id-4 div.sk-label-container {text-align: center;}#sk-container-id-4 div.sk-container {/* jupyter's `normalize.less` sets `[hidden] { display: none; }` but bootstrap.min.css set `[hidden] { display: none !important; }` so we also need the `!important` here to be able to override the default hidden behavior on the sphinx rendered scikit-learn.org. See: https://github.com/scikit-learn/scikit-learn/issues/21755 */display: inline-block !important;position: relative;}#sk-container-id-4 div.sk-text-repr-fallback {display: none;}</style><div id=\"sk-container-id-4\" class=\"sk-top-container\"><div class=\"sk-text-repr-fallback\"><pre>NearestNeighbors(metric=&#x27;cosine&#x27;, n_neighbors=4)</pre><b>In a Jupyter environment, please rerun this cell to show the HTML representation or trust the notebook. <br />On GitHub, the HTML representation is unable to render, please try loading this page with nbviewer.org.</b></div><div class=\"sk-container\" hidden><div class=\"sk-item\"><div class=\"sk-estimator sk-toggleable\"><input class=\"sk-toggleable__control sk-hidden--visually\" id=\"sk-estimator-id-4\" type=\"checkbox\" checked><label for=\"sk-estimator-id-4\" class=\"sk-toggleable__label sk-toggleable__label-arrow\">NearestNeighbors</label><div class=\"sk-toggleable__content\"><pre>NearestNeighbors(metric=&#x27;cosine&#x27;, n_neighbors=4)</pre></div></div></div></div></div>"
      ],
      "text/plain": [
       "NearestNeighbors(metric='cosine', n_neighbors=4)"
      ]
     },
     "execution_count": 76,
     "metadata": {},
     "output_type": "execute_result"
    }
   ],
   "source": [
    "#using knn for the same criteria\n",
    "knn.fit(vec1)"
   ]
  },
  {
   "cell_type": "code",
   "execution_count": 77,
   "id": "8b0f8687",
   "metadata": {},
   "outputs": [
    {
     "name": "stdout",
     "output_type": "stream",
     "text": [
      "[[   1 2399 9113  426]]\n"
     ]
    }
   ],
   "source": [
    "#giving index value of a particular restaurant as input in item_of_interest\n",
    "item_of_interest=1\n",
    "distances, indices = knn.kneighbors(vec1[item_of_interest].reshape(1, -1))\n",
    "print(indices)"
   ]
  },
  {
   "cell_type": "code",
   "execution_count": 78,
   "id": "7982bfee",
   "metadata": {},
   "outputs": [
    {
     "data": {
      "text/plain": [
       "Restaurant ID                                        120519\n",
       "Restaurant Name                               Hops n Grains\n",
       "Country Code                                              1\n",
       "City                                              Panchkula\n",
       "Address                        SCO 358, Sector 9, Panchkula\n",
       "Locality                                           Sector 9\n",
       "Locality Verbose                        Sector 9, Panchkula\n",
       "Longitude                                         76.849258\n",
       "Latitude                                          30.697859\n",
       "Cuisines                North Indian, Middle Eastern, Pizza\n",
       "Average Cost for two                                   2000\n",
       "Currency                                 Indian Rupees(Rs.)\n",
       "Has Table booking                                        No\n",
       "Has Online delivery                                      No\n",
       "Is delivering now                                        No\n",
       "Switch to order menu                                     No\n",
       "Price range                                               4\n",
       "Aggregate rating                                        4.2\n",
       "Rating color                                          Green\n",
       "Rating text                                       Very Good\n",
       "Votes                                                   843\n",
       "New_locality                                       Sector 9\n",
       "Restaurant name en                                     2962\n",
       "Name: 9113, dtype: object"
      ]
     },
     "execution_count": 78,
     "metadata": {},
     "output_type": "execute_result"
    }
   ],
   "source": [
    "data.iloc[9113,:]"
   ]
  },
  {
   "cell_type": "code",
   "execution_count": 79,
   "id": "c41a5938",
   "metadata": {},
   "outputs": [
    {
     "data": {
      "text/plain": [
       "Restaurant ID                                                     6304287\n",
       "Restaurant Name                                          Izakaya Kikufuji\n",
       "Country Code                                                          162\n",
       "City                                                          Makati City\n",
       "Address                 Little Tokyo, 2277 Chino Roces Avenue, Legaspi...\n",
       "Locality                       Little Tokyo, Legaspi Village, Makati City\n",
       "Locality Verbose        Little Tokyo, Legaspi Village, Makati City, Ma...\n",
       "Longitude                                                      121.014101\n",
       "Latitude                                                        14.553708\n",
       "Cuisines                                                         Japanese\n",
       "Average Cost for two                                                 1200\n",
       "Currency                                                 Botswana Pula(P)\n",
       "Has Table booking                                                     Yes\n",
       "Has Online delivery                                                    No\n",
       "Is delivering now                                                      No\n",
       "Switch to order menu                                                   No\n",
       "Price range                                                             3\n",
       "Aggregate rating                                                      4.5\n",
       "Rating color                                                   Dark Green\n",
       "Rating text                                                     Excellent\n",
       "Votes                                                                 591\n",
       "New_locality                                                 Little Tokyo\n",
       "Restaurant name en                                                   3172\n",
       "Name: 1, dtype: object"
      ]
     },
     "execution_count": 79,
     "metadata": {},
     "output_type": "execute_result"
    }
   ],
   "source": [
    "data.iloc[1,:]"
   ]
  },
  {
   "cell_type": "code",
   "execution_count": 80,
   "id": "d5c6cfcf",
   "metadata": {},
   "outputs": [],
   "source": [
    "#using KNN for recommendation\n",
    "#using cuisines,locality and aggregate rating as criteria for recommendation\n",
    "y=data.iloc[:,:]"
   ]
  },
  {
   "cell_type": "code",
   "execution_count": 81,
   "id": "37e74dbf",
   "metadata": {},
   "outputs": [
    {
     "data": {
      "text/plain": [
       "Index(['Restaurant ID', 'Restaurant Name', 'Country Code', 'City', 'Address',\n",
       "       'Locality', 'Locality Verbose', 'Longitude', 'Latitude', 'Cuisines',\n",
       "       'Average Cost for two', 'Currency', 'Has Table booking',\n",
       "       'Has Online delivery', 'Is delivering now', 'Switch to order menu',\n",
       "       'Price range', 'Aggregate rating', 'Rating color', 'Rating text',\n",
       "       'Votes', 'New_locality', 'Restaurant name en'],\n",
       "      dtype='object')"
      ]
     },
     "execution_count": 81,
     "metadata": {},
     "output_type": "execute_result"
    }
   ],
   "source": [
    "y.columns"
   ]
  },
  {
   "cell_type": "code",
   "execution_count": 82,
   "id": "ac80f29d",
   "metadata": {},
   "outputs": [],
   "source": [
    "new_c=le.fit_transform(y['Cuisines'])"
   ]
  },
  {
   "cell_type": "code",
   "execution_count": 83,
   "id": "60260fd6",
   "metadata": {},
   "outputs": [],
   "source": [
    "le.fit_transform(data['Cuisines'])\n",
    "new_l=le.fit_transform(y['New_locality'])"
   ]
  },
  {
   "cell_type": "code",
   "execution_count": 84,
   "id": "1dd5dfd2",
   "metadata": {},
   "outputs": [],
   "source": [
    "rest_id=y['Restaurant ID']"
   ]
  },
  {
   "cell_type": "code",
   "execution_count": 85,
   "id": "8f19b5dd",
   "metadata": {},
   "outputs": [
    {
     "data": {
      "text/plain": [
       "array([[6.317637e+06, 9.200000e+02, 1.670000e+02, 4.800000e+00],\n",
       "       [6.304287e+06, 1.111000e+03, 5.830000e+02, 4.500000e+00],\n",
       "       [6.300002e+06, 1.671000e+03, 3.020000e+02, 4.400000e+00],\n",
       "       ...,\n",
       "       [5.915807e+06, 1.110000e+03, 5.450000e+02, 3.700000e+00],\n",
       "       [5.916112e+06, 1.657000e+03, 5.450000e+02, 4.000000e+00],\n",
       "       [5.927402e+06, 3.310000e+02, 6.590000e+02, 4.000000e+00]])"
      ]
     },
     "execution_count": 85,
     "metadata": {},
     "output_type": "execute_result"
    }
   ],
   "source": [
    "rest_id=np.array(rest_id).reshape(-1,1)\n",
    "new_c=np.array(new_c).reshape(-1,1)\n",
    "new_l=np.array(new_l).reshape(-1,1)\n",
    "price=np.array(y['Aggregate rating']).reshape(-1,1)\n",
    "vec=np.hstack([rest_id,new_c,new_l,price])\n",
    "vec"
   ]
  },
  {
   "cell_type": "code",
   "execution_count": 86,
   "id": "2b687a37",
   "metadata": {},
   "outputs": [],
   "source": [
    "from sklearn.neighbors import NearestNeighbors\n",
    "knn=NearestNeighbors(n_neighbors=4,metric='cosine')"
   ]
  },
  {
   "cell_type": "code",
   "execution_count": 87,
   "id": "6841f195",
   "metadata": {},
   "outputs": [
    {
     "data": {
      "text/html": [
       "<style>#sk-container-id-5 {color: black;}#sk-container-id-5 pre{padding: 0;}#sk-container-id-5 div.sk-toggleable {background-color: white;}#sk-container-id-5 label.sk-toggleable__label {cursor: pointer;display: block;width: 100%;margin-bottom: 0;padding: 0.3em;box-sizing: border-box;text-align: center;}#sk-container-id-5 label.sk-toggleable__label-arrow:before {content: \"▸\";float: left;margin-right: 0.25em;color: #696969;}#sk-container-id-5 label.sk-toggleable__label-arrow:hover:before {color: black;}#sk-container-id-5 div.sk-estimator:hover label.sk-toggleable__label-arrow:before {color: black;}#sk-container-id-5 div.sk-toggleable__content {max-height: 0;max-width: 0;overflow: hidden;text-align: left;background-color: #f0f8ff;}#sk-container-id-5 div.sk-toggleable__content pre {margin: 0.2em;color: black;border-radius: 0.25em;background-color: #f0f8ff;}#sk-container-id-5 input.sk-toggleable__control:checked~div.sk-toggleable__content {max-height: 200px;max-width: 100%;overflow: auto;}#sk-container-id-5 input.sk-toggleable__control:checked~label.sk-toggleable__label-arrow:before {content: \"▾\";}#sk-container-id-5 div.sk-estimator input.sk-toggleable__control:checked~label.sk-toggleable__label {background-color: #d4ebff;}#sk-container-id-5 div.sk-label input.sk-toggleable__control:checked~label.sk-toggleable__label {background-color: #d4ebff;}#sk-container-id-5 input.sk-hidden--visually {border: 0;clip: rect(1px 1px 1px 1px);clip: rect(1px, 1px, 1px, 1px);height: 1px;margin: -1px;overflow: hidden;padding: 0;position: absolute;width: 1px;}#sk-container-id-5 div.sk-estimator {font-family: monospace;background-color: #f0f8ff;border: 1px dotted black;border-radius: 0.25em;box-sizing: border-box;margin-bottom: 0.5em;}#sk-container-id-5 div.sk-estimator:hover {background-color: #d4ebff;}#sk-container-id-5 div.sk-parallel-item::after {content: \"\";width: 100%;border-bottom: 1px solid gray;flex-grow: 1;}#sk-container-id-5 div.sk-label:hover label.sk-toggleable__label {background-color: #d4ebff;}#sk-container-id-5 div.sk-serial::before {content: \"\";position: absolute;border-left: 1px solid gray;box-sizing: border-box;top: 0;bottom: 0;left: 50%;z-index: 0;}#sk-container-id-5 div.sk-serial {display: flex;flex-direction: column;align-items: center;background-color: white;padding-right: 0.2em;padding-left: 0.2em;position: relative;}#sk-container-id-5 div.sk-item {position: relative;z-index: 1;}#sk-container-id-5 div.sk-parallel {display: flex;align-items: stretch;justify-content: center;background-color: white;position: relative;}#sk-container-id-5 div.sk-item::before, #sk-container-id-5 div.sk-parallel-item::before {content: \"\";position: absolute;border-left: 1px solid gray;box-sizing: border-box;top: 0;bottom: 0;left: 50%;z-index: -1;}#sk-container-id-5 div.sk-parallel-item {display: flex;flex-direction: column;z-index: 1;position: relative;background-color: white;}#sk-container-id-5 div.sk-parallel-item:first-child::after {align-self: flex-end;width: 50%;}#sk-container-id-5 div.sk-parallel-item:last-child::after {align-self: flex-start;width: 50%;}#sk-container-id-5 div.sk-parallel-item:only-child::after {width: 0;}#sk-container-id-5 div.sk-dashed-wrapped {border: 1px dashed gray;margin: 0 0.4em 0.5em 0.4em;box-sizing: border-box;padding-bottom: 0.4em;background-color: white;}#sk-container-id-5 div.sk-label label {font-family: monospace;font-weight: bold;display: inline-block;line-height: 1.2em;}#sk-container-id-5 div.sk-label-container {text-align: center;}#sk-container-id-5 div.sk-container {/* jupyter's `normalize.less` sets `[hidden] { display: none; }` but bootstrap.min.css set `[hidden] { display: none !important; }` so we also need the `!important` here to be able to override the default hidden behavior on the sphinx rendered scikit-learn.org. See: https://github.com/scikit-learn/scikit-learn/issues/21755 */display: inline-block !important;position: relative;}#sk-container-id-5 div.sk-text-repr-fallback {display: none;}</style><div id=\"sk-container-id-5\" class=\"sk-top-container\"><div class=\"sk-text-repr-fallback\"><pre>NearestNeighbors(metric=&#x27;cosine&#x27;, n_neighbors=4)</pre><b>In a Jupyter environment, please rerun this cell to show the HTML representation or trust the notebook. <br />On GitHub, the HTML representation is unable to render, please try loading this page with nbviewer.org.</b></div><div class=\"sk-container\" hidden><div class=\"sk-item\"><div class=\"sk-estimator sk-toggleable\"><input class=\"sk-toggleable__control sk-hidden--visually\" id=\"sk-estimator-id-5\" type=\"checkbox\" checked><label for=\"sk-estimator-id-5\" class=\"sk-toggleable__label sk-toggleable__label-arrow\">NearestNeighbors</label><div class=\"sk-toggleable__content\"><pre>NearestNeighbors(metric=&#x27;cosine&#x27;, n_neighbors=4)</pre></div></div></div></div></div>"
      ],
      "text/plain": [
       "NearestNeighbors(metric='cosine', n_neighbors=4)"
      ]
     },
     "execution_count": 87,
     "metadata": {},
     "output_type": "execute_result"
    }
   ],
   "source": [
    "knn.fit(vec)"
   ]
  },
  {
   "cell_type": "code",
   "execution_count": 88,
   "id": "0f35e468",
   "metadata": {},
   "outputs": [],
   "source": [
    "#giving index value of a particular restaurant as input in item_of_interest\n",
    "item_of_interest=20\n",
    "distances, indices = knn.kneighbors(vec[item_of_interest].reshape(1, -1))"
   ]
  },
  {
   "cell_type": "code",
   "execution_count": 89,
   "id": "0d1d92f6",
   "metadata": {},
   "outputs": [
    {
     "name": "stdout",
     "output_type": "stream",
     "text": [
      "[[  20    7 9327 9494]]\n"
     ]
    }
   ],
   "source": [
    "print(indices)"
   ]
  },
  {
   "cell_type": "code",
   "execution_count": 90,
   "id": "8c75fb30",
   "metadata": {},
   "outputs": [
    {
     "data": {
      "text/plain": [
       "Restaurant ID                                                     6301290\n",
       "Restaurant Name                                                   Vikings\n",
       "Country Code                                                          162\n",
       "City                                                           Pasay City\n",
       "Address                 Building B, By The Bay, Seaside Boulevard, Mal...\n",
       "Locality                  SM by the Bay, Mall of Asia Complex, Pasay City\n",
       "Locality Verbose        SM by the Bay, Mall of Asia Complex, Pasay Cit...\n",
       "Longitude                                                      120.979333\n",
       "Latitude                                                            14.54\n",
       "Cuisines                               Seafood, Filipino, Asian, European\n",
       "Average Cost for two                                                 2000\n",
       "Currency                                                 Botswana Pula(P)\n",
       "Has Table booking                                                     Yes\n",
       "Has Online delivery                                                    No\n",
       "Is delivering now                                                      No\n",
       "Switch to order menu                                                   No\n",
       "Price range                                                             4\n",
       "Aggregate rating                                                      4.2\n",
       "Rating color                                                        Green\n",
       "Rating text                                                     Very Good\n",
       "Votes                                                                 677\n",
       "New_locality                                                SM by the Bay\n",
       "Restaurant name en                                                   7179\n",
       "Name: 7, dtype: object"
      ]
     },
     "execution_count": 90,
     "metadata": {},
     "output_type": "execute_result"
    }
   ],
   "source": [
    "y.iloc[7,:]"
   ]
  },
  {
   "cell_type": "code",
   "execution_count": 91,
   "id": "742f4972",
   "metadata": {},
   "outputs": [
    {
     "data": {
      "text/plain": [
       "Restaurant ID                                                     6315438\n",
       "Restaurant Name                                            NIU by Vikings\n",
       "Country Code                                                          162\n",
       "City                                                          Taguig City\n",
       "Address                 Sixth Floor, SM Aura Premier, C5 Road Corner 2...\n",
       "Locality                SM Aura Premier, Bonifacio Global City, Taguig...\n",
       "Locality Verbose        SM Aura Premier, Bonifacio Global City, Taguig...\n",
       "Longitude                                                      121.053725\n",
       "Latitude                                                        14.545858\n",
       "Cuisines                       Seafood, American, Mediterranean, Japanese\n",
       "Average Cost for two                                                 3000\n",
       "Currency                                                 Botswana Pula(P)\n",
       "Has Table booking                                                     Yes\n",
       "Has Online delivery                                                    No\n",
       "Is delivering now                                                      No\n",
       "Switch to order menu                                                   No\n",
       "Price range                                                             4\n",
       "Aggregate rating                                                      4.7\n",
       "Rating color                                                   Dark Green\n",
       "Rating text                                                     Excellent\n",
       "Votes                                                                 535\n",
       "New_locality                                              SM Aura Premier\n",
       "Restaurant name en                                                   4420\n",
       "Name: 20, dtype: object"
      ]
     },
     "execution_count": 91,
     "metadata": {},
     "output_type": "execute_result"
    }
   ],
   "source": [
    "y.iloc[20,:]"
   ]
  }
 ],
 "metadata": {
  "kernelspec": {
   "display_name": "Python 3 (ipykernel)",
   "language": "python",
   "name": "python3"
  },
  "language_info": {
   "codemirror_mode": {
    "name": "ipython",
    "version": 3
   },
   "file_extension": ".py",
   "mimetype": "text/x-python",
   "name": "python",
   "nbconvert_exporter": "python",
   "pygments_lexer": "ipython3",
   "version": "3.11.5"
  }
 },
 "nbformat": 4,
 "nbformat_minor": 5
}
